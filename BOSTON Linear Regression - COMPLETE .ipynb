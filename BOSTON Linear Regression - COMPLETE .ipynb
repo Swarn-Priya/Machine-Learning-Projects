{
 "cells": [
  {
   "cell_type": "code",
   "execution_count": 1,
   "id": "713281be",
   "metadata": {},
   "outputs": [],
   "source": [
    "import numpy as np\n",
    "import pandas as pd\n",
    "import matplotlib.pyplot as plt\n",
    "%matplotlib inline\n",
    "import seaborn as sns\n",
    "sns.set()\n",
    "import warnings\n",
    "warnings.filterwarnings('ignore')"
   ]
  },
  {
   "cell_type": "code",
   "execution_count": null,
   "id": "d552943d",
   "metadata": {},
   "outputs": [],
   "source": []
  },
  {
   "cell_type": "code",
   "execution_count": 2,
   "id": "11b43e0e",
   "metadata": {},
   "outputs": [
    {
     "data": {
      "text/html": [
       "<div>\n",
       "<style scoped>\n",
       "    .dataframe tbody tr th:only-of-type {\n",
       "        vertical-align: middle;\n",
       "    }\n",
       "\n",
       "    .dataframe tbody tr th {\n",
       "        vertical-align: top;\n",
       "    }\n",
       "\n",
       "    .dataframe thead th {\n",
       "        text-align: right;\n",
       "    }\n",
       "</style>\n",
       "<table border=\"1\" class=\"dataframe\">\n",
       "  <thead>\n",
       "    <tr style=\"text-align: right;\">\n",
       "      <th></th>\n",
       "      <th>CRIM</th>\n",
       "      <th>ZN</th>\n",
       "      <th>INDUS</th>\n",
       "      <th>CHAS</th>\n",
       "      <th>NX</th>\n",
       "      <th>RM</th>\n",
       "      <th>AGE</th>\n",
       "      <th>DIS</th>\n",
       "      <th>RAD</th>\n",
       "      <th>TAX</th>\n",
       "      <th>PTRATIO</th>\n",
       "      <th>B</th>\n",
       "      <th>LSTAT</th>\n",
       "      <th>MEDV</th>\n",
       "    </tr>\n",
       "  </thead>\n",
       "  <tbody>\n",
       "    <tr>\n",
       "      <th>0</th>\n",
       "      <td>0.00632</td>\n",
       "      <td>18.0</td>\n",
       "      <td>2.31</td>\n",
       "      <td>0</td>\n",
       "      <td>0.538</td>\n",
       "      <td>6.575</td>\n",
       "      <td>65.2</td>\n",
       "      <td>4.0900</td>\n",
       "      <td>1</td>\n",
       "      <td>296.0</td>\n",
       "      <td>15.3</td>\n",
       "      <td>396.90</td>\n",
       "      <td>4.98</td>\n",
       "      <td>24.0</td>\n",
       "    </tr>\n",
       "    <tr>\n",
       "      <th>1</th>\n",
       "      <td>0.02731</td>\n",
       "      <td>0.0</td>\n",
       "      <td>7.07</td>\n",
       "      <td>0</td>\n",
       "      <td>0.469</td>\n",
       "      <td>6.421</td>\n",
       "      <td>78.9</td>\n",
       "      <td>4.9671</td>\n",
       "      <td>2</td>\n",
       "      <td>242.0</td>\n",
       "      <td>17.8</td>\n",
       "      <td>396.90</td>\n",
       "      <td>9.14</td>\n",
       "      <td>21.6</td>\n",
       "    </tr>\n",
       "    <tr>\n",
       "      <th>2</th>\n",
       "      <td>0.02729</td>\n",
       "      <td>0.0</td>\n",
       "      <td>7.07</td>\n",
       "      <td>0</td>\n",
       "      <td>0.469</td>\n",
       "      <td>7.185</td>\n",
       "      <td>61.1</td>\n",
       "      <td>4.9671</td>\n",
       "      <td>2</td>\n",
       "      <td>242.0</td>\n",
       "      <td>17.8</td>\n",
       "      <td>392.83</td>\n",
       "      <td>4.03</td>\n",
       "      <td>34.7</td>\n",
       "    </tr>\n",
       "    <tr>\n",
       "      <th>3</th>\n",
       "      <td>0.03237</td>\n",
       "      <td>0.0</td>\n",
       "      <td>2.18</td>\n",
       "      <td>0</td>\n",
       "      <td>0.458</td>\n",
       "      <td>6.998</td>\n",
       "      <td>45.8</td>\n",
       "      <td>6.0622</td>\n",
       "      <td>3</td>\n",
       "      <td>222.0</td>\n",
       "      <td>18.7</td>\n",
       "      <td>394.63</td>\n",
       "      <td>2.94</td>\n",
       "      <td>33.4</td>\n",
       "    </tr>\n",
       "    <tr>\n",
       "      <th>4</th>\n",
       "      <td>0.06905</td>\n",
       "      <td>0.0</td>\n",
       "      <td>2.18</td>\n",
       "      <td>0</td>\n",
       "      <td>0.458</td>\n",
       "      <td>7.147</td>\n",
       "      <td>54.2</td>\n",
       "      <td>6.0622</td>\n",
       "      <td>3</td>\n",
       "      <td>222.0</td>\n",
       "      <td>18.7</td>\n",
       "      <td>396.90</td>\n",
       "      <td>5.33</td>\n",
       "      <td>36.2</td>\n",
       "    </tr>\n",
       "  </tbody>\n",
       "</table>\n",
       "</div>"
      ],
      "text/plain": [
       "      CRIM    ZN  INDUS  CHAS     NX     RM   AGE     DIS  RAD    TAX  \\\n",
       "0  0.00632  18.0   2.31     0  0.538  6.575  65.2  4.0900    1  296.0   \n",
       "1  0.02731   0.0   7.07     0  0.469  6.421  78.9  4.9671    2  242.0   \n",
       "2  0.02729   0.0   7.07     0  0.469  7.185  61.1  4.9671    2  242.0   \n",
       "3  0.03237   0.0   2.18     0  0.458  6.998  45.8  6.0622    3  222.0   \n",
       "4  0.06905   0.0   2.18     0  0.458  7.147  54.2  6.0622    3  222.0   \n",
       "\n",
       "   PTRATIO       B  LSTAT  MEDV  \n",
       "0     15.3  396.90   4.98  24.0  \n",
       "1     17.8  396.90   9.14  21.6  \n",
       "2     17.8  392.83   4.03  34.7  \n",
       "3     18.7  394.63   2.94  33.4  \n",
       "4     18.7  396.90   5.33  36.2  "
      ]
     },
     "execution_count": 2,
     "metadata": {},
     "output_type": "execute_result"
    }
   ],
   "source": [
    "dfb = pd.read_csv(\"E:\\\\LEARNBAY\\\\Project - Jan\\\\march\\\\boston.csv\")\n",
    "dfb.head()"
   ]
  },
  {
   "cell_type": "code",
   "execution_count": 3,
   "id": "28a9ebd5",
   "metadata": {},
   "outputs": [
    {
     "name": "stdout",
     "output_type": "stream",
     "text": [
      "<class 'pandas.core.frame.DataFrame'>\n",
      "RangeIndex: 506 entries, 0 to 505\n",
      "Data columns (total 14 columns):\n",
      " #   Column   Non-Null Count  Dtype  \n",
      "---  ------   --------------  -----  \n",
      " 0   CRIM     506 non-null    float64\n",
      " 1   ZN       506 non-null    float64\n",
      " 2   INDUS    506 non-null    float64\n",
      " 3   CHAS     506 non-null    int64  \n",
      " 4   NX       506 non-null    float64\n",
      " 5   RM       506 non-null    float64\n",
      " 6   AGE      506 non-null    float64\n",
      " 7   DIS      506 non-null    float64\n",
      " 8   RAD      506 non-null    int64  \n",
      " 9   TAX      506 non-null    float64\n",
      " 10  PTRATIO  506 non-null    float64\n",
      " 11  B        506 non-null    float64\n",
      " 12  LSTAT    506 non-null    float64\n",
      " 13  MEDV     506 non-null    float64\n",
      "dtypes: float64(12), int64(2)\n",
      "memory usage: 55.5 KB\n"
     ]
    }
   ],
   "source": [
    "dfb.info()"
   ]
  },
  {
   "cell_type": "code",
   "execution_count": 4,
   "id": "309ee578",
   "metadata": {},
   "outputs": [
    {
     "data": {
      "text/plain": [
       "CRIM       0\n",
       "ZN         0\n",
       "INDUS      0\n",
       "CHAS       0\n",
       "NX         0\n",
       "RM         0\n",
       "AGE        0\n",
       "DIS        0\n",
       "RAD        0\n",
       "TAX        0\n",
       "PTRATIO    0\n",
       "B          0\n",
       "LSTAT      0\n",
       "MEDV       0\n",
       "dtype: int64"
      ]
     },
     "execution_count": 4,
     "metadata": {},
     "output_type": "execute_result"
    }
   ],
   "source": [
    "dfb.isnull().sum()"
   ]
  },
  {
   "cell_type": "code",
   "execution_count": 5,
   "id": "69620a11",
   "metadata": {},
   "outputs": [
    {
     "data": {
      "text/plain": [
       "(506, 14)"
      ]
     },
     "execution_count": 5,
     "metadata": {},
     "output_type": "execute_result"
    }
   ],
   "source": [
    "dfb.shape"
   ]
  },
  {
   "cell_type": "code",
   "execution_count": 6,
   "id": "62e02820",
   "metadata": {},
   "outputs": [
    {
     "data": {
      "text/html": [
       "<div>\n",
       "<style scoped>\n",
       "    .dataframe tbody tr th:only-of-type {\n",
       "        vertical-align: middle;\n",
       "    }\n",
       "\n",
       "    .dataframe tbody tr th {\n",
       "        vertical-align: top;\n",
       "    }\n",
       "\n",
       "    .dataframe thead th {\n",
       "        text-align: right;\n",
       "    }\n",
       "</style>\n",
       "<table border=\"1\" class=\"dataframe\">\n",
       "  <thead>\n",
       "    <tr style=\"text-align: right;\">\n",
       "      <th></th>\n",
       "      <th>CRIM</th>\n",
       "      <th>ZN</th>\n",
       "      <th>INDUS</th>\n",
       "      <th>CHAS</th>\n",
       "      <th>NX</th>\n",
       "      <th>RM</th>\n",
       "      <th>AGE</th>\n",
       "      <th>DIS</th>\n",
       "      <th>RAD</th>\n",
       "      <th>TAX</th>\n",
       "      <th>PTRATIO</th>\n",
       "      <th>B</th>\n",
       "      <th>LSTAT</th>\n",
       "      <th>MEDV</th>\n",
       "    </tr>\n",
       "  </thead>\n",
       "  <tbody>\n",
       "    <tr>\n",
       "      <th>count</th>\n",
       "      <td>506.000000</td>\n",
       "      <td>506.000000</td>\n",
       "      <td>506.000000</td>\n",
       "      <td>506.000000</td>\n",
       "      <td>506.000000</td>\n",
       "      <td>506.000000</td>\n",
       "      <td>506.000000</td>\n",
       "      <td>506.000000</td>\n",
       "      <td>506.000000</td>\n",
       "      <td>506.000000</td>\n",
       "      <td>506.000000</td>\n",
       "      <td>506.000000</td>\n",
       "      <td>506.000000</td>\n",
       "      <td>506.000000</td>\n",
       "    </tr>\n",
       "    <tr>\n",
       "      <th>mean</th>\n",
       "      <td>3.613524</td>\n",
       "      <td>11.363636</td>\n",
       "      <td>11.136779</td>\n",
       "      <td>0.069170</td>\n",
       "      <td>0.554695</td>\n",
       "      <td>6.284634</td>\n",
       "      <td>68.574901</td>\n",
       "      <td>3.795043</td>\n",
       "      <td>9.549407</td>\n",
       "      <td>408.237154</td>\n",
       "      <td>18.455534</td>\n",
       "      <td>356.674032</td>\n",
       "      <td>12.653063</td>\n",
       "      <td>22.532806</td>\n",
       "    </tr>\n",
       "    <tr>\n",
       "      <th>std</th>\n",
       "      <td>8.601545</td>\n",
       "      <td>23.322453</td>\n",
       "      <td>6.860353</td>\n",
       "      <td>0.253994</td>\n",
       "      <td>0.115878</td>\n",
       "      <td>0.702617</td>\n",
       "      <td>28.148861</td>\n",
       "      <td>2.105710</td>\n",
       "      <td>8.707259</td>\n",
       "      <td>168.537116</td>\n",
       "      <td>2.164946</td>\n",
       "      <td>91.294864</td>\n",
       "      <td>7.141062</td>\n",
       "      <td>9.197104</td>\n",
       "    </tr>\n",
       "    <tr>\n",
       "      <th>min</th>\n",
       "      <td>0.006320</td>\n",
       "      <td>0.000000</td>\n",
       "      <td>0.460000</td>\n",
       "      <td>0.000000</td>\n",
       "      <td>0.385000</td>\n",
       "      <td>3.561000</td>\n",
       "      <td>2.900000</td>\n",
       "      <td>1.129600</td>\n",
       "      <td>1.000000</td>\n",
       "      <td>187.000000</td>\n",
       "      <td>12.600000</td>\n",
       "      <td>0.320000</td>\n",
       "      <td>1.730000</td>\n",
       "      <td>5.000000</td>\n",
       "    </tr>\n",
       "    <tr>\n",
       "      <th>25%</th>\n",
       "      <td>0.082045</td>\n",
       "      <td>0.000000</td>\n",
       "      <td>5.190000</td>\n",
       "      <td>0.000000</td>\n",
       "      <td>0.449000</td>\n",
       "      <td>5.885500</td>\n",
       "      <td>45.025000</td>\n",
       "      <td>2.100175</td>\n",
       "      <td>4.000000</td>\n",
       "      <td>279.000000</td>\n",
       "      <td>17.400000</td>\n",
       "      <td>375.377500</td>\n",
       "      <td>6.950000</td>\n",
       "      <td>17.025000</td>\n",
       "    </tr>\n",
       "    <tr>\n",
       "      <th>50%</th>\n",
       "      <td>0.256510</td>\n",
       "      <td>0.000000</td>\n",
       "      <td>9.690000</td>\n",
       "      <td>0.000000</td>\n",
       "      <td>0.538000</td>\n",
       "      <td>6.208500</td>\n",
       "      <td>77.500000</td>\n",
       "      <td>3.207450</td>\n",
       "      <td>5.000000</td>\n",
       "      <td>330.000000</td>\n",
       "      <td>19.050000</td>\n",
       "      <td>391.440000</td>\n",
       "      <td>11.360000</td>\n",
       "      <td>21.200000</td>\n",
       "    </tr>\n",
       "    <tr>\n",
       "      <th>75%</th>\n",
       "      <td>3.677083</td>\n",
       "      <td>12.500000</td>\n",
       "      <td>18.100000</td>\n",
       "      <td>0.000000</td>\n",
       "      <td>0.624000</td>\n",
       "      <td>6.623500</td>\n",
       "      <td>94.075000</td>\n",
       "      <td>5.188425</td>\n",
       "      <td>24.000000</td>\n",
       "      <td>666.000000</td>\n",
       "      <td>20.200000</td>\n",
       "      <td>396.225000</td>\n",
       "      <td>16.955000</td>\n",
       "      <td>25.000000</td>\n",
       "    </tr>\n",
       "    <tr>\n",
       "      <th>max</th>\n",
       "      <td>88.976200</td>\n",
       "      <td>100.000000</td>\n",
       "      <td>27.740000</td>\n",
       "      <td>1.000000</td>\n",
       "      <td>0.871000</td>\n",
       "      <td>8.780000</td>\n",
       "      <td>100.000000</td>\n",
       "      <td>12.126500</td>\n",
       "      <td>24.000000</td>\n",
       "      <td>711.000000</td>\n",
       "      <td>22.000000</td>\n",
       "      <td>396.900000</td>\n",
       "      <td>37.970000</td>\n",
       "      <td>50.000000</td>\n",
       "    </tr>\n",
       "  </tbody>\n",
       "</table>\n",
       "</div>"
      ],
      "text/plain": [
       "             CRIM          ZN       INDUS        CHAS          NX          RM  \\\n",
       "count  506.000000  506.000000  506.000000  506.000000  506.000000  506.000000   \n",
       "mean     3.613524   11.363636   11.136779    0.069170    0.554695    6.284634   \n",
       "std      8.601545   23.322453    6.860353    0.253994    0.115878    0.702617   \n",
       "min      0.006320    0.000000    0.460000    0.000000    0.385000    3.561000   \n",
       "25%      0.082045    0.000000    5.190000    0.000000    0.449000    5.885500   \n",
       "50%      0.256510    0.000000    9.690000    0.000000    0.538000    6.208500   \n",
       "75%      3.677083   12.500000   18.100000    0.000000    0.624000    6.623500   \n",
       "max     88.976200  100.000000   27.740000    1.000000    0.871000    8.780000   \n",
       "\n",
       "              AGE         DIS         RAD         TAX     PTRATIO           B  \\\n",
       "count  506.000000  506.000000  506.000000  506.000000  506.000000  506.000000   \n",
       "mean    68.574901    3.795043    9.549407  408.237154   18.455534  356.674032   \n",
       "std     28.148861    2.105710    8.707259  168.537116    2.164946   91.294864   \n",
       "min      2.900000    1.129600    1.000000  187.000000   12.600000    0.320000   \n",
       "25%     45.025000    2.100175    4.000000  279.000000   17.400000  375.377500   \n",
       "50%     77.500000    3.207450    5.000000  330.000000   19.050000  391.440000   \n",
       "75%     94.075000    5.188425   24.000000  666.000000   20.200000  396.225000   \n",
       "max    100.000000   12.126500   24.000000  711.000000   22.000000  396.900000   \n",
       "\n",
       "            LSTAT        MEDV  \n",
       "count  506.000000  506.000000  \n",
       "mean    12.653063   22.532806  \n",
       "std      7.141062    9.197104  \n",
       "min      1.730000    5.000000  \n",
       "25%      6.950000   17.025000  \n",
       "50%     11.360000   21.200000  \n",
       "75%     16.955000   25.000000  \n",
       "max     37.970000   50.000000  "
      ]
     },
     "execution_count": 6,
     "metadata": {},
     "output_type": "execute_result"
    }
   ],
   "source": [
    "dfb.describe()\n"
   ]
  },
  {
   "cell_type": "code",
   "execution_count": 11,
   "id": "ce12bd84",
   "metadata": {},
   "outputs": [
    {
     "data": {
      "image/png": "[encoded data removed]",
      "text/plain": [
       "<Figure size 432x288 with 1 Axes>"
      ]
     },
     "metadata": {},
     "output_type": "display_data"
    },
    {
     "data": {
      "image/png": "[encoded data removed]",
      "text/plain": [
       "<Figure size 432x288 with 1 Axes>"
      ]
     },
     "metadata": {},
     "output_type": "display_data"
    },
    {
     "data": {
      "image/png": "[encoded data removed]",
      "text/plain": [
       "<Figure size 432x288 with 1 Axes>"
      ]
     },
     "metadata": {},
     "output_type": "display_data"
    },
    {
     "data": {
      "image/png": "[encoded data removed]",
      "text/plain": [
       "<Figure size 432x288 with 1 Axes>"
      ]
     },
     "metadata": {},
     "output_type": "display_data"
    },
    {
     "data": {
      "image/png": "[encoded data removed]",
      "text/plain": [
       "<Figure size 432x288 with 1 Axes>"
      ]
     },
     "metadata": {},
     "output_type": "display_data"
    },
    {
     "data": {
      "image/png": "[encoded data removed]",
      "text/plain": [
       "<Figure size 432x288 with 1 Axes>"
      ]
     },
     "metadata": {},
     "output_type": "display_data"
    },
    {
     "data": {
      "image/png": "[encoded data removed]",
      "text/plain": [
       "<Figure size 432x288 with 1 Axes>"
      ]
     },
     "metadata": {},
     "output_type": "display_data"
    },
    {
     "data": {
      "image/png": "[encoded data removed]",
      "text/plain": [
       "<Figure size 432x288 with 1 Axes>"
      ]
     },
     "metadata": {},
     "output_type": "display_data"
    },
    {
     "data": {
      "image/png": "[encoded data removed]",
      "text/plain": [
       "<Figure size 432x288 with 1 Axes>"
      ]
     },
     "metadata": {},
     "output_type": "display_data"
    },
    {
     "data": {
      "image/png": "[encoded data removed]",
      "text/plain": [
       "<Figure size 432x288 with 1 Axes>"
      ]
     },
     "metadata": {},
     "output_type": "display_data"
    },
    {
     "data": {
      "image/png": "[encoded data removed]",
      "text/plain": [
       "<Figure size 432x288 with 1 Axes>"
      ]
     },
     "metadata": {},
     "output_type": "display_data"
    },
    {
     "data": {
      "image/png": "[encoded data removed]",
      "text/plain": [
       "<Figure size 432x288 with 1 Axes>"
      ]
     },
     "metadata": {},
     "output_type": "display_data"
    },
    {
     "data": {
      "image/png": "[encoded data removed]",
      "text/plain": [
       "<Figure size 432x288 with 1 Axes>"
      ]
     },
     "metadata": {},
     "output_type": "display_data"
    },
    {
     "data": {
      "image/png": "[encoded data removed]",
      "text/plain": [
       "<Figure size 432x288 with 1 Axes>"
      ]
     },
     "metadata": {},
     "output_type": "display_data"
    }
   ],
   "source": [
    "for i in dfb.columns:\n",
    "    plt.figure()\n",
    "    sns.boxplot(dfb[i])\n",
    "    plt.title(i)"
   ]
  },
  {
   "cell_type": "code",
   "execution_count": 9,
   "id": "f45a9dd3",
   "metadata": {},
   "outputs": [],
   "source": [
    "Q1 = dfb.quantile(0.25)\n",
    "Q3 = dfb.quantile(0.75)\n",
    "IQR = Q3-Q1\n",
    "pos = Q3 + 1.5*IQR\n",
    "neg = Q1 - 1.5*IQR"
   ]
  },
  {
   "cell_type": "code",
   "execution_count": 10,
   "id": "6d87e4be",
   "metadata": {},
   "outputs": [
    {
     "data": {
      "text/plain": [
       "(268, 14)"
      ]
     },
     "execution_count": 10,
     "metadata": {},
     "output_type": "execute_result"
    }
   ],
   "source": [
    "dfb = dfb[~(((dfb > pos)|(dfb<neg))).any(axis = 1)]\n",
    "dfb.shape"
   ]
  },
  {
   "cell_type": "code",
   "execution_count": 12,
   "id": "4cdecdc6",
   "metadata": {},
   "outputs": [
    {
     "data": {
      "text/html": [
       "<div>\n",
       "<style scoped>\n",
       "    .dataframe tbody tr th:only-of-type {\n",
       "        vertical-align: middle;\n",
       "    }\n",
       "\n",
       "    .dataframe tbody tr th {\n",
       "        vertical-align: top;\n",
       "    }\n",
       "\n",
       "    .dataframe thead th {\n",
       "        text-align: right;\n",
       "    }\n",
       "</style>\n",
       "<table border=\"1\" class=\"dataframe\">\n",
       "  <thead>\n",
       "    <tr style=\"text-align: right;\">\n",
       "      <th></th>\n",
       "      <th>CRIM</th>\n",
       "      <th>ZN</th>\n",
       "      <th>INDUS</th>\n",
       "      <th>CHAS</th>\n",
       "      <th>NX</th>\n",
       "      <th>RM</th>\n",
       "      <th>AGE</th>\n",
       "      <th>DIS</th>\n",
       "      <th>RAD</th>\n",
       "      <th>TAX</th>\n",
       "      <th>PTRATIO</th>\n",
       "      <th>B</th>\n",
       "      <th>LSTAT</th>\n",
       "      <th>MEDV</th>\n",
       "    </tr>\n",
       "  </thead>\n",
       "  <tbody>\n",
       "    <tr>\n",
       "      <th>CRIM</th>\n",
       "      <td>1.000000</td>\n",
       "      <td>-0.210341</td>\n",
       "      <td>0.494892</td>\n",
       "      <td>NaN</td>\n",
       "      <td>0.616244</td>\n",
       "      <td>-0.055495</td>\n",
       "      <td>0.349502</td>\n",
       "      <td>-0.386631</td>\n",
       "      <td>0.896524</td>\n",
       "      <td>0.799501</td>\n",
       "      <td>0.236846</td>\n",
       "      <td>-0.112067</td>\n",
       "      <td>0.313103</td>\n",
       "      <td>-0.324550</td>\n",
       "    </tr>\n",
       "    <tr>\n",
       "      <th>ZN</th>\n",
       "      <td>-0.210341</td>\n",
       "      <td>1.000000</td>\n",
       "      <td>-0.318908</td>\n",
       "      <td>NaN</td>\n",
       "      <td>-0.407341</td>\n",
       "      <td>0.145068</td>\n",
       "      <td>-0.317293</td>\n",
       "      <td>0.602665</td>\n",
       "      <td>-0.104204</td>\n",
       "      <td>-0.240486</td>\n",
       "      <td>-0.233578</td>\n",
       "      <td>0.051526</td>\n",
       "      <td>-0.216148</td>\n",
       "      <td>0.165544</td>\n",
       "    </tr>\n",
       "    <tr>\n",
       "      <th>INDUS</th>\n",
       "      <td>0.494892</td>\n",
       "      <td>-0.318908</td>\n",
       "      <td>1.000000</td>\n",
       "      <td>NaN</td>\n",
       "      <td>0.687050</td>\n",
       "      <td>-0.227952</td>\n",
       "      <td>0.479729</td>\n",
       "      <td>-0.627017</td>\n",
       "      <td>0.413444</td>\n",
       "      <td>0.605088</td>\n",
       "      <td>0.251323</td>\n",
       "      <td>-0.165349</td>\n",
       "      <td>0.484326</td>\n",
       "      <td>-0.421494</td>\n",
       "    </tr>\n",
       "    <tr>\n",
       "      <th>CHAS</th>\n",
       "      <td>NaN</td>\n",
       "      <td>NaN</td>\n",
       "      <td>NaN</td>\n",
       "      <td>NaN</td>\n",
       "      <td>NaN</td>\n",
       "      <td>NaN</td>\n",
       "      <td>NaN</td>\n",
       "      <td>NaN</td>\n",
       "      <td>NaN</td>\n",
       "      <td>NaN</td>\n",
       "      <td>NaN</td>\n",
       "      <td>NaN</td>\n",
       "      <td>NaN</td>\n",
       "      <td>NaN</td>\n",
       "    </tr>\n",
       "    <tr>\n",
       "      <th>NX</th>\n",
       "      <td>0.616244</td>\n",
       "      <td>-0.407341</td>\n",
       "      <td>0.687050</td>\n",
       "      <td>NaN</td>\n",
       "      <td>1.000000</td>\n",
       "      <td>-0.253273</td>\n",
       "      <td>0.625244</td>\n",
       "      <td>-0.715439</td>\n",
       "      <td>0.475386</td>\n",
       "      <td>0.601246</td>\n",
       "      <td>0.105761</td>\n",
       "      <td>-0.181690</td>\n",
       "      <td>0.522128</td>\n",
       "      <td>-0.425889</td>\n",
       "    </tr>\n",
       "    <tr>\n",
       "      <th>RM</th>\n",
       "      <td>-0.055495</td>\n",
       "      <td>0.145068</td>\n",
       "      <td>-0.227952</td>\n",
       "      <td>NaN</td>\n",
       "      <td>-0.253273</td>\n",
       "      <td>1.000000</td>\n",
       "      <td>-0.142963</td>\n",
       "      <td>0.165074</td>\n",
       "      <td>0.035247</td>\n",
       "      <td>-0.061476</td>\n",
       "      <td>-0.015428</td>\n",
       "      <td>0.126908</td>\n",
       "      <td>-0.625223</td>\n",
       "      <td>0.644819</td>\n",
       "    </tr>\n",
       "    <tr>\n",
       "      <th>AGE</th>\n",
       "      <td>0.349502</td>\n",
       "      <td>-0.317293</td>\n",
       "      <td>0.479729</td>\n",
       "      <td>NaN</td>\n",
       "      <td>0.625244</td>\n",
       "      <td>-0.142963</td>\n",
       "      <td>1.000000</td>\n",
       "      <td>-0.607353</td>\n",
       "      <td>0.224189</td>\n",
       "      <td>0.363663</td>\n",
       "      <td>0.185346</td>\n",
       "      <td>-0.088601</td>\n",
       "      <td>0.567426</td>\n",
       "      <td>-0.467925</td>\n",
       "    </tr>\n",
       "    <tr>\n",
       "      <th>DIS</th>\n",
       "      <td>-0.386631</td>\n",
       "      <td>0.602665</td>\n",
       "      <td>-0.627017</td>\n",
       "      <td>NaN</td>\n",
       "      <td>-0.715439</td>\n",
       "      <td>0.165074</td>\n",
       "      <td>-0.607353</td>\n",
       "      <td>1.000000</td>\n",
       "      <td>-0.254432</td>\n",
       "      <td>-0.440637</td>\n",
       "      <td>-0.200926</td>\n",
       "      <td>0.077007</td>\n",
       "      <td>-0.384235</td>\n",
       "      <td>0.263073</td>\n",
       "    </tr>\n",
       "    <tr>\n",
       "      <th>RAD</th>\n",
       "      <td>0.896524</td>\n",
       "      <td>-0.104204</td>\n",
       "      <td>0.413444</td>\n",
       "      <td>NaN</td>\n",
       "      <td>0.475386</td>\n",
       "      <td>0.035247</td>\n",
       "      <td>0.224189</td>\n",
       "      <td>-0.254432</td>\n",
       "      <td>1.000000</td>\n",
       "      <td>0.852483</td>\n",
       "      <td>0.283171</td>\n",
       "      <td>-0.073357</td>\n",
       "      <td>0.178373</td>\n",
       "      <td>-0.188320</td>\n",
       "    </tr>\n",
       "    <tr>\n",
       "      <th>TAX</th>\n",
       "      <td>0.799501</td>\n",
       "      <td>-0.240486</td>\n",
       "      <td>0.605088</td>\n",
       "      <td>NaN</td>\n",
       "      <td>0.601246</td>\n",
       "      <td>-0.061476</td>\n",
       "      <td>0.363663</td>\n",
       "      <td>-0.440637</td>\n",
       "      <td>0.852483</td>\n",
       "      <td>1.000000</td>\n",
       "      <td>0.315250</td>\n",
       "      <td>-0.089440</td>\n",
       "      <td>0.298730</td>\n",
       "      <td>-0.357251</td>\n",
       "    </tr>\n",
       "    <tr>\n",
       "      <th>PTRATIO</th>\n",
       "      <td>0.236846</td>\n",
       "      <td>-0.233578</td>\n",
       "      <td>0.251323</td>\n",
       "      <td>NaN</td>\n",
       "      <td>0.105761</td>\n",
       "      <td>-0.015428</td>\n",
       "      <td>0.185346</td>\n",
       "      <td>-0.200926</td>\n",
       "      <td>0.283171</td>\n",
       "      <td>0.315250</td>\n",
       "      <td>1.000000</td>\n",
       "      <td>0.105081</td>\n",
       "      <td>0.076950</td>\n",
       "      <td>-0.309855</td>\n",
       "    </tr>\n",
       "    <tr>\n",
       "      <th>B</th>\n",
       "      <td>-0.112067</td>\n",
       "      <td>0.051526</td>\n",
       "      <td>-0.165349</td>\n",
       "      <td>NaN</td>\n",
       "      <td>-0.181690</td>\n",
       "      <td>0.126908</td>\n",
       "      <td>-0.088601</td>\n",
       "      <td>0.077007</td>\n",
       "      <td>-0.073357</td>\n",
       "      <td>-0.089440</td>\n",
       "      <td>0.105081</td>\n",
       "      <td>1.000000</td>\n",
       "      <td>-0.194198</td>\n",
       "      <td>0.117009</td>\n",
       "    </tr>\n",
       "    <tr>\n",
       "      <th>LSTAT</th>\n",
       "      <td>0.313103</td>\n",
       "      <td>-0.216148</td>\n",
       "      <td>0.484326</td>\n",
       "      <td>NaN</td>\n",
       "      <td>0.522128</td>\n",
       "      <td>-0.625223</td>\n",
       "      <td>0.567426</td>\n",
       "      <td>-0.384235</td>\n",
       "      <td>0.178373</td>\n",
       "      <td>0.298730</td>\n",
       "      <td>0.076950</td>\n",
       "      <td>-0.194198</td>\n",
       "      <td>1.000000</td>\n",
       "      <td>-0.681365</td>\n",
       "    </tr>\n",
       "    <tr>\n",
       "      <th>MEDV</th>\n",
       "      <td>-0.324550</td>\n",
       "      <td>0.165544</td>\n",
       "      <td>-0.421494</td>\n",
       "      <td>NaN</td>\n",
       "      <td>-0.425889</td>\n",
       "      <td>0.644819</td>\n",
       "      <td>-0.467925</td>\n",
       "      <td>0.263073</td>\n",
       "      <td>-0.188320</td>\n",
       "      <td>-0.357251</td>\n",
       "      <td>-0.309855</td>\n",
       "      <td>0.117009</td>\n",
       "      <td>-0.681365</td>\n",
       "      <td>1.000000</td>\n",
       "    </tr>\n",
       "  </tbody>\n",
       "</table>\n",
       "</div>"
      ],
      "text/plain": [
       "             CRIM        ZN     INDUS  CHAS        NX        RM       AGE  \\\n",
       "CRIM     1.000000 -0.210341  0.494892   NaN  0.616244 -0.055495  0.349502   \n",
       "ZN      -0.210341  1.000000 -0.318908   NaN -0.407341  0.145068 -0.317293   \n",
       "INDUS    0.494892 -0.318908  1.000000   NaN  0.687050 -0.227952  0.479729   \n",
       "CHAS          NaN       NaN       NaN   NaN       NaN       NaN       NaN   \n",
       "NX       0.616244 -0.407341  0.687050   NaN  1.000000 -0.253273  0.625244   \n",
       "RM      -0.055495  0.145068 -0.227952   NaN -0.253273  1.000000 -0.142963   \n",
       "AGE      0.349502 -0.317293  0.479729   NaN  0.625244 -0.142963  1.000000   \n",
       "DIS     -0.386631  0.602665 -0.627017   NaN -0.715439  0.165074 -0.607353   \n",
       "RAD      0.896524 -0.104204  0.413444   NaN  0.475386  0.035247  0.224189   \n",
       "TAX      0.799501 -0.240486  0.605088   NaN  0.601246 -0.061476  0.363663   \n",
       "PTRATIO  0.236846 -0.233578  0.251323   NaN  0.105761 -0.015428  0.185346   \n",
       "B       -0.112067  0.051526 -0.165349   NaN -0.181690  0.126908 -0.088601   \n",
       "LSTAT    0.313103 -0.216148  0.484326   NaN  0.522128 -0.625223  0.567426   \n",
       "MEDV    -0.324550  0.165544 -0.421494   NaN -0.425889  0.644819 -0.467925   \n",
       "\n",
       "              DIS       RAD       TAX   PTRATIO         B     LSTAT      MEDV  \n",
       "CRIM    -0.386631  0.896524  0.799501  0.236846 -0.112067  0.313103 -0.324550  \n",
       "ZN       0.602665 -0.104204 -0.240486 -0.233578  0.051526 -0.216148  0.165544  \n",
       "INDUS   -0.627017  0.413444  0.605088  0.251323 -0.165349  0.484326 -0.421494  \n",
       "CHAS          NaN       NaN       NaN       NaN       NaN       NaN       NaN  \n",
       "NX      -0.715439  0.475386  0.601246  0.105761 -0.181690  0.522128 -0.425889  \n",
       "RM       0.165074  0.035247 -0.061476 -0.015428  0.126908 -0.625223  0.644819  \n",
       "AGE     -0.607353  0.224189  0.363663  0.185346 -0.088601  0.567426 -0.467925  \n",
       "DIS      1.000000 -0.254432 -0.440637 -0.200926  0.077007 -0.384235  0.263073  \n",
       "RAD     -0.254432  1.000000  0.852483  0.283171 -0.073357  0.178373 -0.188320  \n",
       "TAX     -0.440637  0.852483  1.000000  0.315250 -0.089440  0.298730 -0.357251  \n",
       "PTRATIO -0.200926  0.283171  0.315250  1.000000  0.105081  0.076950 -0.309855  \n",
       "B        0.077007 -0.073357 -0.089440  0.105081  1.000000 -0.194198  0.117009  \n",
       "LSTAT   -0.384235  0.178373  0.298730  0.076950 -0.194198  1.000000 -0.681365  \n",
       "MEDV     0.263073 -0.188320 -0.357251 -0.309855  0.117009 -0.681365  1.000000  "
      ]
     },
     "execution_count": 12,
     "metadata": {},
     "output_type": "execute_result"
    }
   ],
   "source": [
    "dfb.corr()\n"
   ]
  },
  {
   "cell_type": "code",
   "execution_count": 13,
   "id": "02128f92",
   "metadata": {},
   "outputs": [
    {
     "data": {
      "text/plain": [
       "<AxesSubplot:>"
      ]
     },
     "execution_count": 13,
     "metadata": {},
     "output_type": "execute_result"
    },
    {
     "data": {
      "image/png": "[encoded data removed]",
      "text/plain": [
       "<Figure size 432x288 with 2 Axes>"
      ]
     },
     "metadata": {},
     "output_type": "display_data"
    }
   ],
   "source": [
    "sns.heatmap(dfb.corr(),annot=True)"
   ]
  },
  {
   "cell_type": "code",
   "execution_count": 16,
   "id": "0999b46c",
   "metadata": {},
   "outputs": [],
   "source": [
    "xb = dfb.drop(['MEDV'],axis=1)\n",
    "yb = dfb['MEDV']"
   ]
  },
  {
   "cell_type": "code",
   "execution_count": 17,
   "id": "4c1c3c42",
   "metadata": {},
   "outputs": [
    {
     "name": "stdout",
     "output_type": "stream",
     "text": [
      "(268, 13) (268,)\n"
     ]
    }
   ],
   "source": [
    "print(xb.shape,yb.shape)"
   ]
  },
  {
   "cell_type": "code",
   "execution_count": 21,
   "id": "44fe7afa",
   "metadata": {},
   "outputs": [
    {
     "data": {
      "text/html": [
       "<div>\n",
       "<style scoped>\n",
       "    .dataframe tbody tr th:only-of-type {\n",
       "        vertical-align: middle;\n",
       "    }\n",
       "\n",
       "    .dataframe tbody tr th {\n",
       "        vertical-align: top;\n",
       "    }\n",
       "\n",
       "    .dataframe thead th {\n",
       "        text-align: right;\n",
       "    }\n",
       "</style>\n",
       "<table border=\"1\" class=\"dataframe\">\n",
       "  <thead>\n",
       "    <tr style=\"text-align: right;\">\n",
       "      <th></th>\n",
       "      <th>VIF</th>\n",
       "      <th>Features</th>\n",
       "    </tr>\n",
       "  </thead>\n",
       "  <tbody>\n",
       "    <tr>\n",
       "      <th>0</th>\n",
       "      <td>8.818406</td>\n",
       "      <td>CRIM</td>\n",
       "    </tr>\n",
       "    <tr>\n",
       "      <th>1</th>\n",
       "      <td>2.027880</td>\n",
       "      <td>ZN</td>\n",
       "    </tr>\n",
       "    <tr>\n",
       "      <th>2</th>\n",
       "      <td>10.019997</td>\n",
       "      <td>INDUS</td>\n",
       "    </tr>\n",
       "    <tr>\n",
       "      <th>3</th>\n",
       "      <td>NaN</td>\n",
       "      <td>CHAS</td>\n",
       "    </tr>\n",
       "    <tr>\n",
       "      <th>4</th>\n",
       "      <td>103.970273</td>\n",
       "      <td>NX</td>\n",
       "    </tr>\n",
       "    <tr>\n",
       "      <th>5</th>\n",
       "      <td>309.172626</td>\n",
       "      <td>RM</td>\n",
       "    </tr>\n",
       "    <tr>\n",
       "      <th>6</th>\n",
       "      <td>16.742082</td>\n",
       "      <td>AGE</td>\n",
       "    </tr>\n",
       "    <tr>\n",
       "      <th>7</th>\n",
       "      <td>19.226934</td>\n",
       "      <td>DIS</td>\n",
       "    </tr>\n",
       "    <tr>\n",
       "      <th>8</th>\n",
       "      <td>19.506998</td>\n",
       "      <td>RAD</td>\n",
       "    </tr>\n",
       "    <tr>\n",
       "      <th>9</th>\n",
       "      <td>41.628523</td>\n",
       "      <td>TAX</td>\n",
       "    </tr>\n",
       "    <tr>\n",
       "      <th>10</th>\n",
       "      <td>143.149243</td>\n",
       "      <td>PTRATIO</td>\n",
       "    </tr>\n",
       "    <tr>\n",
       "      <th>11</th>\n",
       "      <td>525.433412</td>\n",
       "      <td>B</td>\n",
       "    </tr>\n",
       "    <tr>\n",
       "      <th>12</th>\n",
       "      <td>15.200614</td>\n",
       "      <td>LSTAT</td>\n",
       "    </tr>\n",
       "  </tbody>\n",
       "</table>\n",
       "</div>"
      ],
      "text/plain": [
       "           VIF Features\n",
       "0     8.818406     CRIM\n",
       "1     2.027880       ZN\n",
       "2    10.019997    INDUS\n",
       "3          NaN     CHAS\n",
       "4   103.970273       NX\n",
       "5   309.172626       RM\n",
       "6    16.742082      AGE\n",
       "7    19.226934      DIS\n",
       "8    19.506998      RAD\n",
       "9    41.628523      TAX\n",
       "10  143.149243  PTRATIO\n",
       "11  525.433412        B\n",
       "12   15.200614    LSTAT"
      ]
     },
     "execution_count": 21,
     "metadata": {},
     "output_type": "execute_result"
    }
   ],
   "source": [
    "#VIF Variance Inflation Factor\n",
    "from statsmodels.stats.outliers_influence import variance_inflation_factor\n",
    "\n",
    "data=xb\n",
    "vif = pd.DataFrame()\n",
    "vif['VIF'] = [variance_inflation_factor(data,i) \n",
    "             for i in range(data.shape[1])]\n",
    "\n",
    "vif['Features'] = data.columns\n",
    "vif"
   ]
  },
  {
   "cell_type": "code",
   "execution_count": 24,
   "id": "ce59f29d",
   "metadata": {},
   "outputs": [
    {
     "data": {
      "text/plain": [
       "array([[-0.51902211,  1.62124973, -1.31896045, ..., -2.00440305,\n",
       "         0.7037701 , -1.29533293],\n",
       "       [-0.5082986 , -0.45463844, -0.56751391, ..., -0.57375424,\n",
       "         0.7037701 , -0.52479164],\n",
       "       [-0.50830882, -0.45463844, -0.56751391, ..., -0.57375424,\n",
       "         0.3374944 , -1.47129789],\n",
       "       ...,\n",
       "       [-0.49120945, -0.45463844,  0.19971933, ...,  1.25747625,\n",
       "         0.7037701 , -1.17308359],\n",
       "       [-0.46626286, -0.45463844,  0.19971933, ...,  1.25747625,\n",
       "         0.3932907 , -1.01749352],\n",
       "       [-0.49802978, -0.45463844,  0.19971933, ...,  1.25747625,\n",
       "         0.7037701 , -0.75817674]])"
      ]
     },
     "execution_count": 24,
     "metadata": {},
     "output_type": "execute_result"
    }
   ],
   "source": [
    "from sklearn.preprocessing import StandardScaler\n",
    "\n",
    "sclr = StandardScaler()\n",
    "x_sclr = sclr.fit_transform(xb)\n",
    "x_sclr"
   ]
  },
  {
   "cell_type": "code",
   "execution_count": 25,
   "id": "88b2cfe0",
   "metadata": {},
   "outputs": [
    {
     "name": "stdout",
     "output_type": "stream",
     "text": [
      "(214, 13) (54, 13) (214,) (54,)\n"
     ]
    }
   ],
   "source": [
    "#SPliting of the data\n",
    "\n",
    "from sklearn.model_selection import train_test_split\n",
    "\n",
    "x_train,x_test,y_train,y_test = train_test_split(xb,yb,test_size=0.2,random_state= 21)\n",
    "print(x_train.shape,x_test.shape,y_train.shape,y_test.shape)"
   ]
  },
  {
   "cell_type": "markdown",
   "id": "a80eeacb",
   "metadata": {},
   "source": [
    "# Building Regression Model"
   ]
  },
  {
   "cell_type": "code",
   "execution_count": 27,
   "id": "11a5e935",
   "metadata": {},
   "outputs": [],
   "source": [
    "from sklearn.linear_model import LinearRegression\n",
    "\n",
    "lr = LinearRegression()\n",
    "lr.fit(x_train,y_train)\n",
    "\n",
    "lr_pred = lr.predict(x_test)\n"
   ]
  },
  {
   "cell_type": "code",
   "execution_count": 30,
   "id": "f2d6461d",
   "metadata": {},
   "outputs": [
    {
     "data": {
      "text/plain": [
       "0.7076235929468601"
      ]
     },
     "execution_count": 30,
     "metadata": {},
     "output_type": "execute_result"
    }
   ],
   "source": [
    "from sklearn.metrics import r2_score\n",
    "\n",
    "score = r2_score(y_test,lr_pred)\n",
    "score"
   ]
  },
  {
   "cell_type": "markdown",
   "id": "a3455eb3",
   "metadata": {},
   "source": [
    "# BUilding OLS MODEL"
   ]
  },
  {
   "cell_type": "code",
   "execution_count": 33,
   "id": "7416f371",
   "metadata": {},
   "outputs": [],
   "source": [
    "from statsmodels.regression.linear_model import OLS\n",
    "# from statsmodels.regression.linear_model import OLS\n",
    "\n",
    "import statsmodels.regression.linear_model as srlm\n",
    "\n"
   ]
  },
  {
   "cell_type": "code",
   "execution_count": 35,
   "id": "ff207733",
   "metadata": {},
   "outputs": [
    {
     "data": {
      "text/plain": [
       "0.7036587465444023"
      ]
     },
     "execution_count": 35,
     "metadata": {},
     "output_type": "execute_result"
    }
   ],
   "source": [
    "reg_model = srlm.OLS(endog = y_train,exog = x_train).fit()\n",
    "re_pred = reg_model.predict(x_test)\n",
    "r2_score(y_test,re_pred)"
   ]
  },
  {
   "cell_type": "code",
   "execution_count": 36,
   "id": "d37ed63d",
   "metadata": {},
   "outputs": [
    {
     "data": {
      "text/html": [
       "<table class=\"simpletable\">\n",
       "<caption>OLS Regression Results</caption>\n",
       "<tr>\n",
       "  <th>Dep. Variable:</th>          <td>MEDV</td>       <th>  R-squared (uncentered):</th>      <td>   0.987</td> \n",
       "</tr>\n",
       "<tr>\n",
       "  <th>Model:</th>                   <td>OLS</td>       <th>  Adj. R-squared (uncentered):</th> <td>   0.986</td> \n",
       "</tr>\n",
       "<tr>\n",
       "  <th>Method:</th>             <td>Least Squares</td>  <th>  F-statistic:       </th>          <td>   1277.</td> \n",
       "</tr>\n",
       "<tr>\n",
       "  <th>Date:</th>             <td>Sun, 19 Mar 2023</td> <th>  Prob (F-statistic):</th>          <td>3.44e-183</td>\n",
       "</tr>\n",
       "<tr>\n",
       "  <th>Time:</th>                 <td>15:43:11</td>     <th>  Log-Likelihood:    </th>          <td> -496.93</td> \n",
       "</tr>\n",
       "<tr>\n",
       "  <th>No. Observations:</th>      <td>   214</td>      <th>  AIC:               </th>          <td>   1018.</td> \n",
       "</tr>\n",
       "<tr>\n",
       "  <th>Df Residuals:</th>          <td>   202</td>      <th>  BIC:               </th>          <td>   1058.</td> \n",
       "</tr>\n",
       "<tr>\n",
       "  <th>Df Model:</th>              <td>    12</td>      <th>                     </th>              <td> </td>    \n",
       "</tr>\n",
       "<tr>\n",
       "  <th>Covariance Type:</th>      <td>nonrobust</td>    <th>                     </th>              <td> </td>    \n",
       "</tr>\n",
       "</table>\n",
       "<table class=\"simpletable\">\n",
       "<tr>\n",
       "     <td></td>        <th>coef</th>     <th>std err</th>      <th>t</th>      <th>P>|t|</th>  <th>[0.025</th>    <th>0.975]</th>  \n",
       "</tr>\n",
       "<tr>\n",
       "  <th>CRIM</th>    <td>   -0.9433</td> <td>    0.229</td> <td>   -4.112</td> <td> 0.000</td> <td>   -1.396</td> <td>   -0.491</td>\n",
       "</tr>\n",
       "<tr>\n",
       "  <th>ZN</th>      <td>   -0.0299</td> <td>    0.026</td> <td>   -1.138</td> <td> 0.256</td> <td>   -0.082</td> <td>    0.022</td>\n",
       "</tr>\n",
       "<tr>\n",
       "  <th>INDUS</th>   <td>   -0.0139</td> <td>    0.043</td> <td>   -0.324</td> <td> 0.746</td> <td>   -0.098</td> <td>    0.070</td>\n",
       "</tr>\n",
       "<tr>\n",
       "  <th>CHAS</th>    <td>-4.064e-15</td> <td> 8.17e-15</td> <td>   -0.497</td> <td> 0.620</td> <td>-2.02e-14</td> <td> 1.21e-14</td>\n",
       "</tr>\n",
       "<tr>\n",
       "  <th>NX</th>      <td>   -0.3213</td> <td>    3.258</td> <td>   -0.099</td> <td> 0.922</td> <td>   -6.745</td> <td>    6.102</td>\n",
       "</tr>\n",
       "<tr>\n",
       "  <th>RM</th>      <td>    5.5885</td> <td>    0.490</td> <td>   11.397</td> <td> 0.000</td> <td>    4.622</td> <td>    6.555</td>\n",
       "</tr>\n",
       "<tr>\n",
       "  <th>AGE</th>     <td>   -0.0495</td> <td>    0.010</td> <td>   -5.040</td> <td> 0.000</td> <td>   -0.069</td> <td>   -0.030</td>\n",
       "</tr>\n",
       "<tr>\n",
       "  <th>DIS</th>     <td>   -0.6058</td> <td>    0.174</td> <td>   -3.472</td> <td> 0.001</td> <td>   -0.950</td> <td>   -0.262</td>\n",
       "</tr>\n",
       "<tr>\n",
       "  <th>RAD</th>     <td>    0.4232</td> <td>    0.079</td> <td>    5.344</td> <td> 0.000</td> <td>    0.267</td> <td>    0.579</td>\n",
       "</tr>\n",
       "<tr>\n",
       "  <th>TAX</th>     <td>   -0.0134</td> <td>    0.003</td> <td>   -4.643</td> <td> 0.000</td> <td>   -0.019</td> <td>   -0.008</td>\n",
       "</tr>\n",
       "<tr>\n",
       "  <th>PTRATIO</th> <td>   -0.6516</td> <td>    0.107</td> <td>   -6.068</td> <td> 0.000</td> <td>   -0.863</td> <td>   -0.440</td>\n",
       "</tr>\n",
       "<tr>\n",
       "  <th>B</th>       <td>    0.0237</td> <td>    0.010</td> <td>    2.391</td> <td> 0.018</td> <td>    0.004</td> <td>    0.043</td>\n",
       "</tr>\n",
       "<tr>\n",
       "  <th>LSTAT</th>   <td>   -0.0914</td> <td>    0.051</td> <td>   -1.805</td> <td> 0.073</td> <td>   -0.191</td> <td>    0.008</td>\n",
       "</tr>\n",
       "</table>\n",
       "<table class=\"simpletable\">\n",
       "<tr>\n",
       "  <th>Omnibus:</th>       <td> 9.039</td> <th>  Durbin-Watson:     </th> <td>   2.009</td>\n",
       "</tr>\n",
       "<tr>\n",
       "  <th>Prob(Omnibus):</th> <td> 0.011</td> <th>  Jarque-Bera (JB):  </th> <td>  11.849</td>\n",
       "</tr>\n",
       "<tr>\n",
       "  <th>Skew:</th>          <td> 0.302</td> <th>  Prob(JB):          </th> <td> 0.00267</td>\n",
       "</tr>\n",
       "<tr>\n",
       "  <th>Kurtosis:</th>      <td> 3.982</td> <th>  Cond. No.          </th> <td>2.45e+19</td>\n",
       "</tr>\n",
       "</table><br/><br/>Notes:<br/>[1] R² is computed without centering (uncentered) since the model does not contain a constant.<br/>[2] Standard Errors assume that the covariance matrix of the errors is correctly specified.<br/>[3] The smallest eigenvalue is 1.06e-31. This might indicate that there are<br/>strong multicollinearity problems or that the design matrix is singular."
      ],
      "text/plain": [
       "<class 'statsmodels.iolib.summary.Summary'>\n",
       "\"\"\"\n",
       "                                 OLS Regression Results                                \n",
       "=======================================================================================\n",
       "Dep. Variable:                   MEDV   R-squared (uncentered):                   0.987\n",
       "Model:                            OLS   Adj. R-squared (uncentered):              0.986\n",
       "Method:                 Least Squares   F-statistic:                              1277.\n",
       "Date:                Sun, 19 Mar 2023   Prob (F-statistic):                   3.44e-183\n",
       "Time:                        15:43:11   Log-Likelihood:                         -496.93\n",
       "No. Observations:                 214   AIC:                                      1018.\n",
       "Df Residuals:                     202   BIC:                                      1058.\n",
       "Df Model:                          12                                                  \n",
       "Covariance Type:            nonrobust                                                  \n",
       "==============================================================================\n",
       "                 coef    std err          t      P>|t|      [0.025      0.975]\n",
       "------------------------------------------------------------------------------\n",
       "CRIM          -0.9433      0.229     -4.112      0.000      -1.396      -0.491\n",
       "ZN            -0.0299      0.026     -1.138      0.256      -0.082       0.022\n",
       "INDUS         -0.0139      0.043     -0.324      0.746      -0.098       0.070\n",
       "CHAS       -4.064e-15   8.17e-15     -0.497      0.620   -2.02e-14    1.21e-14\n",
       "NX            -0.3213      3.258     -0.099      0.922      -6.745       6.102\n",
       "RM             5.5885      0.490     11.397      0.000       4.622       6.555\n",
       "AGE           -0.0495      0.010     -5.040      0.000      -0.069      -0.030\n",
       "DIS           -0.6058      0.174     -3.472      0.001      -0.950      -0.262\n",
       "RAD            0.4232      0.079      5.344      0.000       0.267       0.579\n",
       "TAX           -0.0134      0.003     -4.643      0.000      -0.019      -0.008\n",
       "PTRATIO       -0.6516      0.107     -6.068      0.000      -0.863      -0.440\n",
       "B              0.0237      0.010      2.391      0.018       0.004       0.043\n",
       "LSTAT         -0.0914      0.051     -1.805      0.073      -0.191       0.008\n",
       "==============================================================================\n",
       "Omnibus:                        9.039   Durbin-Watson:                   2.009\n",
       "Prob(Omnibus):                  0.011   Jarque-Bera (JB):               11.849\n",
       "Skew:                           0.302   Prob(JB):                      0.00267\n",
       "Kurtosis:                       3.982   Cond. No.                     2.45e+19\n",
       "==============================================================================\n",
       "\n",
       "Notes:\n",
       "[1] R² is computed without centering (uncentered) since the model does not contain a constant.\n",
       "[2] Standard Errors assume that the covariance matrix of the errors is correctly specified.\n",
       "[3] The smallest eigenvalue is 1.06e-31. This might indicate that there are\n",
       "strong multicollinearity problems or that the design matrix is singular.\n",
       "\"\"\""
      ]
     },
     "execution_count": 36,
     "metadata": {},
     "output_type": "execute_result"
    }
   ],
   "source": [
    "reg_model.summary()"
   ]
  },
  {
   "cell_type": "code",
   "execution_count": 39,
   "id": "d21270e7",
   "metadata": {},
   "outputs": [
    {
     "data": {
      "text/plain": [
       "<matplotlib.collections.PathCollection at 0x222c30a8340>"
      ]
     },
     "execution_count": 39,
     "metadata": {},
     "output_type": "execute_result"
    },
    {
     "data": {
      "image/png": "[encoded data removed]",
      "text/plain": [
       "<Figure size 432x288 with 1 Axes>"
      ]
     },
     "metadata": {},
     "output_type": "display_data"
    }
   ],
   "source": [
    "#TO check Normality \n",
    "\n",
    "plt.scatter(y_test,lr_pred)"
   ]
  },
  {
   "cell_type": "code",
   "execution_count": 41,
   "id": "609d3c02",
   "metadata": {},
   "outputs": [
    {
     "data": {
      "text/plain": [
       "<AxesSubplot:xlabel='MEDV', ylabel='Density'>"
      ]
     },
     "execution_count": 41,
     "metadata": {},
     "output_type": "execute_result"
    },
    {
     "data": {
      "image/png": "[encoded data removed]",
      "text/plain": [
       "<Figure size 432x288 with 1 Axes>"
      ]
     },
     "metadata": {},
     "output_type": "display_data"
    }
   ],
   "source": [
    "#to check the residual plot - whether it is normal\n",
    "\n",
    "sns.distplot(y_test - lr_pred)"
   ]
  },
  {
   "cell_type": "code",
   "execution_count": 42,
   "id": "333a9b21",
   "metadata": {},
   "outputs": [],
   "source": [
    "#Regularization \n",
    "\n",
    "from sklearn.linear_model import Ridge, Lasso, ElasticNet\n"
   ]
  },
  {
   "cell_type": "code",
   "execution_count": 43,
   "id": "40a88e5a",
   "metadata": {},
   "outputs": [
    {
     "data": {
      "text/plain": [
       "0.708065622265436"
      ]
     },
     "execution_count": 43,
     "metadata": {},
     "output_type": "execute_result"
    }
   ],
   "source": [
    "ridge = Ridge(alpha=0.1)\n",
    "ridge.fit(x_train, y_train)\n",
    "r_pred = ridge.predict(x_test)\n",
    "r2_score(y_test,r_pred)"
   ]
  },
  {
   "cell_type": "code",
   "execution_count": 45,
   "id": "37bc8979",
   "metadata": {},
   "outputs": [
    {
     "data": {
      "text/plain": [
       "0.6999623829370084"
      ]
     },
     "execution_count": 45,
     "metadata": {},
     "output_type": "execute_result"
    }
   ],
   "source": [
    "lasso = Lasso(alpha = 0.1)\n",
    "lasso.fit(x_train,y_train)\n",
    "l_pred=lasso.predict(x_test)\n",
    "r2_score(y_test,l_pred)"
   ]
  },
  {
   "cell_type": "code",
   "execution_count": 47,
   "id": "2ab7120c",
   "metadata": {},
   "outputs": [
    {
     "data": {
      "text/plain": [
       "0.6891452225110354"
      ]
     },
     "execution_count": 47,
     "metadata": {},
     "output_type": "execute_result"
    }
   ],
   "source": [
    "esl = ElasticNet(alpha=0.1)\n",
    "esl.fit(x_train,y_train)\n",
    "e_pred = esl.predict(x_test)\n",
    "r2_score(y_test,e_pred)"
   ]
  },
  {
   "cell_type": "code",
   "execution_count": 50,
   "id": "667c5388",
   "metadata": {},
   "outputs": [
    {
     "name": "stdout",
     "output_type": "stream",
     "text": [
      "MSE 7.186043575685801\n",
      "*******************************************************\n",
      "RMSE 2.6806796853943218\n",
      "*******************************************************\n",
      "MAE 1.8127233821453514\n",
      "*******************************************************\n",
      "MAPE 0.08661976803673561\n"
     ]
    }
   ],
   "source": [
    "from sklearn import metrics\n",
    "\n",
    "# MSE,RMSE,MAE,MAPE\n",
    "print(\"MSE\",metrics.mean_squared_error(y_test,lr_pred))\n",
    "print(\"***********\"*5)\n",
    "print(\"RMSE\",np.sqrt(metrics.mean_squared_error(y_test,lr_pred)))\n",
    "print(\"***********\"*5)\n",
    "print(\"MAE\",metrics.mean_absolute_error(y_test,lr_pred))\n",
    "print(\"***********\"*5)\n",
    "print(\"MAPE\",metrics.mean_absolute_percentage_error(y_test,lr_pred))\n"
   ]
  },
  {
   "cell_type": "markdown",
   "id": "c3399966",
   "metadata": {},
   "source": [
    "# DONE"
   ]
  }
 ],
 "metadata": {
  "kernelspec": {
   "display_name": "Python 3 (ipykernel)",
   "language": "python",
   "name": "python3"
  },
  "language_info": {
   "codemirror_mode": {
    "name": "ipython",
    "version": 3
   },
   "file_extension": ".py",
   "mimetype": "text/x-python",
   "name": "python",
   "nbconvert_exporter": "python",
   "pygments_lexer": "ipython3",
   "version": "3.9.12"
  }
 },
 "nbformat": 4,
 "nbformat_minor": 5
}
