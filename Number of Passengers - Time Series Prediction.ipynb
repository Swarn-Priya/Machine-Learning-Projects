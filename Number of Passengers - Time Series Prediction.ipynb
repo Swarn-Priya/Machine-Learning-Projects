{
 "cells": [
  {
   "cell_type": "code",
   "execution_count": 1,
   "id": "cc2ab542",
   "metadata": {},
   "outputs": [],
   "source": [
    "import numpy as np\n",
    "import pandas as pd\n",
    "import matplotlib.pyplot as plt\n",
    "import seaborn as sns\n",
    "import warnings\n",
    "warnings.filterwarnings('ignore')\n",
    "\n",
    "from datetime import datetime\n",
    "from pandas import Series\n",
    "from numpy import log"
   ]
  },
  {
   "cell_type": "code",
   "execution_count": 2,
   "id": "7050fcd7",
   "metadata": {},
   "outputs": [
    {
     "data": {
      "text/html": [
       "<div>\n",
       "<style scoped>\n",
       "    .dataframe tbody tr th:only-of-type {\n",
       "        vertical-align: middle;\n",
       "    }\n",
       "\n",
       "    .dataframe tbody tr th {\n",
       "        vertical-align: top;\n",
       "    }\n",
       "\n",
       "    .dataframe thead th {\n",
       "        text-align: right;\n",
       "    }\n",
       "</style>\n",
       "<table border=\"1\" class=\"dataframe\">\n",
       "  <thead>\n",
       "    <tr style=\"text-align: right;\">\n",
       "      <th></th>\n",
       "      <th>Year-Month</th>\n",
       "      <th>Pax</th>\n",
       "    </tr>\n",
       "  </thead>\n",
       "  <tbody>\n",
       "    <tr>\n",
       "      <th>0</th>\n",
       "      <td>1949-01-01</td>\n",
       "      <td>112</td>\n",
       "    </tr>\n",
       "    <tr>\n",
       "      <th>1</th>\n",
       "      <td>1949-02-01</td>\n",
       "      <td>118</td>\n",
       "    </tr>\n",
       "  </tbody>\n",
       "</table>\n",
       "</div>"
      ],
      "text/plain": [
       "  Year-Month  Pax\n",
       "0 1949-01-01  112\n",
       "1 1949-02-01  118"
      ]
     },
     "execution_count": 2,
     "metadata": {},
     "output_type": "execute_result"
    }
   ],
   "source": [
    "df = pd.read_csv('E:\\\\LEARNBAY\\\\Time Series\\\\AirPassenger.csv',parse_dates=['Year-Month'])\n",
    "df.head(2)"
   ]
  },
  {
   "cell_type": "code",
   "execution_count": 3,
   "id": "d9b8e361",
   "metadata": {},
   "outputs": [
    {
     "data": {
      "text/plain": [
       "Year-Month    0\n",
       "Pax           0\n",
       "dtype: int64"
      ]
     },
     "execution_count": 3,
     "metadata": {},
     "output_type": "execute_result"
    }
   ],
   "source": [
    "df.isnull().sum()"
   ]
  },
  {
   "cell_type": "code",
   "execution_count": 4,
   "id": "af0aca15",
   "metadata": {},
   "outputs": [
    {
     "name": "stdout",
     "output_type": "stream",
     "text": [
      "<class 'pandas.core.frame.DataFrame'>\n",
      "RangeIndex: 144 entries, 0 to 143\n",
      "Data columns (total 2 columns):\n",
      " #   Column      Non-Null Count  Dtype         \n",
      "---  ------      --------------  -----         \n",
      " 0   Year-Month  144 non-null    datetime64[ns]\n",
      " 1   Pax         144 non-null    int64         \n",
      "dtypes: datetime64[ns](1), int64(1)\n",
      "memory usage: 2.4 KB\n"
     ]
    }
   ],
   "source": [
    "df.info()"
   ]
  },
  {
   "cell_type": "code",
   "execution_count": 6,
   "id": "864320f7",
   "metadata": {},
   "outputs": [
    {
     "data": {
      "text/html": [
       "<div>\n",
       "<style scoped>\n",
       "    .dataframe tbody tr th:only-of-type {\n",
       "        vertical-align: middle;\n",
       "    }\n",
       "\n",
       "    .dataframe tbody tr th {\n",
       "        vertical-align: top;\n",
       "    }\n",
       "\n",
       "    .dataframe thead th {\n",
       "        text-align: right;\n",
       "    }\n",
       "</style>\n",
       "<table border=\"1\" class=\"dataframe\">\n",
       "  <thead>\n",
       "    <tr style=\"text-align: right;\">\n",
       "      <th></th>\n",
       "      <th>Pax</th>\n",
       "    </tr>\n",
       "    <tr>\n",
       "      <th>Year-Month</th>\n",
       "      <th></th>\n",
       "    </tr>\n",
       "  </thead>\n",
       "  <tbody>\n",
       "    <tr>\n",
       "      <th>1949-01-01</th>\n",
       "      <td>112</td>\n",
       "    </tr>\n",
       "    <tr>\n",
       "      <th>1949-02-01</th>\n",
       "      <td>118</td>\n",
       "    </tr>\n",
       "    <tr>\n",
       "      <th>1949-03-01</th>\n",
       "      <td>132</td>\n",
       "    </tr>\n",
       "    <tr>\n",
       "      <th>1949-04-01</th>\n",
       "      <td>129</td>\n",
       "    </tr>\n",
       "    <tr>\n",
       "      <th>1949-05-01</th>\n",
       "      <td>121</td>\n",
       "    </tr>\n",
       "  </tbody>\n",
       "</table>\n",
       "</div>"
      ],
      "text/plain": [
       "            Pax\n",
       "Year-Month     \n",
       "1949-01-01  112\n",
       "1949-02-01  118\n",
       "1949-03-01  132\n",
       "1949-04-01  129\n",
       "1949-05-01  121"
      ]
     },
     "execution_count": 6,
     "metadata": {},
     "output_type": "execute_result"
    }
   ],
   "source": [
    "df.set_index(['Year-Month'],inplace=True)\n",
    "df.head()"
   ]
  },
  {
   "cell_type": "markdown",
   "id": "f7ce0f7c",
   "metadata": {},
   "source": [
    "# Data Visualization"
   ]
  },
  {
   "cell_type": "code",
   "execution_count": 7,
   "id": "a7aa05e6",
   "metadata": {},
   "outputs": [
    {
     "data": {
      "image/png": "[encoded data removed]",
      "text/plain": [
       "<Figure size 432x288 with 1 Axes>"
      ]
     },
     "metadata": {
      "needs_background": "light"
     },
     "output_type": "display_data"
    }
   ],
   "source": [
    "df.plot()\n",
    "plt.show()"
   ]
  },
  {
   "cell_type": "code",
   "execution_count": 9,
   "id": "5a0d6c4e",
   "metadata": {},
   "outputs": [],
   "source": [
    "from statsmodels.tsa.seasonal import seasonal_decompose\n",
    "from statsmodels.tsa.stattools import adfuller\n",
    "import statsmodels.api as sm"
   ]
  },
  {
   "cell_type": "code",
   "execution_count": 10,
   "id": "c69dcc17",
   "metadata": {},
   "outputs": [
    {
     "data": {
      "image/png": "[encoded data removed]",
      "text/plain": [
       "<Figure size 432x288 with 4 Axes>"
      ]
     },
     "metadata": {
      "needs_background": "light"
     },
     "output_type": "display_data"
    }
   ],
   "source": [
    "decompose = seasonal_decompose(df['Pax'],model='additive',period=None)\n",
    "decompose.plot()\n",
    "plt.show()"
   ]
  },
  {
   "cell_type": "code",
   "execution_count": 11,
   "id": "cbd7b984",
   "metadata": {},
   "outputs": [
    {
     "data": {
      "image/png": "[encoded data removed]",
      "text/plain": [
       "<Figure size 432x288 with 4 Axes>"
      ]
     },
     "metadata": {
      "needs_background": "light"
     },
     "output_type": "display_data"
    }
   ],
   "source": [
    "decompose_mul = seasonal_decompose(df['Pax'], model='multiplicative',period=None)\n",
    "decompose_mul.plot()\n",
    "plt.show()"
   ]
  },
  {
   "cell_type": "markdown",
   "id": "30aed4c6",
   "metadata": {},
   "source": [
    "###### Model should be additive."
   ]
  },
  {
   "cell_type": "markdown",
   "id": "b6400025",
   "metadata": {},
   "source": [
    "# Durbin Watson Test"
   ]
  },
  {
   "cell_type": "code",
   "execution_count": 13,
   "id": "42e7b9a9",
   "metadata": {},
   "outputs": [
    {
     "data": {
      "text/plain": [
       "0.0121527966037621"
      ]
     },
     "execution_count": 13,
     "metadata": {},
     "output_type": "execute_result"
    }
   ],
   "source": [
    "sm.stats.durbin_watson(df['Pax'])"
   ]
  },
  {
   "cell_type": "markdown",
   "id": "0e68991f",
   "metadata": {},
   "source": [
    "This data is good for time series forecasting. \n",
    "\n",
    "This data will give veyr bad result in the linear regression. "
   ]
  },
  {
   "cell_type": "markdown",
   "id": "152c7aad",
   "metadata": {},
   "source": [
    "## Augumented Dickey Fuller Test -- \n",
    "##### To check whether the dataset is stationay or non-stationary..\n",
    "\n",
    "just tesitng if null/alternate hypothesis is accpeted. "
   ]
  },
  {
   "cell_type": "code",
   "execution_count": 14,
   "id": "b7d6bc11",
   "metadata": {},
   "outputs": [
    {
     "data": {
      "text/plain": [
       "(0.8153688792060463,\n",
       " 0.991880243437641,\n",
       " 13,\n",
       " 130,\n",
       " {'1%': -3.4816817173418295,\n",
       "  '5%': -2.8840418343195267,\n",
       "  '10%': -2.578770059171598},\n",
       " 996.692930839019)"
      ]
     },
     "execution_count": 14,
     "metadata": {},
     "output_type": "execute_result"
    }
   ],
   "source": [
    "adfuller(df['Pax'])"
   ]
  },
  {
   "cell_type": "markdown",
   "id": "b86e9386",
   "metadata": {},
   "source": [
    "(0.8153688792060463 --- Stats value adf test\n",
    " 0.991880243437641 ----- p-value\n",
    " 13 -------------------- not to worry about this\n",
    " 130 ------------------- not to worry about this\n",
    " {'1%': -3.4816817173418295 - not to worry about this\n",
    "  '5%': -2.8840418343195267 - not to worry about this\n",
    "  '10%': -2.578770059171598} - not to worry about this\n",
    " 996.692930839019) - not to worry about this"
   ]
  },
  {
   "cell_type": "code",
   "execution_count": 19,
   "id": "5b0ef45f",
   "metadata": {},
   "outputs": [],
   "source": [
    "def adf_check(timeseries):\n",
    "    result = adfuller(timeseries)\n",
    "    print(\"Augumented Dickey Fuller Test : TO find data is stationary or non-stationary\\n\")\n",
    "    \n",
    "    labels = ['ADF Stats Test','p-Values','#Lags','No. of Observations']\n",
    "    for i,j in zip(result,labels):\n",
    "        print( j +\" = \"+str(i))\n",
    "        \n",
    "    if result[1] <= 0.05:\n",
    "        print(\"\\nStrong Evidence evidence against null hypothesis then the dataset is stationary\")\n",
    "    else:\n",
    "        print(\"\\nWeak Evidence against null hypothesis that means dataset is non-statioary\")\n",
    "            "
   ]
  },
  {
   "cell_type": "code",
   "execution_count": 20,
   "id": "f2f61061",
   "metadata": {},
   "outputs": [
    {
     "name": "stdout",
     "output_type": "stream",
     "text": [
      "Augumented Dickey Fuller Test : TO find data is stationary or non-stationary\n",
      "\n",
      "ADF Stats Test = 0.8153688792060463\n",
      "p-Values = 0.991880243437641\n",
      "#Lags = 13\n",
      "No. of Observations = 130\n",
      "\n",
      "Weak Evidence against null hypothesis that means dataset is non-statioary\n"
     ]
    }
   ],
   "source": [
    "adf_check(df['Pax'])"
   ]
  },
  {
   "cell_type": "markdown",
   "id": "41de0e2f",
   "metadata": {},
   "source": [
    "# Data is non-stationary. \n",
    "\n",
    "\n",
    "## For Trend"
   ]
  },
  {
   "cell_type": "code",
   "execution_count": 28,
   "id": "6dbf7138",
   "metadata": {},
   "outputs": [
    {
     "data": {
      "text/html": [
       "<div>\n",
       "<style scoped>\n",
       "    .dataframe tbody tr th:only-of-type {\n",
       "        vertical-align: middle;\n",
       "    }\n",
       "\n",
       "    .dataframe tbody tr th {\n",
       "        vertical-align: top;\n",
       "    }\n",
       "\n",
       "    .dataframe thead th {\n",
       "        text-align: right;\n",
       "    }\n",
       "</style>\n",
       "<table border=\"1\" class=\"dataframe\">\n",
       "  <thead>\n",
       "    <tr style=\"text-align: right;\">\n",
       "      <th></th>\n",
       "      <th>Pax</th>\n",
       "      <th>1st Diff</th>\n",
       "      <th>2nd Diff</th>\n",
       "    </tr>\n",
       "    <tr>\n",
       "      <th>Year-Month</th>\n",
       "      <th></th>\n",
       "      <th></th>\n",
       "      <th></th>\n",
       "    </tr>\n",
       "  </thead>\n",
       "  <tbody>\n",
       "    <tr>\n",
       "      <th>1949-02-01</th>\n",
       "      <td>118</td>\n",
       "      <td>NaN</td>\n",
       "      <td>NaN</td>\n",
       "    </tr>\n",
       "    <tr>\n",
       "      <th>1949-03-01</th>\n",
       "      <td>132</td>\n",
       "      <td>14.0</td>\n",
       "      <td>8.0</td>\n",
       "    </tr>\n",
       "    <tr>\n",
       "      <th>1949-04-01</th>\n",
       "      <td>129</td>\n",
       "      <td>-3.0</td>\n",
       "      <td>-17.0</td>\n",
       "    </tr>\n",
       "    <tr>\n",
       "      <th>1949-05-01</th>\n",
       "      <td>121</td>\n",
       "      <td>-8.0</td>\n",
       "      <td>-5.0</td>\n",
       "    </tr>\n",
       "    <tr>\n",
       "      <th>1949-06-01</th>\n",
       "      <td>135</td>\n",
       "      <td>14.0</td>\n",
       "      <td>22.0</td>\n",
       "    </tr>\n",
       "  </tbody>\n",
       "</table>\n",
       "</div>"
      ],
      "text/plain": [
       "            Pax  1st Diff  2nd Diff\n",
       "Year-Month                         \n",
       "1949-02-01  118       NaN       NaN\n",
       "1949-03-01  132      14.0       8.0\n",
       "1949-04-01  129      -3.0     -17.0\n",
       "1949-05-01  121      -8.0      -5.0\n",
       "1949-06-01  135      14.0      22.0"
      ]
     },
     "execution_count": 28,
     "metadata": {},
     "output_type": "execute_result"
    }
   ],
   "source": [
    "df['1st Diff'] = df['Pax'] -df['Pax'].shift(1)\n",
    "df.head()"
   ]
  },
  {
   "cell_type": "code",
   "execution_count": 29,
   "id": "ea8fe2dd",
   "metadata": {},
   "outputs": [
    {
     "name": "stdout",
     "output_type": "stream",
     "text": [
      "Augumented Dickey Fuller Test : TO find data is stationary or non-stationary\n",
      "\n",
      "ADF Stats Test = -2.8334256455653213\n",
      "p-Values = 0.05365549915890938\n",
      "#Lags = 12\n",
      "No. of Observations = 129\n",
      "\n",
      "Weak Evidence against null hypothesis that means dataset is non-statioary\n"
     ]
    }
   ],
   "source": [
    "adf_check(df['1st Diff'].dropna())  # doesn't work with null data and one data is null. Hence, deleting that. "
   ]
  },
  {
   "cell_type": "markdown",
   "id": "05a3e52f",
   "metadata": {},
   "source": [
    "It is still not stationary. So, we can actually do another lag function. "
   ]
  },
  {
   "cell_type": "code",
   "execution_count": 30,
   "id": "5e157df7",
   "metadata": {},
   "outputs": [
    {
     "data": {
      "text/html": [
       "<div>\n",
       "<style scoped>\n",
       "    .dataframe tbody tr th:only-of-type {\n",
       "        vertical-align: middle;\n",
       "    }\n",
       "\n",
       "    .dataframe tbody tr th {\n",
       "        vertical-align: top;\n",
       "    }\n",
       "\n",
       "    .dataframe thead th {\n",
       "        text-align: right;\n",
       "    }\n",
       "</style>\n",
       "<table border=\"1\" class=\"dataframe\">\n",
       "  <thead>\n",
       "    <tr style=\"text-align: right;\">\n",
       "      <th></th>\n",
       "      <th>Pax</th>\n",
       "      <th>1st Diff</th>\n",
       "      <th>2nd Diff</th>\n",
       "    </tr>\n",
       "    <tr>\n",
       "      <th>Year-Month</th>\n",
       "      <th></th>\n",
       "      <th></th>\n",
       "      <th></th>\n",
       "    </tr>\n",
       "  </thead>\n",
       "  <tbody>\n",
       "    <tr>\n",
       "      <th>1949-02-01</th>\n",
       "      <td>118</td>\n",
       "      <td>NaN</td>\n",
       "      <td>NaN</td>\n",
       "    </tr>\n",
       "    <tr>\n",
       "      <th>1949-03-01</th>\n",
       "      <td>132</td>\n",
       "      <td>14.0</td>\n",
       "      <td>NaN</td>\n",
       "    </tr>\n",
       "    <tr>\n",
       "      <th>1949-04-01</th>\n",
       "      <td>129</td>\n",
       "      <td>-3.0</td>\n",
       "      <td>-17.0</td>\n",
       "    </tr>\n",
       "    <tr>\n",
       "      <th>1949-05-01</th>\n",
       "      <td>121</td>\n",
       "      <td>-8.0</td>\n",
       "      <td>-5.0</td>\n",
       "    </tr>\n",
       "    <tr>\n",
       "      <th>1949-06-01</th>\n",
       "      <td>135</td>\n",
       "      <td>14.0</td>\n",
       "      <td>22.0</td>\n",
       "    </tr>\n",
       "  </tbody>\n",
       "</table>\n",
       "</div>"
      ],
      "text/plain": [
       "            Pax  1st Diff  2nd Diff\n",
       "Year-Month                         \n",
       "1949-02-01  118       NaN       NaN\n",
       "1949-03-01  132      14.0       NaN\n",
       "1949-04-01  129      -3.0     -17.0\n",
       "1949-05-01  121      -8.0      -5.0\n",
       "1949-06-01  135      14.0      22.0"
      ]
     },
     "execution_count": 30,
     "metadata": {},
     "output_type": "execute_result"
    }
   ],
   "source": [
    "df['2nd Diff'] = df['1st Diff'] - df['1st Diff'].shift(1)\n",
    "df.head()"
   ]
  },
  {
   "cell_type": "code",
   "execution_count": 31,
   "id": "d03318a1",
   "metadata": {},
   "outputs": [
    {
     "name": "stdout",
     "output_type": "stream",
     "text": [
      "Augumented Dickey Fuller Test : TO find data is stationary or non-stationary\n",
      "\n",
      "ADF Stats Test = -16.31303255610567\n",
      "p-Values = 3.182121099054364e-29\n",
      "#Lags = 11\n",
      "No. of Observations = 129\n",
      "\n",
      "Strong Evidence evidence against null hypothesis then the dataset is stationary\n"
     ]
    }
   ],
   "source": [
    "adf_check(df['2nd Diff'].dropna())"
   ]
  },
  {
   "cell_type": "markdown",
   "id": "6c70de26",
   "metadata": {},
   "source": [
    "# Now, the dataset is stationary."
   ]
  },
  {
   "cell_type": "markdown",
   "id": "2e1b7006",
   "metadata": {},
   "source": [
    "AR - p :: Partial Autocorrelation\n",
    "I - d :: Difference (AUgumented Dickey Fuller test)\n",
    "MA - q :: Autocorrelation\n",
    "        \n",
    "AIC = Akaike Information Criterion = -LL + parameters\n",
    "\n",
    "parameters == pqd for trend\n",
    "           == PQD for seasonality\n",
    "    \n",
    "    \n",
    "P = ?\n",
    "d = 2  #Number of stationary lags. \n",
    "q = ?"
   ]
  },
  {
   "cell_type": "markdown",
   "id": "4c3d07a9",
   "metadata": {},
   "source": [
    "# SEASONALITY "
   ]
  },
  {
   "cell_type": "code",
   "execution_count": 33,
   "id": "34fd90fa",
   "metadata": {},
   "outputs": [
    {
     "data": {
      "text/html": [
       "<div>\n",
       "<style scoped>\n",
       "    .dataframe tbody tr th:only-of-type {\n",
       "        vertical-align: middle;\n",
       "    }\n",
       "\n",
       "    .dataframe tbody tr th {\n",
       "        vertical-align: top;\n",
       "    }\n",
       "\n",
       "    .dataframe thead th {\n",
       "        text-align: right;\n",
       "    }\n",
       "</style>\n",
       "<table border=\"1\" class=\"dataframe\">\n",
       "  <thead>\n",
       "    <tr style=\"text-align: right;\">\n",
       "      <th></th>\n",
       "      <th>Pax</th>\n",
       "      <th>1st Diff</th>\n",
       "      <th>2nd Diff</th>\n",
       "      <th>Seasonality</th>\n",
       "    </tr>\n",
       "    <tr>\n",
       "      <th>Year-Month</th>\n",
       "      <th></th>\n",
       "      <th></th>\n",
       "      <th></th>\n",
       "      <th></th>\n",
       "    </tr>\n",
       "  </thead>\n",
       "  <tbody>\n",
       "    <tr>\n",
       "      <th>1949-02-01</th>\n",
       "      <td>118</td>\n",
       "      <td>NaN</td>\n",
       "      <td>NaN</td>\n",
       "      <td>NaN</td>\n",
       "    </tr>\n",
       "    <tr>\n",
       "      <th>1949-03-01</th>\n",
       "      <td>132</td>\n",
       "      <td>14.0</td>\n",
       "      <td>NaN</td>\n",
       "      <td>NaN</td>\n",
       "    </tr>\n",
       "    <tr>\n",
       "      <th>1949-04-01</th>\n",
       "      <td>129</td>\n",
       "      <td>-3.0</td>\n",
       "      <td>-17.0</td>\n",
       "      <td>NaN</td>\n",
       "    </tr>\n",
       "    <tr>\n",
       "      <th>1949-05-01</th>\n",
       "      <td>121</td>\n",
       "      <td>-8.0</td>\n",
       "      <td>-5.0</td>\n",
       "      <td>NaN</td>\n",
       "    </tr>\n",
       "    <tr>\n",
       "      <th>1949-06-01</th>\n",
       "      <td>135</td>\n",
       "      <td>14.0</td>\n",
       "      <td>22.0</td>\n",
       "      <td>NaN</td>\n",
       "    </tr>\n",
       "    <tr>\n",
       "      <th>1949-07-01</th>\n",
       "      <td>148</td>\n",
       "      <td>13.0</td>\n",
       "      <td>-1.0</td>\n",
       "      <td>NaN</td>\n",
       "    </tr>\n",
       "    <tr>\n",
       "      <th>1949-08-01</th>\n",
       "      <td>148</td>\n",
       "      <td>0.0</td>\n",
       "      <td>-13.0</td>\n",
       "      <td>NaN</td>\n",
       "    </tr>\n",
       "    <tr>\n",
       "      <th>1949-09-01</th>\n",
       "      <td>136</td>\n",
       "      <td>-12.0</td>\n",
       "      <td>-12.0</td>\n",
       "      <td>NaN</td>\n",
       "    </tr>\n",
       "    <tr>\n",
       "      <th>1949-10-01</th>\n",
       "      <td>119</td>\n",
       "      <td>-17.0</td>\n",
       "      <td>-5.0</td>\n",
       "      <td>NaN</td>\n",
       "    </tr>\n",
       "    <tr>\n",
       "      <th>1949-11-01</th>\n",
       "      <td>104</td>\n",
       "      <td>-15.0</td>\n",
       "      <td>2.0</td>\n",
       "      <td>NaN</td>\n",
       "    </tr>\n",
       "    <tr>\n",
       "      <th>1949-12-01</th>\n",
       "      <td>118</td>\n",
       "      <td>14.0</td>\n",
       "      <td>29.0</td>\n",
       "      <td>NaN</td>\n",
       "    </tr>\n",
       "    <tr>\n",
       "      <th>1950-01-01</th>\n",
       "      <td>115</td>\n",
       "      <td>-3.0</td>\n",
       "      <td>-17.0</td>\n",
       "      <td>NaN</td>\n",
       "    </tr>\n",
       "    <tr>\n",
       "      <th>1950-02-01</th>\n",
       "      <td>126</td>\n",
       "      <td>11.0</td>\n",
       "      <td>14.0</td>\n",
       "      <td>8.0</td>\n",
       "    </tr>\n",
       "    <tr>\n",
       "      <th>1950-03-01</th>\n",
       "      <td>141</td>\n",
       "      <td>15.0</td>\n",
       "      <td>4.0</td>\n",
       "      <td>9.0</td>\n",
       "    </tr>\n",
       "    <tr>\n",
       "      <th>1950-04-01</th>\n",
       "      <td>135</td>\n",
       "      <td>-6.0</td>\n",
       "      <td>-21.0</td>\n",
       "      <td>6.0</td>\n",
       "    </tr>\n",
       "  </tbody>\n",
       "</table>\n",
       "</div>"
      ],
      "text/plain": [
       "            Pax  1st Diff  2nd Diff  Seasonality\n",
       "Year-Month                                      \n",
       "1949-02-01  118       NaN       NaN          NaN\n",
       "1949-03-01  132      14.0       NaN          NaN\n",
       "1949-04-01  129      -3.0     -17.0          NaN\n",
       "1949-05-01  121      -8.0      -5.0          NaN\n",
       "1949-06-01  135      14.0      22.0          NaN\n",
       "1949-07-01  148      13.0      -1.0          NaN\n",
       "1949-08-01  148       0.0     -13.0          NaN\n",
       "1949-09-01  136     -12.0     -12.0          NaN\n",
       "1949-10-01  119     -17.0      -5.0          NaN\n",
       "1949-11-01  104     -15.0       2.0          NaN\n",
       "1949-12-01  118      14.0      29.0          NaN\n",
       "1950-01-01  115      -3.0     -17.0          NaN\n",
       "1950-02-01  126      11.0      14.0          8.0\n",
       "1950-03-01  141      15.0       4.0          9.0\n",
       "1950-04-01  135      -6.0     -21.0          6.0"
      ]
     },
     "execution_count": 33,
     "metadata": {},
     "output_type": "execute_result"
    }
   ],
   "source": [
    "df['Seasonality'] = df['Pax'] - df['Pax'].shift(12)\n",
    "df.head(15)"
   ]
  },
  {
   "cell_type": "code",
   "execution_count": 34,
   "id": "de0f2ee3",
   "metadata": {},
   "outputs": [
    {
     "name": "stdout",
     "output_type": "stream",
     "text": [
      "Augumented Dickey Fuller Test : TO find data is stationary or non-stationary\n",
      "\n",
      "ADF Stats Test = -3.375189099719881\n",
      "p-Values = 0.011834318115889409\n",
      "#Lags = 1\n",
      "No. of Observations = 129\n",
      "\n",
      "Strong Evidence evidence against null hypothesis then the dataset is stationary\n"
     ]
    }
   ],
   "source": [
    "adf_check(df['Seasonality'].dropna())"
   ]
  },
  {
   "cell_type": "code",
   "execution_count": null,
   "id": "bf60ba10",
   "metadata": {},
   "outputs": [],
   "source": [
    "So, we got stationary data in just 1 lag. \n",
    "\n",
    "P=?\n",
    "D=1\n",
    "Q=?"
   ]
  },
  {
   "cell_type": "markdown",
   "id": "01ecbbce",
   "metadata": {},
   "source": [
    " We need to find the p and q. For that we use the process of graphical representation to find out the numbers. "
   ]
  },
  {
   "cell_type": "code",
   "execution_count": 36,
   "id": "e179bb34",
   "metadata": {},
   "outputs": [],
   "source": [
    "from statsmodels.graphics.tsaplots import plot_acf,plot_pacf"
   ]
  },
  {
   "cell_type": "markdown",
   "id": "959347fe",
   "metadata": {},
   "source": [
    "acf - auto correlation function\n",
    "pacf = partial autocorrelation function"
   ]
  },
  {
   "cell_type": "code",
   "execution_count": 37,
   "id": "b6d06c7f",
   "metadata": {},
   "outputs": [
    {
     "data": {
      "text/html": [
       "<div>\n",
       "<style scoped>\n",
       "    .dataframe tbody tr th:only-of-type {\n",
       "        vertical-align: middle;\n",
       "    }\n",
       "\n",
       "    .dataframe tbody tr th {\n",
       "        vertical-align: top;\n",
       "    }\n",
       "\n",
       "    .dataframe thead th {\n",
       "        text-align: right;\n",
       "    }\n",
       "</style>\n",
       "<table border=\"1\" class=\"dataframe\">\n",
       "  <thead>\n",
       "    <tr style=\"text-align: right;\">\n",
       "      <th></th>\n",
       "      <th>Pax</th>\n",
       "      <th>1st Diff</th>\n",
       "      <th>2nd Diff</th>\n",
       "      <th>Seasonality</th>\n",
       "    </tr>\n",
       "    <tr>\n",
       "      <th>Year-Month</th>\n",
       "      <th></th>\n",
       "      <th></th>\n",
       "      <th></th>\n",
       "      <th></th>\n",
       "    </tr>\n",
       "  </thead>\n",
       "  <tbody>\n",
       "    <tr>\n",
       "      <th>1949-02-01</th>\n",
       "      <td>118</td>\n",
       "      <td>NaN</td>\n",
       "      <td>NaN</td>\n",
       "      <td>NaN</td>\n",
       "    </tr>\n",
       "  </tbody>\n",
       "</table>\n",
       "</div>"
      ],
      "text/plain": [
       "            Pax  1st Diff  2nd Diff  Seasonality\n",
       "Year-Month                                      \n",
       "1949-02-01  118       NaN       NaN          NaN"
      ]
     },
     "execution_count": 37,
     "metadata": {},
     "output_type": "execute_result"
    }
   ],
   "source": [
    "df.head(1)"
   ]
  },
  {
   "cell_type": "markdown",
   "id": "82973483",
   "metadata": {},
   "source": [
    "# TREND - p and q calculation"
   ]
  },
  {
   "cell_type": "code",
   "execution_count": 41,
   "id": "e111772a",
   "metadata": {},
   "outputs": [
    {
     "data": {
      "image/png": "[encoded data removed]",
      "text/plain": [
       "<Figure size 432x288 with 1 Axes>"
      ]
     },
     "metadata": {
      "needs_background": "light"
     },
     "output_type": "display_data"
    }
   ],
   "source": [
    "plot_acf(df['2nd Diff'].dropna(),lags=20)\n",
    "plt.show()"
   ]
  },
  {
   "cell_type": "code",
   "execution_count": 42,
   "id": "56262cae",
   "metadata": {},
   "outputs": [
    {
     "data": {
      "image/png": "[encoded data removed]",
      "text/plain": [
       "<Figure size 432x288 with 1 Axes>"
      ]
     },
     "metadata": {
      "needs_background": "light"
     },
     "output_type": "display_data"
    }
   ],
   "source": [
    "plot_pacf(df['2nd Diff'].dropna(),lags=15)\n",
    "plt.show()"
   ]
  },
  {
   "cell_type": "code",
   "execution_count": null,
   "id": "2f2a023e",
   "metadata": {},
   "outputs": [],
   "source": [
    "p = 4\n",
    "d = 2\n",
    "q = 2"
   ]
  },
  {
   "cell_type": "markdown",
   "id": "8b02185d",
   "metadata": {},
   "source": [
    "# SEASONALITY - PQD Values"
   ]
  },
  {
   "cell_type": "code",
   "execution_count": 45,
   "id": "653d1418",
   "metadata": {},
   "outputs": [
    {
     "data": {
      "image/png": "[encoded data removed]",
      "text/plain": [
       "<Figure size 432x288 with 1 Axes>"
      ]
     },
     "metadata": {
      "needs_background": "light"
     },
     "output_type": "display_data"
    }
   ],
   "source": [
    "plot_acf(df['Seasonality'].dropna(),lags=15)\n",
    "plt.show()"
   ]
  },
  {
   "cell_type": "code",
   "execution_count": 47,
   "id": "b4ca6560",
   "metadata": {},
   "outputs": [
    {
     "data": {
      "image/png": "[encoded data removed]",
      "text/plain": [
       "<Figure size 432x288 with 1 Axes>"
      ]
     },
     "metadata": {
      "needs_background": "light"
     },
     "output_type": "display_data"
    }
   ],
   "source": [
    "plot_pacf(df['Seasonality'].dropna(),lags=15)\n",
    "plt.show()"
   ]
  },
  {
   "cell_type": "code",
   "execution_count": null,
   "id": "bf6ce40f",
   "metadata": {},
   "outputs": [],
   "source": [
    "P = 2\n",
    "D = 1\n",
    "Q = 5"
   ]
  },
  {
   "cell_type": "markdown",
   "id": "7020ad17",
   "metadata": {},
   "source": [
    "## Trend Parameters\n",
    "p = 4\n",
    "d = 2\n",
    "q = 2\n",
    "\n",
    "## Seasonal Parameters\n",
    "P = 2\n",
    "D = 1\n",
    "Q = 5"
   ]
  },
  {
   "cell_type": "markdown",
   "id": "271945c6",
   "metadata": {},
   "source": [
    "# ARIMA MODEL"
   ]
  },
  {
   "cell_type": "code",
   "execution_count": 57,
   "id": "e20aeb78",
   "metadata": {},
   "outputs": [],
   "source": [
    "from statsmodels.tsa.arima_model import ARIMA\n",
    "import statsmodels.api as sm"
   ]
  },
  {
   "cell_type": "code",
   "execution_count": 59,
   "id": "c0ccb6d9",
   "metadata": {},
   "outputs": [
    {
     "data": {
      "text/html": [
       "<div>\n",
       "<style scoped>\n",
       "    .dataframe tbody tr th:only-of-type {\n",
       "        vertical-align: middle;\n",
       "    }\n",
       "\n",
       "    .dataframe tbody tr th {\n",
       "        vertical-align: top;\n",
       "    }\n",
       "\n",
       "    .dataframe thead th {\n",
       "        text-align: right;\n",
       "    }\n",
       "</style>\n",
       "<table border=\"1\" class=\"dataframe\">\n",
       "  <thead>\n",
       "    <tr style=\"text-align: right;\">\n",
       "      <th></th>\n",
       "      <th>Pax</th>\n",
       "      <th>1st Diff</th>\n",
       "      <th>2nd Diff</th>\n",
       "      <th>Seasonality</th>\n",
       "    </tr>\n",
       "    <tr>\n",
       "      <th>Year-Month</th>\n",
       "      <th></th>\n",
       "      <th></th>\n",
       "      <th></th>\n",
       "      <th></th>\n",
       "    </tr>\n",
       "  </thead>\n",
       "  <tbody>\n",
       "    <tr>\n",
       "      <th>1949-02-01</th>\n",
       "      <td>118</td>\n",
       "      <td>NaN</td>\n",
       "      <td>NaN</td>\n",
       "      <td>NaN</td>\n",
       "    </tr>\n",
       "  </tbody>\n",
       "</table>\n",
       "</div>"
      ],
      "text/plain": [
       "            Pax  1st Diff  2nd Diff  Seasonality\n",
       "Year-Month                                      \n",
       "1949-02-01  118       NaN       NaN          NaN"
      ]
     },
     "execution_count": 59,
     "metadata": {},
     "output_type": "execute_result"
    }
   ],
   "source": [
    "df.head(1)"
   ]
  },
  {
   "cell_type": "code",
   "execution_count": 60,
   "id": "2a30abaa",
   "metadata": {},
   "outputs": [
    {
     "name": "stderr",
     "output_type": "stream",
     "text": [
      "C:\\Users\\Swarn\\anaconda3\\lib\\site-packages\\statsmodels\\tsa\\base\\tsa_model.py:471: ValueWarning: No frequency information was provided, so inferred frequency MS will be used.\n",
      "  self._init_dates(dates, freq)\n",
      "C:\\Users\\Swarn\\anaconda3\\lib\\site-packages\\statsmodels\\tsa\\base\\tsa_model.py:471: ValueWarning: No frequency information was provided, so inferred frequency MS will be used.\n",
      "  self._init_dates(dates, freq)\n"
     ]
    }
   ],
   "source": [
    "model = sm.tsa.statespace.SARIMAX(df['Pax'],order=(4,2,2), seasonal_order=(2,1,5,12))"
   ]
  },
  {
   "cell_type": "code",
   "execution_count": 62,
   "id": "9b6746aa",
   "metadata": {},
   "outputs": [
    {
     "name": "stderr",
     "output_type": "stream",
     "text": [
      "C:\\Users\\Swarn\\anaconda3\\lib\\site-packages\\statsmodels\\base\\model.py:604: ConvergenceWarning: Maximum Likelihood optimization failed to converge. Check mle_retvals\n",
      "  warnings.warn(\"Maximum Likelihood optimization failed to \"\n"
     ]
    },
    {
     "data": {
      "text/html": [
       "<table class=\"simpletable\">\n",
       "<caption>SARIMAX Results</caption>\n",
       "<tr>\n",
       "  <th>Dep. Variable:</th>                        <td>Pax</td>                     <th>  No. Observations:  </th>    <td>143</td>  \n",
       "</tr>\n",
       "<tr>\n",
       "  <th>Model:</th>           <td>SARIMAX(4, 2, 2)x(2, 1, [1, 2, 3, 4, 5], 12)</td> <th>  Log Likelihood     </th> <td>-493.698</td>\n",
       "</tr>\n",
       "<tr>\n",
       "  <th>Date:</th>                          <td>Thu, 03 Aug 2023</td>               <th>  AIC                </th> <td>1015.397</td>\n",
       "</tr>\n",
       "<tr>\n",
       "  <th>Time:</th>                              <td>10:38:25</td>                   <th>  BIC                </th> <td>1055.434</td>\n",
       "</tr>\n",
       "<tr>\n",
       "  <th>Sample:</th>                           <td>02-01-1949</td>                  <th>  HQIC               </th> <td>1031.665</td>\n",
       "</tr>\n",
       "<tr>\n",
       "  <th></th>                                 <td>- 12-01-1960</td>                 <th>                     </th>     <td> </td>   \n",
       "</tr>\n",
       "<tr>\n",
       "  <th>Covariance Type:</th>                      <td>opg</td>                     <th>                     </th>     <td> </td>   \n",
       "</tr>\n",
       "</table>\n",
       "<table class=\"simpletable\">\n",
       "<tr>\n",
       "      <td></td>        <th>coef</th>     <th>std err</th>      <th>z</th>      <th>P>|z|</th>  <th>[0.025</th>    <th>0.975]</th>  \n",
       "</tr>\n",
       "<tr>\n",
       "  <th>ar.L1</th>    <td>   -1.3421</td> <td>    0.094</td> <td>  -14.338</td> <td> 0.000</td> <td>   -1.526</td> <td>   -1.159</td>\n",
       "</tr>\n",
       "<tr>\n",
       "  <th>ar.L2</th>    <td>   -0.4582</td> <td>    0.144</td> <td>   -3.176</td> <td> 0.001</td> <td>   -0.741</td> <td>   -0.175</td>\n",
       "</tr>\n",
       "<tr>\n",
       "  <th>ar.L3</th>    <td>   -0.1184</td> <td>    0.191</td> <td>   -0.621</td> <td> 0.535</td> <td>   -0.492</td> <td>    0.255</td>\n",
       "</tr>\n",
       "<tr>\n",
       "  <th>ar.L4</th>    <td>   -0.0817</td> <td>    0.101</td> <td>   -0.806</td> <td> 0.420</td> <td>   -0.281</td> <td>    0.117</td>\n",
       "</tr>\n",
       "<tr>\n",
       "  <th>ma.L1</th>    <td>   -0.0067</td> <td>    7.800</td> <td>   -0.001</td> <td> 0.999</td> <td>  -15.294</td> <td>   15.280</td>\n",
       "</tr>\n",
       "<tr>\n",
       "  <th>ma.L2</th>    <td>   -0.9933</td> <td>    7.756</td> <td>   -0.128</td> <td> 0.898</td> <td>  -16.194</td> <td>   14.207</td>\n",
       "</tr>\n",
       "<tr>\n",
       "  <th>ar.S.L12</th> <td>    0.5400</td> <td>  426.906</td> <td>    0.001</td> <td> 0.999</td> <td> -836.181</td> <td>  837.261</td>\n",
       "</tr>\n",
       "<tr>\n",
       "  <th>ar.S.L24</th> <td>    0.3943</td> <td>  407.312</td> <td>    0.001</td> <td> 0.999</td> <td> -797.923</td> <td>  798.711</td>\n",
       "</tr>\n",
       "<tr>\n",
       "  <th>ma.S.L12</th> <td>   -0.7858</td> <td>  426.860</td> <td>   -0.002</td> <td> 0.999</td> <td> -837.416</td> <td>  835.844</td>\n",
       "</tr>\n",
       "<tr>\n",
       "  <th>ma.S.L24</th> <td>   -0.1429</td> <td>  512.263</td> <td>   -0.000</td> <td> 1.000</td> <td>-1004.160</td> <td> 1003.874</td>\n",
       "</tr>\n",
       "<tr>\n",
       "  <th>ma.S.L36</th> <td>    0.0218</td> <td>  150.775</td> <td>    0.000</td> <td> 1.000</td> <td> -295.492</td> <td>  295.536</td>\n",
       "</tr>\n",
       "<tr>\n",
       "  <th>ma.S.L48</th> <td>    0.0857</td> <td>   53.079</td> <td>    0.002</td> <td> 0.999</td> <td> -103.948</td> <td>  104.119</td>\n",
       "</tr>\n",
       "<tr>\n",
       "  <th>ma.S.L60</th> <td>    0.0572</td> <td>   58.516</td> <td>    0.001</td> <td> 0.999</td> <td> -114.632</td> <td>  114.747</td>\n",
       "</tr>\n",
       "<tr>\n",
       "  <th>sigma2</th>   <td>  110.1432</td> <td>  858.981</td> <td>    0.128</td> <td> 0.898</td> <td>-1573.428</td> <td> 1793.714</td>\n",
       "</tr>\n",
       "</table>\n",
       "<table class=\"simpletable\">\n",
       "<tr>\n",
       "  <th>Ljung-Box (L1) (Q):</th>     <td>0.07</td> <th>  Jarque-Bera (JB):  </th> <td>11.53</td>\n",
       "</tr>\n",
       "<tr>\n",
       "  <th>Prob(Q):</th>                <td>0.79</td> <th>  Prob(JB):          </th> <td>0.00</td> \n",
       "</tr>\n",
       "<tr>\n",
       "  <th>Heteroskedasticity (H):</th> <td>2.77</td> <th>  Skew:              </th> <td>0.19</td> \n",
       "</tr>\n",
       "<tr>\n",
       "  <th>Prob(H) (two-sided):</th>    <td>0.00</td> <th>  Kurtosis:          </th> <td>4.41</td> \n",
       "</tr>\n",
       "</table><br/><br/>Warnings:<br/>[1] Covariance matrix calculated using the outer product of gradients (complex-step)."
      ],
      "text/plain": [
       "<class 'statsmodels.iolib.summary.Summary'>\n",
       "\"\"\"\n",
       "                                            SARIMAX Results                                             \n",
       "========================================================================================================\n",
       "Dep. Variable:                                              Pax   No. Observations:                  143\n",
       "Model:             SARIMAX(4, 2, 2)x(2, 1, [1, 2, 3, 4, 5], 12)   Log Likelihood                -493.698\n",
       "Date:                                          Thu, 03 Aug 2023   AIC                           1015.397\n",
       "Time:                                                  10:38:25   BIC                           1055.434\n",
       "Sample:                                              02-01-1949   HQIC                          1031.665\n",
       "                                                   - 12-01-1960                                         \n",
       "Covariance Type:                                            opg                                         \n",
       "==============================================================================\n",
       "                 coef    std err          z      P>|z|      [0.025      0.975]\n",
       "------------------------------------------------------------------------------\n",
       "ar.L1         -1.3421      0.094    -14.338      0.000      -1.526      -1.159\n",
       "ar.L2         -0.4582      0.144     -3.176      0.001      -0.741      -0.175\n",
       "ar.L3         -0.1184      0.191     -0.621      0.535      -0.492       0.255\n",
       "ar.L4         -0.0817      0.101     -0.806      0.420      -0.281       0.117\n",
       "ma.L1         -0.0067      7.800     -0.001      0.999     -15.294      15.280\n",
       "ma.L2         -0.9933      7.756     -0.128      0.898     -16.194      14.207\n",
       "ar.S.L12       0.5400    426.906      0.001      0.999    -836.181     837.261\n",
       "ar.S.L24       0.3943    407.312      0.001      0.999    -797.923     798.711\n",
       "ma.S.L12      -0.7858    426.860     -0.002      0.999    -837.416     835.844\n",
       "ma.S.L24      -0.1429    512.263     -0.000      1.000   -1004.160    1003.874\n",
       "ma.S.L36       0.0218    150.775      0.000      1.000    -295.492     295.536\n",
       "ma.S.L48       0.0857     53.079      0.002      0.999    -103.948     104.119\n",
       "ma.S.L60       0.0572     58.516      0.001      0.999    -114.632     114.747\n",
       "sigma2       110.1432    858.981      0.128      0.898   -1573.428    1793.714\n",
       "===================================================================================\n",
       "Ljung-Box (L1) (Q):                   0.07   Jarque-Bera (JB):                11.53\n",
       "Prob(Q):                              0.79   Prob(JB):                         0.00\n",
       "Heteroskedasticity (H):               2.77   Skew:                             0.19\n",
       "Prob(H) (two-sided):                  0.00   Kurtosis:                         4.41\n",
       "===================================================================================\n",
       "\n",
       "Warnings:\n",
       "[1] Covariance matrix calculated using the outer product of gradients (complex-step).\n",
       "\"\"\""
      ]
     },
     "execution_count": 62,
     "metadata": {},
     "output_type": "execute_result"
    }
   ],
   "source": [
    "result = model.fit()\n",
    "result.summary()"
   ]
  },
  {
   "cell_type": "code",
   "execution_count": null,
   "id": "0610d3b3",
   "metadata": {},
   "outputs": [],
   "source": [
    "# AIC = 1015.397   ::  Seasonal_order = (2, 1, 5, 12)\n",
    "# AIC =  1015.397  ::  Seasonal_order = (2, 1, 4, 12)\n",
    "# AIC =    ::  Seasonal_order = (2, 1, 3, 12)\n",
    "# AIC =    ::  Seasonal_order = (2, 1, 2, 12)\n",
    "# AIC =    ::  Seasonal_order = (2, 1, 1, 12)"
   ]
  },
  {
   "cell_type": "code",
   "execution_count": 68,
   "id": "851b7df8",
   "metadata": {},
   "outputs": [
    {
     "name": "stderr",
     "output_type": "stream",
     "text": [
      "C:\\Users\\Swarn\\anaconda3\\lib\\site-packages\\statsmodels\\tsa\\base\\tsa_model.py:471: ValueWarning: No frequency information was provided, so inferred frequency MS will be used.\n",
      "  self._init_dates(dates, freq)\n",
      "C:\\Users\\Swarn\\anaconda3\\lib\\site-packages\\statsmodels\\tsa\\base\\tsa_model.py:471: ValueWarning: No frequency information was provided, so inferred frequency MS will be used.\n",
      "  self._init_dates(dates, freq)\n"
     ]
    },
    {
     "name": "stdout",
     "output_type": "stream",
     "text": [
      "**********for i = 1 *****seasonal_order = (2, 1, 1, 12)  ************\n",
      "                                      SARIMAX Results                                       \n",
      "============================================================================================\n",
      "Dep. Variable:                                  Pax   No. Observations:                  143\n",
      "Model:             SARIMAX(4, 2, 2)x(2, 1, [1], 12)   Log Likelihood                -494.347\n",
      "Date:                              Thu, 03 Aug 2023   AIC                           1008.695\n",
      "Time:                                      11:10:07   BIC                           1037.293\n",
      "Sample:                                  02-01-1949   HQIC                          1020.315\n",
      "                                       - 12-01-1960                                         \n",
      "Covariance Type:                                opg                                         \n",
      "==============================================================================\n",
      "                 coef    std err          z      P>|z|      [0.025      0.975]\n",
      "------------------------------------------------------------------------------\n",
      "ar.L1         -1.3596      0.093    -14.558      0.000      -1.543      -1.177\n",
      "ar.L2         -0.4883      0.145     -3.371      0.001      -0.772      -0.204\n",
      "ar.L3         -0.1117      0.173     -0.644      0.519      -0.451       0.228\n",
      "ar.L4         -0.0656      0.096     -0.681      0.496      -0.255       0.123\n",
      "ma.L1         -0.0018      0.710     -0.003      0.998      -1.394       1.390\n",
      "ma.L2         -0.9982      0.801     -1.246      0.213      -2.568       0.571\n",
      "ar.S.L12       0.6835      0.181      3.775      0.000       0.329       1.038\n",
      "ar.S.L24       0.3153      0.102      3.077      0.002       0.114       0.516\n",
      "ma.S.L12      -0.9738      1.440     -0.676      0.499      -3.797       1.849\n",
      "sigma2       104.2782    121.168      0.861      0.389    -133.207     341.763\n",
      "===================================================================================\n",
      "Ljung-Box (L1) (Q):                   0.04   Jarque-Bera (JB):                11.63\n",
      "Prob(Q):                              0.85   Prob(JB):                         0.00\n",
      "Heteroskedasticity (H):               2.71   Skew:                             0.21\n",
      "Prob(H) (two-sided):                  0.00   Kurtosis:                         4.41\n",
      "===================================================================================\n",
      "\n",
      "Warnings:\n",
      "[1] Covariance matrix calculated using the outer product of gradients (complex-step).\n"
     ]
    },
    {
     "name": "stderr",
     "output_type": "stream",
     "text": [
      "C:\\Users\\Swarn\\anaconda3\\lib\\site-packages\\statsmodels\\tsa\\base\\tsa_model.py:471: ValueWarning: No frequency information was provided, so inferred frequency MS will be used.\n",
      "  self._init_dates(dates, freq)\n",
      "C:\\Users\\Swarn\\anaconda3\\lib\\site-packages\\statsmodels\\tsa\\base\\tsa_model.py:471: ValueWarning: No frequency information was provided, so inferred frequency MS will be used.\n",
      "  self._init_dates(dates, freq)\n",
      "C:\\Users\\Swarn\\anaconda3\\lib\\site-packages\\statsmodels\\base\\model.py:604: ConvergenceWarning: Maximum Likelihood optimization failed to converge. Check mle_retvals\n",
      "  warnings.warn(\"Maximum Likelihood optimization failed to \"\n"
     ]
    },
    {
     "name": "stdout",
     "output_type": "stream",
     "text": [
      "**********for i = 2 *****seasonal_order = (2, 1, 2, 12)  ************\n",
      "                                     SARIMAX Results                                      \n",
      "==========================================================================================\n",
      "Dep. Variable:                                Pax   No. Observations:                  143\n",
      "Model:             SARIMAX(4, 2, 2)x(2, 1, 2, 12)   Log Likelihood                -494.362\n",
      "Date:                            Thu, 03 Aug 2023   AIC                           1010.723\n",
      "Time:                                    11:10:11   BIC                           1042.181\n",
      "Sample:                                02-01-1949   HQIC                          1023.505\n",
      "                                     - 12-01-1960                                         \n",
      "Covariance Type:                              opg                                         \n",
      "==============================================================================\n",
      "                 coef    std err          z      P>|z|      [0.025      0.975]\n",
      "------------------------------------------------------------------------------\n",
      "ar.L1         -1.3527      0.094    -14.397      0.000      -1.537      -1.169\n",
      "ar.L2         -0.4821      0.143     -3.360      0.001      -0.763      -0.201\n",
      "ar.L3         -0.1087      0.181     -0.600      0.549      -0.464       0.246\n",
      "ar.L4         -0.0584      0.098     -0.598      0.550      -0.250       0.133\n",
      "ma.L1         -0.0040     27.515     -0.000      1.000     -53.931      53.924\n",
      "ma.L2         -0.9960     27.418     -0.036      0.971     -54.735      52.743\n",
      "ar.S.L12       1.0813      0.454      2.383      0.017       0.192       1.970\n",
      "ar.S.L24      -0.1018      0.549     -0.186      0.853      -1.177       0.974\n",
      "ma.S.L12      -1.3525      0.403     -3.358      0.001      -2.142      -0.563\n",
      "ma.S.L24       0.4481      0.547      0.819      0.413      -0.624       1.520\n",
      "sigma2       108.7530   2991.869      0.036      0.971   -5755.202    5972.708\n",
      "===================================================================================\n",
      "Ljung-Box (L1) (Q):                   0.05   Jarque-Bera (JB):                13.49\n",
      "Prob(Q):                              0.83   Prob(JB):                         0.00\n",
      "Heteroskedasticity (H):               2.74   Skew:                             0.14\n",
      "Prob(H) (two-sided):                  0.00   Kurtosis:                         4.56\n",
      "===================================================================================\n",
      "\n",
      "Warnings:\n",
      "[1] Covariance matrix calculated using the outer product of gradients (complex-step).\n"
     ]
    },
    {
     "name": "stderr",
     "output_type": "stream",
     "text": [
      "C:\\Users\\Swarn\\anaconda3\\lib\\site-packages\\statsmodels\\tsa\\base\\tsa_model.py:471: ValueWarning: No frequency information was provided, so inferred frequency MS will be used.\n",
      "  self._init_dates(dates, freq)\n",
      "C:\\Users\\Swarn\\anaconda3\\lib\\site-packages\\statsmodels\\tsa\\base\\tsa_model.py:471: ValueWarning: No frequency information was provided, so inferred frequency MS will be used.\n",
      "  self._init_dates(dates, freq)\n"
     ]
    },
    {
     "name": "stdout",
     "output_type": "stream",
     "text": [
      "**********for i = 3 *****seasonal_order = (2, 1, 3, 12)  ************\n",
      "                                         SARIMAX Results                                          \n",
      "==================================================================================================\n",
      "Dep. Variable:                                        Pax   No. Observations:                  143\n",
      "Model:             SARIMAX(4, 2, 2)x(2, 1, [1, 2, 3], 12)   Log Likelihood                -493.658\n",
      "Date:                                    Thu, 03 Aug 2023   AIC                           1011.316\n",
      "Time:                                            11:10:17   BIC                           1045.633\n",
      "Sample:                                        02-01-1949   HQIC                          1025.260\n",
      "                                             - 12-01-1960                                         \n",
      "Covariance Type:                                      opg                                         \n",
      "==============================================================================\n",
      "                 coef    std err          z      P>|z|      [0.025      0.975]\n",
      "------------------------------------------------------------------------------\n",
      "ar.L1         -1.3717      0.096    -14.237      0.000      -1.561      -1.183\n",
      "ar.L2         -0.5152      0.164     -3.146      0.002      -0.836      -0.194\n",
      "ar.L3         -0.1145      0.187     -0.612      0.540      -0.481       0.252\n",
      "ar.L4         -0.0509      0.098     -0.522      0.601      -0.242       0.140\n",
      "ma.L1         -0.0039      0.729     -0.005      0.996      -1.432       1.424\n",
      "ma.L2         -0.9961      0.754     -1.322      0.186      -2.473       0.481\n",
      "ar.S.L12       0.0072      0.513      0.014      0.989      -0.999       1.013\n",
      "ar.S.L24       0.9925      0.438      2.268      0.023       0.135       1.850\n",
      "ma.S.L12      -0.3190      4.539     -0.070      0.944      -9.216       8.578\n",
      "ma.S.L24      -0.9505      2.673     -0.356      0.722      -6.189       4.288\n",
      "ma.S.L36       0.2867      1.006      0.285      0.776      -1.684       2.257\n",
      "sigma2        97.6558    335.052      0.291      0.771    -559.034     754.346\n",
      "===================================================================================\n",
      "Ljung-Box (L1) (Q):                   0.03   Jarque-Bera (JB):                15.36\n",
      "Prob(Q):                              0.86   Prob(JB):                         0.00\n",
      "Heteroskedasticity (H):               2.71   Skew:                             0.26\n",
      "Prob(H) (two-sided):                  0.00   Kurtosis:                         4.61\n",
      "===================================================================================\n",
      "\n",
      "Warnings:\n",
      "[1] Covariance matrix calculated using the outer product of gradients (complex-step).\n"
     ]
    },
    {
     "name": "stderr",
     "output_type": "stream",
     "text": [
      "C:\\Users\\Swarn\\anaconda3\\lib\\site-packages\\statsmodels\\tsa\\base\\tsa_model.py:471: ValueWarning: No frequency information was provided, so inferred frequency MS will be used.\n",
      "  self._init_dates(dates, freq)\n",
      "C:\\Users\\Swarn\\anaconda3\\lib\\site-packages\\statsmodels\\tsa\\base\\tsa_model.py:471: ValueWarning: No frequency information was provided, so inferred frequency MS will be used.\n",
      "  self._init_dates(dates, freq)\n",
      "C:\\Users\\Swarn\\anaconda3\\lib\\site-packages\\statsmodels\\base\\model.py:604: ConvergenceWarning: Maximum Likelihood optimization failed to converge. Check mle_retvals\n",
      "  warnings.warn(\"Maximum Likelihood optimization failed to \"\n"
     ]
    },
    {
     "name": "stdout",
     "output_type": "stream",
     "text": [
      "**********for i = 4 *****seasonal_order = (2, 1, 4, 12)  ************\n",
      "                                           SARIMAX Results                                           \n",
      "=====================================================================================================\n",
      "Dep. Variable:                                           Pax   No. Observations:                  143\n",
      "Model:             SARIMAX(4, 2, 2)x(2, 1, [1, 2, 3, 4], 12)   Log Likelihood                -493.520\n",
      "Date:                                       Thu, 03 Aug 2023   AIC                           1013.040\n",
      "Time:                                               11:10:25   BIC                           1050.218\n",
      "Sample:                                           02-01-1949   HQIC                          1028.146\n",
      "                                                - 12-01-1960                                         \n",
      "Covariance Type:                                         opg                                         \n",
      "==============================================================================\n",
      "                 coef    std err          z      P>|z|      [0.025      0.975]\n",
      "------------------------------------------------------------------------------\n",
      "ar.L1         -1.3724      0.101    -13.640      0.000      -1.570      -1.175\n",
      "ar.L2         -0.5174      0.165     -3.127      0.002      -0.842      -0.193\n",
      "ar.L3         -0.1155      0.189     -0.610      0.542      -0.487       0.256\n",
      "ar.L4         -0.0473      0.098     -0.483      0.629      -0.239       0.144\n",
      "ma.L1         -0.0019    228.410  -8.13e-06      1.000    -447.677     447.673\n",
      "ma.L2         -0.9981    228.011     -0.004      0.997    -447.891     445.895\n",
      "ar.S.L12      -0.0049      0.449     -0.011      0.991      -0.885       0.875\n",
      "ar.S.L24       0.9855      0.474      2.078      0.038       0.056       1.915\n",
      "ma.S.L12      -0.2489      1.292     -0.193      0.847      -2.782       2.284\n",
      "ma.S.L24      -0.9602      1.637     -0.586      0.558      -4.169       2.249\n",
      "ma.S.L36       0.2862      0.481      0.595      0.552      -0.657       1.230\n",
      "ma.S.L48       0.0650      0.218      0.298      0.766      -0.363       0.493\n",
      "sigma2       100.9138   2.31e+04      0.004      0.997   -4.51e+04    4.53e+04\n",
      "===================================================================================\n",
      "Ljung-Box (L1) (Q):                   0.03   Jarque-Bera (JB):                16.17\n",
      "Prob(Q):                              0.86   Prob(JB):                         0.00\n",
      "Heteroskedasticity (H):               2.73   Skew:                             0.24\n",
      "Prob(H) (two-sided):                  0.00   Kurtosis:                         4.67\n",
      "===================================================================================\n",
      "\n",
      "Warnings:\n",
      "[1] Covariance matrix calculated using the outer product of gradients (complex-step).\n"
     ]
    }
   ],
   "source": [
    "for i in range(1,5):\n",
    "    model1=sm.tsa.statespace.SARIMAX(df['Pax'],order=(4,2,2),seasonal_order=(2,1,i,12))\n",
    "    result = model1.fit()\n",
    "    print(\"**********for i =\",i,\"*****seasonal_order =\",(2,1,i,12),\" ************\")\n",
    "    print(result.summary())"
   ]
  },
  {
   "cell_type": "code",
   "execution_count": null,
   "id": "05889893",
   "metadata": {},
   "outputs": [],
   "source": [
    "# Lesser the Akaike Information Criterion (AIC value) --- better the model. \n",
    "# AIC = 1015.397   ::  Seasonal_order = (2, 1, 5, 12)\n",
    "# AIC = 1013.040   ::  Seasonal_order = (2, 1, 4, 12)\n",
    "# AIC = 1011.316   ::  Seasonal_order = (2, 1, 3, 12)\n",
    "# AIC = 1010.723  ::  Seasonal_order = (2, 1, 2, 12)\n",
    "# AIC = 1008.695  ::  Seasonal_order = (2, 1, 1, 12) ----BEST"
   ]
  },
  {
   "cell_type": "code",
   "execution_count": 69,
   "id": "bb41497d",
   "metadata": {},
   "outputs": [
    {
     "data": {
      "text/html": [
       "<div>\n",
       "<style scoped>\n",
       "    .dataframe tbody tr th:only-of-type {\n",
       "        vertical-align: middle;\n",
       "    }\n",
       "\n",
       "    .dataframe tbody tr th {\n",
       "        vertical-align: top;\n",
       "    }\n",
       "\n",
       "    .dataframe thead th {\n",
       "        text-align: right;\n",
       "    }\n",
       "</style>\n",
       "<table border=\"1\" class=\"dataframe\">\n",
       "  <thead>\n",
       "    <tr style=\"text-align: right;\">\n",
       "      <th></th>\n",
       "      <th>Pax</th>\n",
       "      <th>1st Diff</th>\n",
       "      <th>2nd Diff</th>\n",
       "      <th>Seasonality</th>\n",
       "    </tr>\n",
       "    <tr>\n",
       "      <th>Year-Month</th>\n",
       "      <th></th>\n",
       "      <th></th>\n",
       "      <th></th>\n",
       "      <th></th>\n",
       "    </tr>\n",
       "  </thead>\n",
       "  <tbody>\n",
       "    <tr>\n",
       "      <th>1960-08-01</th>\n",
       "      <td>606</td>\n",
       "      <td>-16.0</td>\n",
       "      <td>-103.0</td>\n",
       "      <td>47.0</td>\n",
       "    </tr>\n",
       "    <tr>\n",
       "      <th>1960-09-01</th>\n",
       "      <td>508</td>\n",
       "      <td>-98.0</td>\n",
       "      <td>-82.0</td>\n",
       "      <td>45.0</td>\n",
       "    </tr>\n",
       "    <tr>\n",
       "      <th>1960-10-01</th>\n",
       "      <td>461</td>\n",
       "      <td>-47.0</td>\n",
       "      <td>51.0</td>\n",
       "      <td>54.0</td>\n",
       "    </tr>\n",
       "    <tr>\n",
       "      <th>1960-11-01</th>\n",
       "      <td>390</td>\n",
       "      <td>-71.0</td>\n",
       "      <td>-24.0</td>\n",
       "      <td>28.0</td>\n",
       "    </tr>\n",
       "    <tr>\n",
       "      <th>1960-12-01</th>\n",
       "      <td>432</td>\n",
       "      <td>42.0</td>\n",
       "      <td>113.0</td>\n",
       "      <td>27.0</td>\n",
       "    </tr>\n",
       "  </tbody>\n",
       "</table>\n",
       "</div>"
      ],
      "text/plain": [
       "            Pax  1st Diff  2nd Diff  Seasonality\n",
       "Year-Month                                      \n",
       "1960-08-01  606     -16.0    -103.0         47.0\n",
       "1960-09-01  508     -98.0     -82.0         45.0\n",
       "1960-10-01  461     -47.0      51.0         54.0\n",
       "1960-11-01  390     -71.0     -24.0         28.0\n",
       "1960-12-01  432      42.0     113.0         27.0"
      ]
     },
     "execution_count": 69,
     "metadata": {},
     "output_type": "execute_result"
    }
   ],
   "source": [
    "df.tail()"
   ]
  },
  {
   "cell_type": "markdown",
   "id": "215b0088",
   "metadata": {},
   "source": [
    "# Ask is - Predict 1961 - 1965\n"
   ]
  },
  {
   "cell_type": "code",
   "execution_count": 70,
   "id": "46cf8aae",
   "metadata": {},
   "outputs": [
    {
     "data": {
      "text/plain": [
       "143"
      ]
     },
     "execution_count": 70,
     "metadata": {},
     "output_type": "execute_result"
    }
   ],
   "source": [
    "len(df)"
   ]
  },
  {
   "cell_type": "code",
   "execution_count": 81,
   "id": "c1bf0b7d",
   "metadata": {},
   "outputs": [
    {
     "data": {
      "text/plain": [
       "<AxesSubplot:xlabel='Year-Month'>"
      ]
     },
     "execution_count": 81,
     "metadata": {},
     "output_type": "execute_result"
    },
    {
     "data": {
      "text/plain": [
       "<Figure size 864x864 with 0 Axes>"
      ]
     },
     "metadata": {},
     "output_type": "display_data"
    },
    {
     "data": {
      "image/png": "[encoded data removed]",
      "text/plain": [
       "<Figure size 864x864 with 1 Axes>"
      ]
     },
     "metadata": {
      "needs_background": "light"
     },
     "output_type": "display_data"
    }
   ],
   "source": [
    "# Validating the model\n",
    "\n",
    "df['Forecast'] = result.predict(start=130,end=144,dynamic=True)\n",
    "plt.figure(figsize=(12,12))\n",
    "df[['Pax','Forecast']].plot()"
   ]
  },
  {
   "cell_type": "code",
   "execution_count": 80,
   "id": "823de62d",
   "metadata": {},
   "outputs": [
    {
     "name": "stderr",
     "output_type": "stream",
     "text": [
      "C:\\Users\\Swarn\\anaconda3\\lib\\site-packages\\statsmodels\\tsa\\base\\tsa_model.py:471: ValueWarning: No frequency information was provided, so inferred frequency MS will be used.\n",
      "  self._init_dates(dates, freq)\n",
      "C:\\Users\\Swarn\\anaconda3\\lib\\site-packages\\statsmodels\\tsa\\base\\tsa_model.py:471: ValueWarning: No frequency information was provided, so inferred frequency MS will be used.\n",
      "  self._init_dates(dates, freq)\n"
     ]
    },
    {
     "data": {
      "text/plain": [
       "<AxesSubplot:xlabel='Year-Month'>"
      ]
     },
     "execution_count": 80,
     "metadata": {},
     "output_type": "execute_result"
    },
    {
     "data": {
      "image/png": "[encoded data removed]",
      "text/plain": [
       "<Figure size 864x864 with 1 Axes>"
      ]
     },
     "metadata": {
      "needs_background": "light"
     },
     "output_type": "display_data"
    }
   ],
   "source": [
    "model1=sm.tsa.statespace.SARIMAX(df['Pax'],order=(4,2,2),seasonal_order=(2,1,1,12))\n",
    "result = model1.fit()\n",
    "\n",
    "df['Forecast'] = result.predict(start=130,end=144,dynamic=True)\n",
    "# plt.figure(figsize=(12,12))\n",
    "from pylab import rcParams\n",
    "rcParams['figure.figsize'] =(12,12)\n",
    "df[['Pax','Forecast']].plot()"
   ]
  },
  {
   "cell_type": "code",
   "execution_count": 83,
   "id": "bab6a68c",
   "metadata": {},
   "outputs": [
    {
     "name": "stderr",
     "output_type": "stream",
     "text": [
      "C:\\Users\\Swarn\\anaconda3\\lib\\site-packages\\statsmodels\\tsa\\base\\tsa_model.py:471: ValueWarning: No frequency information was provided, so inferred frequency MS will be used.\n",
      "  self._init_dates(dates, freq)\n",
      "C:\\Users\\Swarn\\anaconda3\\lib\\site-packages\\statsmodels\\tsa\\base\\tsa_model.py:471: ValueWarning: No frequency information was provided, so inferred frequency MS will be used.\n",
      "  self._init_dates(dates, freq)\n"
     ]
    },
    {
     "data": {
      "text/plain": [
       "<AxesSubplot:xlabel='Year-Month'>"
      ]
     },
     "execution_count": 83,
     "metadata": {},
     "output_type": "execute_result"
    },
    {
     "data": {
      "image/png": "[encoded data removed]",
      "text/plain": [
       "<Figure size 864x864 with 1 Axes>"
      ]
     },
     "metadata": {
      "needs_background": "light"
     },
     "output_type": "display_data"
    }
   ],
   "source": [
    "# Very important to set the parameters correctly....giving any value will result into disaster. \n",
    "\n",
    "model1=sm.tsa.statespace.SARIMAX(df['Pax'],order=(0,5,0),seasonal_order=(5,0,5,12))   \n",
    "result = model1.fit()\n",
    "\n",
    "df['Forecast'] = result.predict(start=130,end=144,dynamic=True)\n",
    "# plt.figure(figsize=(12,12))\n",
    "from pylab import rcParams\n",
    "rcParams['figure.figsize'] =(12,12)\n",
    "df[['Pax','Forecast']].plot()"
   ]
  },
  {
   "cell_type": "markdown",
   "id": "ebbe7e7f",
   "metadata": {},
   "source": [
    "# AUTOMATING THE SARIMAX MODEL"
   ]
  },
  {
   "cell_type": "code",
   "execution_count": 117,
   "id": "221cd067",
   "metadata": {},
   "outputs": [
    {
     "name": "stdout",
     "output_type": "stream",
     "text": [
      "(0, 1, 1) (1, 1, 1, 12)\n",
      "[(0, 0, 0), (0, 0, 1), (0, 1, 0), (0, 1, 1), (1, 0, 0), (1, 0, 1), (1, 1, 0), (1, 1, 1)]\n",
      "*******************************************************\n",
      "[(0, 0, 0, 12), (0, 0, 1, 12), (0, 1, 0, 12), (0, 1, 1, 12), (1, 0, 0, 12), (1, 0, 1, 12), (1, 1, 0, 12), (1, 1, 1, 12)]\n"
     ]
    }
   ],
   "source": [
    "import itertools\n",
    "\n",
    "p = q = d = range(0,2)\n",
    "pdq = list(itertools.product(p,d,q))\n",
    "seasonal_pdq=[(x[0],x[1],x[2],12) for x in pdq]\n",
    "\n",
    "print(pdq[3],seasonal_pdq[7])\n",
    "print(list(itertools.product(p,d,q)))\n",
    "print(\"*******************************************************\")\n",
    "print(seasonal_pdq)"
   ]
  },
  {
   "cell_type": "code",
   "execution_count": 129,
   "id": "6d627ab5",
   "metadata": {},
   "outputs": [
    {
     "name": "stderr",
     "output_type": "stream",
     "text": [
      "C:\\Users\\Swarn\\anaconda3\\lib\\site-packages\\statsmodels\\tsa\\base\\tsa_model.py:471: ValueWarning: No frequency information was provided, so inferred frequency MS will be used.\n",
      "  self._init_dates(dates, freq)\n",
      "C:\\Users\\Swarn\\anaconda3\\lib\\site-packages\\statsmodels\\tsa\\base\\tsa_model.py:471: ValueWarning: No frequency information was provided, so inferred frequency MS will be used.\n",
      "  self._init_dates(dates, freq)\n",
      "C:\\Users\\Swarn\\anaconda3\\lib\\site-packages\\statsmodels\\tsa\\base\\tsa_model.py:471: ValueWarning: No frequency information was provided, so inferred frequency MS will be used.\n",
      "  self._init_dates(dates, freq)\n",
      "C:\\Users\\Swarn\\anaconda3\\lib\\site-packages\\statsmodels\\tsa\\base\\tsa_model.py:471: ValueWarning: No frequency information was provided, so inferred frequency MS will be used.\n",
      "  self._init_dates(dates, freq)\n",
      "C:\\Users\\Swarn\\anaconda3\\lib\\site-packages\\statsmodels\\base\\model.py:604: ConvergenceWarning: Maximum Likelihood optimization failed to converge. Check mle_retvals\n",
      "  warnings.warn(\"Maximum Likelihood optimization failed to \"\n",
      "C:\\Users\\Swarn\\anaconda3\\lib\\site-packages\\statsmodels\\tsa\\base\\tsa_model.py:471: ValueWarning: No frequency information was provided, so inferred frequency MS will be used.\n",
      "  self._init_dates(dates, freq)\n",
      "C:\\Users\\Swarn\\anaconda3\\lib\\site-packages\\statsmodels\\tsa\\base\\tsa_model.py:471: ValueWarning: No frequency information was provided, so inferred frequency MS will be used.\n",
      "  self._init_dates(dates, freq)\n"
     ]
    },
    {
     "name": "stdout",
     "output_type": "stream",
     "text": [
      "**************** (0, 0, 0) (0, 0, 0, 12) 2030.9986180694207\n",
      "**************** (0, 0, 0) (0, 0, 1, 12) 1873.5027596942473\n",
      "**************** (0, 0, 0) (0, 1, 0, 12) 1306.8396300670177\n"
     ]
    },
    {
     "name": "stderr",
     "output_type": "stream",
     "text": [
      "C:\\Users\\Swarn\\anaconda3\\lib\\site-packages\\statsmodels\\tsa\\base\\tsa_model.py:471: ValueWarning: No frequency information was provided, so inferred frequency MS will be used.\n",
      "  self._init_dates(dates, freq)\n",
      "C:\\Users\\Swarn\\anaconda3\\lib\\site-packages\\statsmodels\\tsa\\base\\tsa_model.py:471: ValueWarning: No frequency information was provided, so inferred frequency MS will be used.\n",
      "  self._init_dates(dates, freq)\n",
      "C:\\Users\\Swarn\\anaconda3\\lib\\site-packages\\statsmodels\\tsa\\base\\tsa_model.py:471: ValueWarning: No frequency information was provided, so inferred frequency MS will be used.\n",
      "  self._init_dates(dates, freq)\n",
      "C:\\Users\\Swarn\\anaconda3\\lib\\site-packages\\statsmodels\\tsa\\base\\tsa_model.py:471: ValueWarning: No frequency information was provided, so inferred frequency MS will be used.\n",
      "  self._init_dates(dates, freq)\n",
      "C:\\Users\\Swarn\\anaconda3\\lib\\site-packages\\statsmodels\\tsa\\base\\tsa_model.py:471: ValueWarning: No frequency information was provided, so inferred frequency MS will be used.\n",
      "  self._init_dates(dates, freq)\n",
      "C:\\Users\\Swarn\\anaconda3\\lib\\site-packages\\statsmodels\\tsa\\base\\tsa_model.py:471: ValueWarning: No frequency information was provided, so inferred frequency MS will be used.\n",
      "  self._init_dates(dates, freq)\n"
     ]
    },
    {
     "name": "stdout",
     "output_type": "stream",
     "text": [
      "**************** (0, 0, 0) (0, 1, 1, 12) 1147.1843419409352\n",
      "**************** (0, 0, 0) (1, 0, 0, 12) 1110.827113238785\n",
      "**************** (0, 0, 0) (1, 0, 1, 12) 1099.826476118154\n",
      "**************** (0, 0, 0) (1, 1, 0, 12) 1099.743424351517\n"
     ]
    },
    {
     "name": "stderr",
     "output_type": "stream",
     "text": [
      "C:\\Users\\Swarn\\anaconda3\\lib\\site-packages\\statsmodels\\tsa\\base\\tsa_model.py:471: ValueWarning: No frequency information was provided, so inferred frequency MS will be used.\n",
      "  self._init_dates(dates, freq)\n",
      "C:\\Users\\Swarn\\anaconda3\\lib\\site-packages\\statsmodels\\tsa\\base\\tsa_model.py:471: ValueWarning: No frequency information was provided, so inferred frequency MS will be used.\n",
      "  self._init_dates(dates, freq)\n",
      "C:\\Users\\Swarn\\anaconda3\\lib\\site-packages\\statsmodels\\tsa\\base\\tsa_model.py:471: ValueWarning: No frequency information was provided, so inferred frequency MS will be used.\n",
      "  self._init_dates(dates, freq)\n",
      "C:\\Users\\Swarn\\anaconda3\\lib\\site-packages\\statsmodels\\tsa\\base\\tsa_model.py:471: ValueWarning: No frequency information was provided, so inferred frequency MS will be used.\n",
      "  self._init_dates(dates, freq)\n",
      "C:\\Users\\Swarn\\anaconda3\\lib\\site-packages\\statsmodels\\tsa\\base\\tsa_model.py:471: ValueWarning: No frequency information was provided, so inferred frequency MS will be used.\n",
      "  self._init_dates(dates, freq)\n",
      "C:\\Users\\Swarn\\anaconda3\\lib\\site-packages\\statsmodels\\tsa\\base\\tsa_model.py:471: ValueWarning: No frequency information was provided, so inferred frequency MS will be used.\n",
      "  self._init_dates(dates, freq)\n"
     ]
    },
    {
     "name": "stdout",
     "output_type": "stream",
     "text": [
      "**************** (0, 0, 0) (1, 1, 1, 12) 1025.7167916389453\n",
      "**************** (0, 0, 1) (0, 0, 0, 12) 1834.0704384783508\n",
      "**************** (0, 0, 1) (0, 0, 1, 12) 1557.1101766505365\n"
     ]
    },
    {
     "name": "stderr",
     "output_type": "stream",
     "text": [
      "C:\\Users\\Swarn\\anaconda3\\lib\\site-packages\\statsmodels\\tsa\\base\\tsa_model.py:471: ValueWarning: No frequency information was provided, so inferred frequency MS will be used.\n",
      "  self._init_dates(dates, freq)\n",
      "C:\\Users\\Swarn\\anaconda3\\lib\\site-packages\\statsmodels\\tsa\\base\\tsa_model.py:471: ValueWarning: No frequency information was provided, so inferred frequency MS will be used.\n",
      "  self._init_dates(dates, freq)\n",
      "C:\\Users\\Swarn\\anaconda3\\lib\\site-packages\\statsmodels\\tsa\\base\\tsa_model.py:471: ValueWarning: No frequency information was provided, so inferred frequency MS will be used.\n",
      "  self._init_dates(dates, freq)\n",
      "C:\\Users\\Swarn\\anaconda3\\lib\\site-packages\\statsmodels\\tsa\\base\\tsa_model.py:471: ValueWarning: No frequency information was provided, so inferred frequency MS will be used.\n",
      "  self._init_dates(dates, freq)\n",
      "C:\\Users\\Swarn\\anaconda3\\lib\\site-packages\\statsmodels\\tsa\\base\\tsa_model.py:471: ValueWarning: No frequency information was provided, so inferred frequency MS will be used.\n",
      "  self._init_dates(dates, freq)\n",
      "C:\\Users\\Swarn\\anaconda3\\lib\\site-packages\\statsmodels\\tsa\\base\\tsa_model.py:471: ValueWarning: No frequency information was provided, so inferred frequency MS will be used.\n",
      "  self._init_dates(dates, freq)\n"
     ]
    },
    {
     "name": "stdout",
     "output_type": "stream",
     "text": [
      "**************** (0, 0, 1) (0, 1, 0, 12) 1188.7823330273459\n",
      "**************** (0, 0, 1) (0, 1, 1, 12) 1062.4370147387144\n"
     ]
    },
    {
     "name": "stderr",
     "output_type": "stream",
     "text": [
      "C:\\Users\\Swarn\\anaconda3\\lib\\site-packages\\statsmodels\\tsa\\base\\tsa_model.py:471: ValueWarning: No frequency information was provided, so inferred frequency MS will be used.\n",
      "  self._init_dates(dates, freq)\n",
      "C:\\Users\\Swarn\\anaconda3\\lib\\site-packages\\statsmodels\\tsa\\base\\tsa_model.py:471: ValueWarning: No frequency information was provided, so inferred frequency MS will be used.\n",
      "  self._init_dates(dates, freq)\n",
      "C:\\Users\\Swarn\\anaconda3\\lib\\site-packages\\statsmodels\\tsa\\base\\tsa_model.py:471: ValueWarning: No frequency information was provided, so inferred frequency MS will be used.\n",
      "  self._init_dates(dates, freq)\n",
      "C:\\Users\\Swarn\\anaconda3\\lib\\site-packages\\statsmodels\\tsa\\base\\tsa_model.py:471: ValueWarning: No frequency information was provided, so inferred frequency MS will be used.\n",
      "  self._init_dates(dates, freq)\n"
     ]
    },
    {
     "name": "stdout",
     "output_type": "stream",
     "text": [
      "**************** (0, 0, 1) (1, 0, 0, 12) 1063.595065455396\n",
      "**************** (0, 0, 1) (1, 0, 1, 12) 1042.533467292146\n",
      "**************** (0, 0, 1) (1, 1, 0, 12) 1049.9651962010344\n"
     ]
    },
    {
     "name": "stderr",
     "output_type": "stream",
     "text": [
      "C:\\Users\\Swarn\\anaconda3\\lib\\site-packages\\statsmodels\\tsa\\base\\tsa_model.py:471: ValueWarning: No frequency information was provided, so inferred frequency MS will be used.\n",
      "  self._init_dates(dates, freq)\n",
      "C:\\Users\\Swarn\\anaconda3\\lib\\site-packages\\statsmodels\\tsa\\base\\tsa_model.py:471: ValueWarning: No frequency information was provided, so inferred frequency MS will be used.\n",
      "  self._init_dates(dates, freq)\n",
      "C:\\Users\\Swarn\\anaconda3\\lib\\site-packages\\statsmodels\\tsa\\base\\tsa_model.py:471: ValueWarning: No frequency information was provided, so inferred frequency MS will be used.\n",
      "  self._init_dates(dates, freq)\n",
      "C:\\Users\\Swarn\\anaconda3\\lib\\site-packages\\statsmodels\\tsa\\base\\tsa_model.py:471: ValueWarning: No frequency information was provided, so inferred frequency MS will be used.\n",
      "  self._init_dates(dates, freq)\n"
     ]
    },
    {
     "name": "stdout",
     "output_type": "stream",
     "text": [
      "**************** (0, 0, 1) (1, 1, 1, 12) 976.9245836217043\n",
      "**************** (0, 1, 0) (0, 0, 0, 12) 1395.9466416501446\n",
      "**************** (0, 1, 0) (0, 0, 1, 12) 1186.4606578678438\n",
      "**************** (0, 1, 0) (0, 1, 0, 12) 1017.6060377345044\n",
      "**************** (0, 1, 0) (0, 1, 1, 12) 929.8029289703626\n"
     ]
    },
    {
     "name": "stderr",
     "output_type": "stream",
     "text": [
      "C:\\Users\\Swarn\\anaconda3\\lib\\site-packages\\statsmodels\\tsa\\base\\tsa_model.py:471: ValueWarning: No frequency information was provided, so inferred frequency MS will be used.\n",
      "  self._init_dates(dates, freq)\n",
      "C:\\Users\\Swarn\\anaconda3\\lib\\site-packages\\statsmodels\\tsa\\base\\tsa_model.py:471: ValueWarning: No frequency information was provided, so inferred frequency MS will be used.\n",
      "  self._init_dates(dates, freq)\n",
      "C:\\Users\\Swarn\\anaconda3\\lib\\site-packages\\statsmodels\\tsa\\base\\tsa_model.py:471: ValueWarning: No frequency information was provided, so inferred frequency MS will be used.\n",
      "  self._init_dates(dates, freq)\n",
      "C:\\Users\\Swarn\\anaconda3\\lib\\site-packages\\statsmodels\\tsa\\base\\tsa_model.py:471: ValueWarning: No frequency information was provided, so inferred frequency MS will be used.\n",
      "  self._init_dates(dates, freq)\n",
      "C:\\Users\\Swarn\\anaconda3\\lib\\site-packages\\statsmodels\\tsa\\base\\tsa_model.py:471: ValueWarning: No frequency information was provided, so inferred frequency MS will be used.\n",
      "  self._init_dates(dates, freq)\n",
      "C:\\Users\\Swarn\\anaconda3\\lib\\site-packages\\statsmodels\\tsa\\base\\tsa_model.py:471: ValueWarning: No frequency information was provided, so inferred frequency MS will be used.\n",
      "  self._init_dates(dates, freq)\n",
      "C:\\Users\\Swarn\\anaconda3\\lib\\site-packages\\statsmodels\\tsa\\base\\tsa_model.py:471: ValueWarning: No frequency information was provided, so inferred frequency MS will be used.\n",
      "  self._init_dates(dates, freq)\n",
      "C:\\Users\\Swarn\\anaconda3\\lib\\site-packages\\statsmodels\\tsa\\base\\tsa_model.py:471: ValueWarning: No frequency information was provided, so inferred frequency MS will be used.\n",
      "  self._init_dates(dates, freq)\n",
      "C:\\Users\\Swarn\\anaconda3\\lib\\site-packages\\statsmodels\\tsa\\base\\tsa_model.py:471: ValueWarning: No frequency information was provided, so inferred frequency MS will be used.\n",
      "  self._init_dates(dates, freq)\n",
      "C:\\Users\\Swarn\\anaconda3\\lib\\site-packages\\statsmodels\\tsa\\base\\tsa_model.py:471: ValueWarning: No frequency information was provided, so inferred frequency MS will be used.\n",
      "  self._init_dates(dates, freq)\n"
     ]
    },
    {
     "name": "stdout",
     "output_type": "stream",
     "text": [
      "**************** (0, 1, 0) (1, 0, 0, 12) 1024.4891597228832\n",
      "**************** (0, 1, 0) (1, 0, 1, 12) 1008.3708410028847\n",
      "**************** (0, 1, 0) (1, 1, 0, 12) 937.4208501044468\n",
      "**************** (0, 1, 0) (1, 1, 1, 12) 931.8017701244981\n"
     ]
    },
    {
     "name": "stderr",
     "output_type": "stream",
     "text": [
      "C:\\Users\\Swarn\\anaconda3\\lib\\site-packages\\statsmodels\\tsa\\base\\tsa_model.py:471: ValueWarning: No frequency information was provided, so inferred frequency MS will be used.\n",
      "  self._init_dates(dates, freq)\n",
      "C:\\Users\\Swarn\\anaconda3\\lib\\site-packages\\statsmodels\\tsa\\base\\tsa_model.py:471: ValueWarning: No frequency information was provided, so inferred frequency MS will be used.\n",
      "  self._init_dates(dates, freq)\n",
      "C:\\Users\\Swarn\\anaconda3\\lib\\site-packages\\statsmodels\\tsa\\base\\tsa_model.py:471: ValueWarning: No frequency information was provided, so inferred frequency MS will be used.\n",
      "  self._init_dates(dates, freq)\n",
      "C:\\Users\\Swarn\\anaconda3\\lib\\site-packages\\statsmodels\\tsa\\base\\tsa_model.py:471: ValueWarning: No frequency information was provided, so inferred frequency MS will be used.\n",
      "  self._init_dates(dates, freq)\n",
      "C:\\Users\\Swarn\\anaconda3\\lib\\site-packages\\statsmodels\\tsa\\base\\tsa_model.py:471: ValueWarning: No frequency information was provided, so inferred frequency MS will be used.\n",
      "  self._init_dates(dates, freq)\n",
      "C:\\Users\\Swarn\\anaconda3\\lib\\site-packages\\statsmodels\\tsa\\base\\tsa_model.py:471: ValueWarning: No frequency information was provided, so inferred frequency MS will be used.\n",
      "  self._init_dates(dates, freq)\n",
      "C:\\Users\\Swarn\\anaconda3\\lib\\site-packages\\statsmodels\\tsa\\base\\tsa_model.py:471: ValueWarning: No frequency information was provided, so inferred frequency MS will be used.\n",
      "  self._init_dates(dates, freq)\n",
      "C:\\Users\\Swarn\\anaconda3\\lib\\site-packages\\statsmodels\\tsa\\base\\tsa_model.py:471: ValueWarning: No frequency information was provided, so inferred frequency MS will be used.\n",
      "  self._init_dates(dates, freq)\n"
     ]
    },
    {
     "name": "stdout",
     "output_type": "stream",
     "text": [
      "**************** (0, 1, 1) (0, 0, 0, 12) 1370.667809928335\n",
      "**************** (0, 1, 1) (0, 0, 1, 12) 1173.5431260103396\n",
      "**************** (0, 1, 1) (0, 1, 0, 12) 999.9764282654642\n",
      "**************** (0, 1, 1) (0, 1, 1, 12) 913.6063284004151\n"
     ]
    },
    {
     "name": "stderr",
     "output_type": "stream",
     "text": [
      "C:\\Users\\Swarn\\anaconda3\\lib\\site-packages\\statsmodels\\tsa\\base\\tsa_model.py:471: ValueWarning: No frequency information was provided, so inferred frequency MS will be used.\n",
      "  self._init_dates(dates, freq)\n",
      "C:\\Users\\Swarn\\anaconda3\\lib\\site-packages\\statsmodels\\tsa\\base\\tsa_model.py:471: ValueWarning: No frequency information was provided, so inferred frequency MS will be used.\n",
      "  self._init_dates(dates, freq)\n",
      "C:\\Users\\Swarn\\anaconda3\\lib\\site-packages\\statsmodels\\tsa\\base\\tsa_model.py:471: ValueWarning: No frequency information was provided, so inferred frequency MS will be used.\n",
      "  self._init_dates(dates, freq)\n",
      "C:\\Users\\Swarn\\anaconda3\\lib\\site-packages\\statsmodels\\tsa\\base\\tsa_model.py:471: ValueWarning: No frequency information was provided, so inferred frequency MS will be used.\n",
      "  self._init_dates(dates, freq)\n",
      "C:\\Users\\Swarn\\anaconda3\\lib\\site-packages\\statsmodels\\tsa\\base\\tsa_model.py:471: ValueWarning: No frequency information was provided, so inferred frequency MS will be used.\n",
      "  self._init_dates(dates, freq)\n",
      "C:\\Users\\Swarn\\anaconda3\\lib\\site-packages\\statsmodels\\tsa\\base\\tsa_model.py:471: ValueWarning: No frequency information was provided, so inferred frequency MS will be used.\n",
      "  self._init_dates(dates, freq)\n",
      "C:\\Users\\Swarn\\anaconda3\\lib\\site-packages\\statsmodels\\tsa\\base\\tsa_model.py:471: ValueWarning: No frequency information was provided, so inferred frequency MS will be used.\n",
      "  self._init_dates(dates, freq)\n",
      "C:\\Users\\Swarn\\anaconda3\\lib\\site-packages\\statsmodels\\tsa\\base\\tsa_model.py:471: ValueWarning: No frequency information was provided, so inferred frequency MS will be used.\n",
      "  self._init_dates(dates, freq)\n"
     ]
    },
    {
     "name": "stdout",
     "output_type": "stream",
     "text": [
      "**************** (0, 1, 1) (1, 0, 0, 12) 1007.3896338485561\n",
      "**************** (0, 1, 1) (1, 0, 1, 12) 978.476455920779\n"
     ]
    },
    {
     "name": "stderr",
     "output_type": "stream",
     "text": [
      "C:\\Users\\Swarn\\anaconda3\\lib\\site-packages\\statsmodels\\tsa\\base\\tsa_model.py:471: ValueWarning: No frequency information was provided, so inferred frequency MS will be used.\n",
      "  self._init_dates(dates, freq)\n",
      "C:\\Users\\Swarn\\anaconda3\\lib\\site-packages\\statsmodels\\tsa\\base\\tsa_model.py:471: ValueWarning: No frequency information was provided, so inferred frequency MS will be used.\n",
      "  self._init_dates(dates, freq)\n",
      "C:\\Users\\Swarn\\anaconda3\\lib\\site-packages\\statsmodels\\tsa\\base\\tsa_model.py:471: ValueWarning: No frequency information was provided, so inferred frequency MS will be used.\n",
      "  self._init_dates(dates, freq)\n",
      "C:\\Users\\Swarn\\anaconda3\\lib\\site-packages\\statsmodels\\tsa\\base\\tsa_model.py:471: ValueWarning: No frequency information was provided, so inferred frequency MS will be used.\n",
      "  self._init_dates(dates, freq)\n"
     ]
    },
    {
     "name": "stdout",
     "output_type": "stream",
     "text": [
      "**************** (0, 1, 1) (1, 1, 0, 12) 927.9119434247491\n",
      "**************** (0, 1, 1) (1, 1, 1, 12) 913.238219921295\n"
     ]
    },
    {
     "name": "stderr",
     "output_type": "stream",
     "text": [
      "C:\\Users\\Swarn\\anaconda3\\lib\\site-packages\\statsmodels\\tsa\\base\\tsa_model.py:471: ValueWarning: No frequency information was provided, so inferred frequency MS will be used.\n",
      "  self._init_dates(dates, freq)\n",
      "C:\\Users\\Swarn\\anaconda3\\lib\\site-packages\\statsmodels\\tsa\\base\\tsa_model.py:471: ValueWarning: No frequency information was provided, so inferred frequency MS will be used.\n",
      "  self._init_dates(dates, freq)\n",
      "C:\\Users\\Swarn\\anaconda3\\lib\\site-packages\\statsmodels\\tsa\\base\\tsa_model.py:471: ValueWarning: No frequency information was provided, so inferred frequency MS will be used.\n",
      "  self._init_dates(dates, freq)\n",
      "C:\\Users\\Swarn\\anaconda3\\lib\\site-packages\\statsmodels\\tsa\\base\\tsa_model.py:471: ValueWarning: No frequency information was provided, so inferred frequency MS will be used.\n",
      "  self._init_dates(dates, freq)\n"
     ]
    },
    {
     "name": "stdout",
     "output_type": "stream",
     "text": [
      "**************** (1, 0, 0) (0, 0, 0, 12) 1406.9989246311334\n",
      "**************** (1, 0, 0) (0, 0, 1, 12) 1197.2595765991264\n",
      "**************** (1, 0, 0) (0, 1, 0, 12) 1022.9619733573654\n"
     ]
    },
    {
     "name": "stderr",
     "output_type": "stream",
     "text": [
      "C:\\Users\\Swarn\\anaconda3\\lib\\site-packages\\statsmodels\\tsa\\base\\tsa_model.py:471: ValueWarning: No frequency information was provided, so inferred frequency MS will be used.\n",
      "  self._init_dates(dates, freq)\n",
      "C:\\Users\\Swarn\\anaconda3\\lib\\site-packages\\statsmodels\\tsa\\base\\tsa_model.py:471: ValueWarning: No frequency information was provided, so inferred frequency MS will be used.\n",
      "  self._init_dates(dates, freq)\n",
      "C:\\Users\\Swarn\\anaconda3\\lib\\site-packages\\statsmodels\\tsa\\base\\tsa_model.py:471: ValueWarning: No frequency information was provided, so inferred frequency MS will be used.\n",
      "  self._init_dates(dates, freq)\n",
      "C:\\Users\\Swarn\\anaconda3\\lib\\site-packages\\statsmodels\\tsa\\base\\tsa_model.py:471: ValueWarning: No frequency information was provided, so inferred frequency MS will be used.\n",
      "  self._init_dates(dates, freq)\n",
      "C:\\Users\\Swarn\\anaconda3\\lib\\site-packages\\statsmodels\\tsa\\base\\tsa_model.py:471: ValueWarning: No frequency information was provided, so inferred frequency MS will be used.\n",
      "  self._init_dates(dates, freq)\n",
      "C:\\Users\\Swarn\\anaconda3\\lib\\site-packages\\statsmodels\\tsa\\base\\tsa_model.py:471: ValueWarning: No frequency information was provided, so inferred frequency MS will be used.\n",
      "  self._init_dates(dates, freq)\n"
     ]
    },
    {
     "name": "stdout",
     "output_type": "stream",
     "text": [
      "**************** (1, 0, 0) (0, 1, 1, 12) 937.3904545208214\n",
      "**************** (1, 0, 0) (1, 0, 0, 12) 1010.5631395697139\n"
     ]
    },
    {
     "name": "stderr",
     "output_type": "stream",
     "text": [
      "C:\\Users\\Swarn\\anaconda3\\lib\\site-packages\\statsmodels\\tsa\\base\\tsa_model.py:471: ValueWarning: No frequency information was provided, so inferred frequency MS will be used.\n",
      "  self._init_dates(dates, freq)\n",
      "C:\\Users\\Swarn\\anaconda3\\lib\\site-packages\\statsmodels\\tsa\\base\\tsa_model.py:471: ValueWarning: No frequency information was provided, so inferred frequency MS will be used.\n",
      "  self._init_dates(dates, freq)\n",
      "C:\\Users\\Swarn\\anaconda3\\lib\\site-packages\\statsmodels\\tsa\\base\\tsa_model.py:471: ValueWarning: No frequency information was provided, so inferred frequency MS will be used.\n",
      "  self._init_dates(dates, freq)\n",
      "C:\\Users\\Swarn\\anaconda3\\lib\\site-packages\\statsmodels\\tsa\\base\\tsa_model.py:471: ValueWarning: No frequency information was provided, so inferred frequency MS will be used.\n",
      "  self._init_dates(dates, freq)\n"
     ]
    },
    {
     "name": "stdout",
     "output_type": "stream",
     "text": [
      "**************** (1, 0, 0) (1, 0, 1, 12) 1000.4167982716535\n",
      "**************** (1, 0, 0) (1, 1, 0, 12) 937.0610905304236\n"
     ]
    },
    {
     "name": "stderr",
     "output_type": "stream",
     "text": [
      "C:\\Users\\Swarn\\anaconda3\\lib\\site-packages\\statsmodels\\tsa\\base\\tsa_model.py:471: ValueWarning: No frequency information was provided, so inferred frequency MS will be used.\n",
      "  self._init_dates(dates, freq)\n",
      "C:\\Users\\Swarn\\anaconda3\\lib\\site-packages\\statsmodels\\tsa\\base\\tsa_model.py:471: ValueWarning: No frequency information was provided, so inferred frequency MS will be used.\n",
      "  self._init_dates(dates, freq)\n",
      "C:\\Users\\Swarn\\anaconda3\\lib\\site-packages\\statsmodels\\tsa\\base\\tsa_model.py:471: ValueWarning: No frequency information was provided, so inferred frequency MS will be used.\n",
      "  self._init_dates(dates, freq)\n",
      "C:\\Users\\Swarn\\anaconda3\\lib\\site-packages\\statsmodels\\tsa\\base\\tsa_model.py:471: ValueWarning: No frequency information was provided, so inferred frequency MS will be used.\n",
      "  self._init_dates(dates, freq)\n"
     ]
    },
    {
     "name": "stdout",
     "output_type": "stream",
     "text": [
      "**************** (1, 0, 0) (1, 1, 1, 12) 938.4955561742272\n",
      "**************** (1, 0, 1) (0, 0, 0, 12) 1381.5190996073907\n",
      "**************** (1, 0, 1) (0, 0, 1, 12) 1184.0076589986165\n",
      "**************** (1, 0, 1) (0, 1, 0, 12) 1007.4594920604849\n"
     ]
    },
    {
     "name": "stderr",
     "output_type": "stream",
     "text": [
      "C:\\Users\\Swarn\\anaconda3\\lib\\site-packages\\statsmodels\\tsa\\base\\tsa_model.py:471: ValueWarning: No frequency information was provided, so inferred frequency MS will be used.\n",
      "  self._init_dates(dates, freq)\n",
      "C:\\Users\\Swarn\\anaconda3\\lib\\site-packages\\statsmodels\\tsa\\base\\tsa_model.py:471: ValueWarning: No frequency information was provided, so inferred frequency MS will be used.\n",
      "  self._init_dates(dates, freq)\n",
      "C:\\Users\\Swarn\\anaconda3\\lib\\site-packages\\statsmodels\\tsa\\base\\tsa_model.py:471: ValueWarning: No frequency information was provided, so inferred frequency MS will be used.\n",
      "  self._init_dates(dates, freq)\n",
      "C:\\Users\\Swarn\\anaconda3\\lib\\site-packages\\statsmodels\\tsa\\base\\tsa_model.py:471: ValueWarning: No frequency information was provided, so inferred frequency MS will be used.\n",
      "  self._init_dates(dates, freq)\n",
      "C:\\Users\\Swarn\\anaconda3\\lib\\site-packages\\statsmodels\\tsa\\base\\tsa_model.py:471: ValueWarning: No frequency information was provided, so inferred frequency MS will be used.\n",
      "  self._init_dates(dates, freq)\n",
      "C:\\Users\\Swarn\\anaconda3\\lib\\site-packages\\statsmodels\\tsa\\base\\tsa_model.py:471: ValueWarning: No frequency information was provided, so inferred frequency MS will be used.\n",
      "  self._init_dates(dates, freq)\n",
      "C:\\Users\\Swarn\\anaconda3\\lib\\site-packages\\statsmodels\\tsa\\base\\tsa_model.py:471: ValueWarning: No frequency information was provided, so inferred frequency MS will be used.\n",
      "  self._init_dates(dates, freq)\n",
      "C:\\Users\\Swarn\\anaconda3\\lib\\site-packages\\statsmodels\\tsa\\base\\tsa_model.py:471: ValueWarning: No frequency information was provided, so inferred frequency MS will be used.\n",
      "  self._init_dates(dates, freq)\n"
     ]
    },
    {
     "name": "stdout",
     "output_type": "stream",
     "text": [
      "**************** (1, 0, 1) (0, 1, 1, 12) 921.4460842295019\n",
      "**************** (1, 0, 1) (1, 0, 0, 12) 1002.8785023897173\n"
     ]
    },
    {
     "name": "stderr",
     "output_type": "stream",
     "text": [
      "C:\\Users\\Swarn\\anaconda3\\lib\\site-packages\\statsmodels\\tsa\\base\\tsa_model.py:471: ValueWarning: No frequency information was provided, so inferred frequency MS will be used.\n",
      "  self._init_dates(dates, freq)\n",
      "C:\\Users\\Swarn\\anaconda3\\lib\\site-packages\\statsmodels\\tsa\\base\\tsa_model.py:471: ValueWarning: No frequency information was provided, so inferred frequency MS will be used.\n",
      "  self._init_dates(dates, freq)\n",
      "C:\\Users\\Swarn\\anaconda3\\lib\\site-packages\\statsmodels\\tsa\\base\\tsa_model.py:471: ValueWarning: No frequency information was provided, so inferred frequency MS will be used.\n",
      "  self._init_dates(dates, freq)\n",
      "C:\\Users\\Swarn\\anaconda3\\lib\\site-packages\\statsmodels\\tsa\\base\\tsa_model.py:471: ValueWarning: No frequency information was provided, so inferred frequency MS will be used.\n",
      "  self._init_dates(dates, freq)\n"
     ]
    },
    {
     "name": "stdout",
     "output_type": "stream",
     "text": [
      "**************** (1, 0, 1) (1, 0, 1, 12) 982.6105913485183\n",
      "**************** (1, 0, 1) (1, 1, 0, 12) 929.0061474706658\n"
     ]
    },
    {
     "name": "stderr",
     "output_type": "stream",
     "text": [
      "C:\\Users\\Swarn\\anaconda3\\lib\\site-packages\\statsmodels\\tsa\\base\\tsa_model.py:471: ValueWarning: No frequency information was provided, so inferred frequency MS will be used.\n",
      "  self._init_dates(dates, freq)\n",
      "C:\\Users\\Swarn\\anaconda3\\lib\\site-packages\\statsmodels\\tsa\\base\\tsa_model.py:471: ValueWarning: No frequency information was provided, so inferred frequency MS will be used.\n",
      "  self._init_dates(dates, freq)\n",
      "C:\\Users\\Swarn\\anaconda3\\lib\\site-packages\\statsmodels\\tsa\\base\\tsa_model.py:471: ValueWarning: No frequency information was provided, so inferred frequency MS will be used.\n",
      "  self._init_dates(dates, freq)\n",
      "C:\\Users\\Swarn\\anaconda3\\lib\\site-packages\\statsmodels\\tsa\\base\\tsa_model.py:471: ValueWarning: No frequency information was provided, so inferred frequency MS will be used.\n",
      "  self._init_dates(dates, freq)\n"
     ]
    },
    {
     "name": "stdout",
     "output_type": "stream",
     "text": [
      "**************** (1, 0, 1) (1, 1, 1, 12) 928.6991017078199\n",
      "**************** (1, 1, 0) (0, 0, 0, 12) 1384.0174637553062\n",
      "**************** (1, 1, 0) (0, 0, 1, 12) 1182.3219135036209\n",
      "**************** (1, 1, 0) (0, 1, 0, 12) 1006.5530371461863\n"
     ]
    },
    {
     "name": "stderr",
     "output_type": "stream",
     "text": [
      "C:\\Users\\Swarn\\anaconda3\\lib\\site-packages\\statsmodels\\tsa\\base\\tsa_model.py:471: ValueWarning: No frequency information was provided, so inferred frequency MS will be used.\n",
      "  self._init_dates(dates, freq)\n",
      "C:\\Users\\Swarn\\anaconda3\\lib\\site-packages\\statsmodels\\tsa\\base\\tsa_model.py:471: ValueWarning: No frequency information was provided, so inferred frequency MS will be used.\n",
      "  self._init_dates(dates, freq)\n",
      "C:\\Users\\Swarn\\anaconda3\\lib\\site-packages\\statsmodels\\tsa\\base\\tsa_model.py:471: ValueWarning: No frequency information was provided, so inferred frequency MS will be used.\n",
      "  self._init_dates(dates, freq)\n",
      "C:\\Users\\Swarn\\anaconda3\\lib\\site-packages\\statsmodels\\tsa\\base\\tsa_model.py:471: ValueWarning: No frequency information was provided, so inferred frequency MS will be used.\n",
      "  self._init_dates(dates, freq)\n",
      "C:\\Users\\Swarn\\anaconda3\\lib\\site-packages\\statsmodels\\tsa\\base\\tsa_model.py:471: ValueWarning: No frequency information was provided, so inferred frequency MS will be used.\n",
      "  self._init_dates(dates, freq)\n",
      "C:\\Users\\Swarn\\anaconda3\\lib\\site-packages\\statsmodels\\tsa\\base\\tsa_model.py:471: ValueWarning: No frequency information was provided, so inferred frequency MS will be used.\n",
      "  self._init_dates(dates, freq)\n",
      "C:\\Users\\Swarn\\anaconda3\\lib\\site-packages\\statsmodels\\tsa\\base\\tsa_model.py:471: ValueWarning: No frequency information was provided, so inferred frequency MS will be used.\n",
      "  self._init_dates(dates, freq)\n",
      "C:\\Users\\Swarn\\anaconda3\\lib\\site-packages\\statsmodels\\tsa\\base\\tsa_model.py:471: ValueWarning: No frequency information was provided, so inferred frequency MS will be used.\n",
      "  self._init_dates(dates, freq)\n"
     ]
    },
    {
     "name": "stdout",
     "output_type": "stream",
     "text": [
      "**************** (1, 1, 0) (0, 1, 1, 12) 920.4245291952188\n",
      "**************** (1, 1, 0) (1, 0, 0, 12) 1000.9218557843475\n",
      "**************** (1, 1, 0) (1, 0, 1, 12) 988.8071492520294\n"
     ]
    },
    {
     "name": "stderr",
     "output_type": "stream",
     "text": [
      "C:\\Users\\Swarn\\anaconda3\\lib\\site-packages\\statsmodels\\tsa\\base\\tsa_model.py:471: ValueWarning: No frequency information was provided, so inferred frequency MS will be used.\n",
      "  self._init_dates(dates, freq)\n",
      "C:\\Users\\Swarn\\anaconda3\\lib\\site-packages\\statsmodels\\tsa\\base\\tsa_model.py:471: ValueWarning: No frequency information was provided, so inferred frequency MS will be used.\n",
      "  self._init_dates(dates, freq)\n",
      "C:\\Users\\Swarn\\anaconda3\\lib\\site-packages\\statsmodels\\tsa\\base\\tsa_model.py:471: ValueWarning: No frequency information was provided, so inferred frequency MS will be used.\n",
      "  self._init_dates(dates, freq)\n",
      "C:\\Users\\Swarn\\anaconda3\\lib\\site-packages\\statsmodels\\tsa\\base\\tsa_model.py:471: ValueWarning: No frequency information was provided, so inferred frequency MS will be used.\n",
      "  self._init_dates(dates, freq)\n",
      "C:\\Users\\Swarn\\anaconda3\\lib\\site-packages\\statsmodels\\tsa\\base\\tsa_model.py:471: ValueWarning: No frequency information was provided, so inferred frequency MS will be used.\n",
      "  self._init_dates(dates, freq)\n",
      "C:\\Users\\Swarn\\anaconda3\\lib\\site-packages\\statsmodels\\tsa\\base\\tsa_model.py:471: ValueWarning: No frequency information was provided, so inferred frequency MS will be used.\n",
      "  self._init_dates(dates, freq)\n"
     ]
    },
    {
     "name": "stdout",
     "output_type": "stream",
     "text": [
      "**************** (1, 1, 0) (1, 1, 0, 12) 919.8601252059133\n",
      "**************** (1, 1, 0) (1, 1, 1, 12) 920.3649541533778\n",
      "**************** (1, 1, 1) (0, 0, 0, 12) 1368.7162311234165\n"
     ]
    },
    {
     "name": "stderr",
     "output_type": "stream",
     "text": [
      "C:\\Users\\Swarn\\anaconda3\\lib\\site-packages\\statsmodels\\tsa\\base\\tsa_model.py:471: ValueWarning: No frequency information was provided, so inferred frequency MS will be used.\n",
      "  self._init_dates(dates, freq)\n",
      "C:\\Users\\Swarn\\anaconda3\\lib\\site-packages\\statsmodels\\tsa\\base\\tsa_model.py:471: ValueWarning: No frequency information was provided, so inferred frequency MS will be used.\n",
      "  self._init_dates(dates, freq)\n",
      "C:\\Users\\Swarn\\anaconda3\\lib\\site-packages\\statsmodels\\tsa\\base\\tsa_model.py:471: ValueWarning: No frequency information was provided, so inferred frequency MS will be used.\n",
      "  self._init_dates(dates, freq)\n",
      "C:\\Users\\Swarn\\anaconda3\\lib\\site-packages\\statsmodels\\tsa\\base\\tsa_model.py:471: ValueWarning: No frequency information was provided, so inferred frequency MS will be used.\n",
      "  self._init_dates(dates, freq)\n",
      "C:\\Users\\Swarn\\anaconda3\\lib\\site-packages\\statsmodels\\tsa\\base\\tsa_model.py:471: ValueWarning: No frequency information was provided, so inferred frequency MS will be used.\n",
      "  self._init_dates(dates, freq)\n",
      "C:\\Users\\Swarn\\anaconda3\\lib\\site-packages\\statsmodels\\tsa\\base\\tsa_model.py:471: ValueWarning: No frequency information was provided, so inferred frequency MS will be used.\n",
      "  self._init_dates(dates, freq)\n",
      "C:\\Users\\Swarn\\anaconda3\\lib\\site-packages\\statsmodels\\base\\model.py:604: ConvergenceWarning: Maximum Likelihood optimization failed to converge. Check mle_retvals\n",
      "  warnings.warn(\"Maximum Likelihood optimization failed to \"\n",
      "C:\\Users\\Swarn\\anaconda3\\lib\\site-packages\\statsmodels\\tsa\\base\\tsa_model.py:471: ValueWarning: No frequency information was provided, so inferred frequency MS will be used.\n",
      "  self._init_dates(dates, freq)\n",
      "C:\\Users\\Swarn\\anaconda3\\lib\\site-packages\\statsmodels\\tsa\\base\\tsa_model.py:471: ValueWarning: No frequency information was provided, so inferred frequency MS will be used.\n",
      "  self._init_dates(dates, freq)\n",
      "C:\\Users\\Swarn\\anaconda3\\lib\\site-packages\\statsmodels\\tsa\\base\\tsa_model.py:471: ValueWarning: No frequency information was provided, so inferred frequency MS will be used.\n",
      "  self._init_dates(dates, freq)\n",
      "C:\\Users\\Swarn\\anaconda3\\lib\\site-packages\\statsmodels\\tsa\\base\\tsa_model.py:471: ValueWarning: No frequency information was provided, so inferred frequency MS will be used.\n",
      "  self._init_dates(dates, freq)\n",
      "C:\\Users\\Swarn\\anaconda3\\lib\\site-packages\\statsmodels\\tsa\\base\\tsa_model.py:471: ValueWarning: No frequency information was provided, so inferred frequency MS will be used.\n",
      "  self._init_dates(dates, freq)\n",
      "C:\\Users\\Swarn\\anaconda3\\lib\\site-packages\\statsmodels\\tsa\\base\\tsa_model.py:471: ValueWarning: No frequency information was provided, so inferred frequency MS will be used.\n",
      "  self._init_dates(dates, freq)\n"
     ]
    },
    {
     "name": "stdout",
     "output_type": "stream",
     "text": [
      "**************** (1, 1, 1) (0, 0, 1, 12) 1175.5152029186102\n",
      "**************** (1, 1, 1) (0, 1, 0, 12) 1001.7257303388335\n",
      "**************** (1, 1, 1) (0, 1, 1, 12) 915.4066959470358\n",
      "**************** (1, 1, 1) (1, 0, 0, 12) 1002.4854660676816\n",
      "**************** (1, 1, 1) (1, 0, 1, 12) 980.4751388326138\n"
     ]
    },
    {
     "name": "stderr",
     "output_type": "stream",
     "text": [
      "C:\\Users\\Swarn\\anaconda3\\lib\\site-packages\\statsmodels\\tsa\\base\\tsa_model.py:471: ValueWarning: No frequency information was provided, so inferred frequency MS will be used.\n",
      "  self._init_dates(dates, freq)\n",
      "C:\\Users\\Swarn\\anaconda3\\lib\\site-packages\\statsmodels\\tsa\\base\\tsa_model.py:471: ValueWarning: No frequency information was provided, so inferred frequency MS will be used.\n",
      "  self._init_dates(dates, freq)\n",
      "C:\\Users\\Swarn\\anaconda3\\lib\\site-packages\\statsmodels\\tsa\\base\\tsa_model.py:471: ValueWarning: No frequency information was provided, so inferred frequency MS will be used.\n",
      "  self._init_dates(dates, freq)\n",
      "C:\\Users\\Swarn\\anaconda3\\lib\\site-packages\\statsmodels\\tsa\\base\\tsa_model.py:471: ValueWarning: No frequency information was provided, so inferred frequency MS will be used.\n",
      "  self._init_dates(dates, freq)\n"
     ]
    },
    {
     "name": "stdout",
     "output_type": "stream",
     "text": [
      "**************** (1, 1, 1) (1, 1, 0, 12) 921.8434902947598\n",
      "**************** (1, 1, 1) (1, 1, 1, 12) 915.1400294721386\n"
     ]
    },
    {
     "name": "stderr",
     "output_type": "stream",
     "text": [
      "C:\\Users\\Swarn\\anaconda3\\lib\\site-packages\\statsmodels\\tsa\\base\\tsa_model.py:471: ValueWarning: No frequency information was provided, so inferred frequency MS will be used.\n",
      "  self._init_dates(dates, freq)\n",
      "C:\\Users\\Swarn\\anaconda3\\lib\\site-packages\\statsmodels\\tsa\\base\\tsa_model.py:471: ValueWarning: No frequency information was provided, so inferred frequency MS will be used.\n",
      "  self._init_dates(dates, freq)\n"
     ]
    }
   ],
   "source": [
    "hld = []\n",
    "for param_trend in pdq:\n",
    "    for param_seasonal in seasonal_pdq:\n",
    "        try:\n",
    "            model = sm.tsa.statespace.SARIMAX(df['Pax'],order=param_trend,seasonal_order=param_seasonal,\n",
    "                                             enforce_stationarity=False,\n",
    "                                             enforce_invertibility=False)\n",
    "            result = model.fit()\n",
    "            print(\"****************\",param_trend,param_seasonal,result.aic)\n",
    "            hld.append(result.aic)\n",
    "\n",
    "        except:\n",
    "            continue"
   ]
  },
  {
   "cell_type": "code",
   "execution_count": 130,
   "id": "e5eb157d",
   "metadata": {},
   "outputs": [
    {
     "data": {
      "text/plain": [
       "913.238219921295"
      ]
     },
     "execution_count": 130,
     "metadata": {},
     "output_type": "execute_result"
    }
   ],
   "source": [
    "min(hld)"
   ]
  },
  {
   "cell_type": "markdown",
   "id": "1a3b7cfc",
   "metadata": {},
   "source": [
    "(0, 1, 1) (1, 1, 1, 12) 913.238219921295 --- this is the best parameter. "
   ]
  },
  {
   "cell_type": "markdown",
   "id": "768fe4d7",
   "metadata": {},
   "source": [
    "# BEST MODEL"
   ]
  },
  {
   "cell_type": "code",
   "execution_count": 161,
   "id": "021cbd0f",
   "metadata": {},
   "outputs": [
    {
     "name": "stderr",
     "output_type": "stream",
     "text": [
      "C:\\Users\\Swarn\\anaconda3\\lib\\site-packages\\statsmodels\\tsa\\base\\tsa_model.py:471: ValueWarning: No frequency information was provided, so inferred frequency MS will be used.\n",
      "  self._init_dates(dates, freq)\n",
      "C:\\Users\\Swarn\\anaconda3\\lib\\site-packages\\statsmodels\\tsa\\base\\tsa_model.py:471: ValueWarning: No frequency information was provided, so inferred frequency MS will be used.\n",
      "  self._init_dates(dates, freq)\n"
     ]
    },
    {
     "data": {
      "text/html": [
       "<table class=\"simpletable\">\n",
       "<caption>SARIMAX Results</caption>\n",
       "<tr>\n",
       "  <th>Dep. Variable:</th>                 <td>Pax</td>              <th>  No. Observations:  </th>    <td>143</td>  \n",
       "</tr>\n",
       "<tr>\n",
       "  <th>Model:</th>           <td>SARIMAX(0, 1, 1)x(1, 1, 1, 12)</td> <th>  Log Likelihood     </th> <td>-452.619</td>\n",
       "</tr>\n",
       "<tr>\n",
       "  <th>Date:</th>                   <td>Fri, 04 Aug 2023</td>        <th>  AIC                </th>  <td>913.238</td>\n",
       "</tr>\n",
       "<tr>\n",
       "  <th>Time:</th>                       <td>05:41:12</td>            <th>  BIC                </th>  <td>924.253</td>\n",
       "</tr>\n",
       "<tr>\n",
       "  <th>Sample:</th>                    <td>02-01-1949</td>           <th>  HQIC               </th>  <td>917.709</td>\n",
       "</tr>\n",
       "<tr>\n",
       "  <th></th>                          <td>- 12-01-1960</td>          <th>                     </th>     <td> </td>   \n",
       "</tr>\n",
       "<tr>\n",
       "  <th>Covariance Type:</th>               <td>opg</td>              <th>                     </th>     <td> </td>   \n",
       "</tr>\n",
       "</table>\n",
       "<table class=\"simpletable\">\n",
       "<tr>\n",
       "      <td></td>        <th>coef</th>     <th>std err</th>      <th>z</th>      <th>P>|z|</th>  <th>[0.025</th>    <th>0.975]</th>  \n",
       "</tr>\n",
       "<tr>\n",
       "  <th>ma.L1</th>    <td>   -0.3338</td> <td>    0.077</td> <td>   -4.342</td> <td> 0.000</td> <td>   -0.485</td> <td>   -0.183</td>\n",
       "</tr>\n",
       "<tr>\n",
       "  <th>ar.S.L12</th> <td>   -0.5693</td> <td>    0.277</td> <td>   -2.052</td> <td> 0.040</td> <td>   -1.113</td> <td>   -0.026</td>\n",
       "</tr>\n",
       "<tr>\n",
       "  <th>ma.S.L12</th> <td>    0.4175</td> <td>    0.330</td> <td>    1.267</td> <td> 0.205</td> <td>   -0.228</td> <td>    1.063</td>\n",
       "</tr>\n",
       "<tr>\n",
       "  <th>sigma2</th>   <td>  141.0140</td> <td>   18.335</td> <td>    7.691</td> <td> 0.000</td> <td>  105.078</td> <td>  176.950</td>\n",
       "</tr>\n",
       "</table>\n",
       "<table class=\"simpletable\">\n",
       "<tr>\n",
       "  <th>Ljung-Box (L1) (Q):</th>     <td>0.00</td> <th>  Jarque-Bera (JB):  </th> <td>3.77</td>\n",
       "</tr>\n",
       "<tr>\n",
       "  <th>Prob(Q):</th>                <td>0.95</td> <th>  Prob(JB):          </th> <td>0.15</td>\n",
       "</tr>\n",
       "<tr>\n",
       "  <th>Heteroskedasticity (H):</th> <td>2.21</td> <th>  Skew:              </th> <td>0.13</td>\n",
       "</tr>\n",
       "<tr>\n",
       "  <th>Prob(H) (two-sided):</th>    <td>0.02</td> <th>  Kurtosis:          </th> <td>3.84</td>\n",
       "</tr>\n",
       "</table><br/><br/>Warnings:<br/>[1] Covariance matrix calculated using the outer product of gradients (complex-step)."
      ],
      "text/plain": [
       "<class 'statsmodels.iolib.summary.Summary'>\n",
       "\"\"\"\n",
       "                                     SARIMAX Results                                      \n",
       "==========================================================================================\n",
       "Dep. Variable:                                Pax   No. Observations:                  143\n",
       "Model:             SARIMAX(0, 1, 1)x(1, 1, 1, 12)   Log Likelihood                -452.619\n",
       "Date:                            Fri, 04 Aug 2023   AIC                            913.238\n",
       "Time:                                    05:41:12   BIC                            924.253\n",
       "Sample:                                02-01-1949   HQIC                           917.709\n",
       "                                     - 12-01-1960                                         \n",
       "Covariance Type:                              opg                                         \n",
       "==============================================================================\n",
       "                 coef    std err          z      P>|z|      [0.025      0.975]\n",
       "------------------------------------------------------------------------------\n",
       "ma.L1         -0.3338      0.077     -4.342      0.000      -0.485      -0.183\n",
       "ar.S.L12      -0.5693      0.277     -2.052      0.040      -1.113      -0.026\n",
       "ma.S.L12       0.4175      0.330      1.267      0.205      -0.228       1.063\n",
       "sigma2       141.0140     18.335      7.691      0.000     105.078     176.950\n",
       "===================================================================================\n",
       "Ljung-Box (L1) (Q):                   0.00   Jarque-Bera (JB):                 3.77\n",
       "Prob(Q):                              0.95   Prob(JB):                         0.15\n",
       "Heteroskedasticity (H):               2.21   Skew:                             0.13\n",
       "Prob(H) (two-sided):                  0.02   Kurtosis:                         3.84\n",
       "===================================================================================\n",
       "\n",
       "Warnings:\n",
       "[1] Covariance matrix calculated using the outer product of gradients (complex-step).\n",
       "\"\"\""
      ]
     },
     "execution_count": 161,
     "metadata": {},
     "output_type": "execute_result"
    }
   ],
   "source": [
    "model = sm.tsa.statespace.SARIMAX(df['Pax'],order=(0,1,1),seasonal_order=(1,1,1,12),\n",
    "                                  enforce_stationarity=False, \n",
    "                                  enforce_invertibility=False)\n",
    "\n",
    "result=model.fit()\n",
    "result.summary()"
   ]
  },
  {
   "cell_type": "markdown",
   "id": "bc7e8089",
   "metadata": {},
   "source": [
    "# Evaluation and further Predictions"
   ]
  },
  {
   "cell_type": "code",
   "execution_count": 155,
   "id": "30b55512",
   "metadata": {},
   "outputs": [
    {
     "data": {
      "text/html": [
       "<div>\n",
       "<style scoped>\n",
       "    .dataframe tbody tr th:only-of-type {\n",
       "        vertical-align: middle;\n",
       "    }\n",
       "\n",
       "    .dataframe tbody tr th {\n",
       "        vertical-align: top;\n",
       "    }\n",
       "\n",
       "    .dataframe thead th {\n",
       "        text-align: right;\n",
       "    }\n",
       "</style>\n",
       "<table border=\"1\" class=\"dataframe\">\n",
       "  <thead>\n",
       "    <tr style=\"text-align: right;\">\n",
       "      <th></th>\n",
       "      <th>Pax</th>\n",
       "      <th>1st Diff</th>\n",
       "      <th>2nd Diff</th>\n",
       "      <th>Seasonality</th>\n",
       "      <th>Forecast</th>\n",
       "    </tr>\n",
       "    <tr>\n",
       "      <th>Year-Month</th>\n",
       "      <th></th>\n",
       "      <th></th>\n",
       "      <th></th>\n",
       "      <th></th>\n",
       "      <th></th>\n",
       "    </tr>\n",
       "  </thead>\n",
       "  <tbody>\n",
       "    <tr>\n",
       "      <th>1949-02-01</th>\n",
       "      <td>118</td>\n",
       "      <td>NaN</td>\n",
       "      <td>NaN</td>\n",
       "      <td>NaN</td>\n",
       "      <td>NaN</td>\n",
       "    </tr>\n",
       "  </tbody>\n",
       "</table>\n",
       "</div>"
      ],
      "text/plain": [
       "            Pax  1st Diff  2nd Diff  Seasonality  Forecast\n",
       "Year-Month                                                \n",
       "1949-02-01  118       NaN       NaN          NaN       NaN"
      ]
     },
     "execution_count": 155,
     "metadata": {},
     "output_type": "execute_result"
    }
   ],
   "source": [
    "df.head(1)"
   ]
  },
  {
   "cell_type": "code",
   "execution_count": 156,
   "id": "05cef0e7",
   "metadata": {},
   "outputs": [
    {
     "data": {
      "text/html": [
       "<div>\n",
       "<style scoped>\n",
       "    .dataframe tbody tr th:only-of-type {\n",
       "        vertical-align: middle;\n",
       "    }\n",
       "\n",
       "    .dataframe tbody tr th {\n",
       "        vertical-align: top;\n",
       "    }\n",
       "\n",
       "    .dataframe thead th {\n",
       "        text-align: right;\n",
       "    }\n",
       "</style>\n",
       "<table border=\"1\" class=\"dataframe\">\n",
       "  <thead>\n",
       "    <tr style=\"text-align: right;\">\n",
       "      <th></th>\n",
       "      <th>Pax</th>\n",
       "      <th>1st Diff</th>\n",
       "      <th>2nd Diff</th>\n",
       "      <th>Seasonality</th>\n",
       "      <th>Forecast</th>\n",
       "    </tr>\n",
       "    <tr>\n",
       "      <th>Year-Month</th>\n",
       "      <th></th>\n",
       "      <th></th>\n",
       "      <th></th>\n",
       "      <th></th>\n",
       "      <th></th>\n",
       "    </tr>\n",
       "  </thead>\n",
       "  <tbody>\n",
       "    <tr>\n",
       "      <th>1960-12-01</th>\n",
       "      <td>432</td>\n",
       "      <td>42.0</td>\n",
       "      <td>113.0</td>\n",
       "      <td>27.0</td>\n",
       "      <td>438.250604</td>\n",
       "    </tr>\n",
       "  </tbody>\n",
       "</table>\n",
       "</div>"
      ],
      "text/plain": [
       "            Pax  1st Diff  2nd Diff  Seasonality    Forecast\n",
       "Year-Month                                                  \n",
       "1960-12-01  432      42.0     113.0         27.0  438.250604"
      ]
     },
     "execution_count": 156,
     "metadata": {},
     "output_type": "execute_result"
    }
   ],
   "source": [
    "df.tail(1)"
   ]
  },
  {
   "cell_type": "markdown",
   "id": "1ed15888",
   "metadata": {},
   "source": [
    "Given data 1949-02-01 -- 1960-12-01\n",
    "Ask is - to find prediction of 1961 - 1965"
   ]
  },
  {
   "cell_type": "code",
   "execution_count": 157,
   "id": "83cf96b2",
   "metadata": {},
   "outputs": [
    {
     "data": {
      "text/plain": [
       "143"
      ]
     },
     "execution_count": 157,
     "metadata": {},
     "output_type": "execute_result"
    }
   ],
   "source": [
    "len(df)"
   ]
  },
  {
   "cell_type": "code",
   "execution_count": 158,
   "id": "52b21ad2",
   "metadata": {},
   "outputs": [
    {
     "data": {
      "text/html": [
       "<div>\n",
       "<style scoped>\n",
       "    .dataframe tbody tr th:only-of-type {\n",
       "        vertical-align: middle;\n",
       "    }\n",
       "\n",
       "    .dataframe tbody tr th {\n",
       "        vertical-align: top;\n",
       "    }\n",
       "\n",
       "    .dataframe thead th {\n",
       "        text-align: right;\n",
       "    }\n",
       "</style>\n",
       "<table border=\"1\" class=\"dataframe\">\n",
       "  <thead>\n",
       "    <tr style=\"text-align: right;\">\n",
       "      <th></th>\n",
       "      <th>Pax</th>\n",
       "      <th>1st Diff</th>\n",
       "      <th>2nd Diff</th>\n",
       "      <th>Seasonality</th>\n",
       "      <th>Forecast</th>\n",
       "    </tr>\n",
       "    <tr>\n",
       "      <th>Year-Month</th>\n",
       "      <th></th>\n",
       "      <th></th>\n",
       "      <th></th>\n",
       "      <th></th>\n",
       "      <th></th>\n",
       "    </tr>\n",
       "  </thead>\n",
       "  <tbody>\n",
       "    <tr>\n",
       "      <th>1960-12-01</th>\n",
       "      <td>432</td>\n",
       "      <td>42.0</td>\n",
       "      <td>113.0</td>\n",
       "      <td>27.0</td>\n",
       "      <td>438.250604</td>\n",
       "    </tr>\n",
       "  </tbody>\n",
       "</table>\n",
       "</div>"
      ],
      "text/plain": [
       "            Pax  1st Diff  2nd Diff  Seasonality    Forecast\n",
       "Year-Month                                                  \n",
       "1960-12-01  432      42.0     113.0         27.0  438.250604"
      ]
     },
     "execution_count": 158,
     "metadata": {},
     "output_type": "execute_result"
    }
   ],
   "source": [
    "df.tail(1)"
   ]
  },
  {
   "cell_type": "code",
   "execution_count": 159,
   "id": "db54226c",
   "metadata": {},
   "outputs": [],
   "source": [
    "# EVALUATION"
   ]
  },
  {
   "cell_type": "code",
   "execution_count": 162,
   "id": "874203a6",
   "metadata": {},
   "outputs": [
    {
     "data": {
      "image/png": "[encoded data removed]",
      "text/plain": [
       "<Figure size 864x864 with 1 Axes>"
      ]
     },
     "metadata": {
      "needs_background": "light"
     },
     "output_type": "display_data"
    }
   ],
   "source": [
    "df['Forecast']=result.predict(start = 130,end=144,dynmaic=True)\n",
    "df[['Pax','Forecast']].plot()\n",
    "plt.show()"
   ]
  },
  {
   "cell_type": "code",
   "execution_count": null,
   "id": "17f57bea",
   "metadata": {},
   "outputs": [],
   "source": [
    "# EVAlUATION"
   ]
  },
  {
   "cell_type": "code",
   "execution_count": 140,
   "id": "9d106845",
   "metadata": {},
   "outputs": [],
   "source": [
    "from pandas.tseries.offsets import DateOffset"
   ]
  },
  {
   "cell_type": "code",
   "execution_count": 142,
   "id": "f401fda4",
   "metadata": {},
   "outputs": [],
   "source": [
    "future_date= [df.index[-1] + DateOffset(months = x) for x in range(0,61)]"
   ]
  },
  {
   "cell_type": "code",
   "execution_count": 143,
   "id": "f261f06c",
   "metadata": {},
   "outputs": [
    {
     "data": {
      "text/plain": [
       "[Timestamp('1960-12-01 00:00:00'),\n",
       " Timestamp('1961-01-01 00:00:00'),\n",
       " Timestamp('1961-02-01 00:00:00'),\n",
       " Timestamp('1961-03-01 00:00:00'),\n",
       " Timestamp('1961-04-01 00:00:00'),\n",
       " Timestamp('1961-05-01 00:00:00'),\n",
       " Timestamp('1961-06-01 00:00:00'),\n",
       " Timestamp('1961-07-01 00:00:00'),\n",
       " Timestamp('1961-08-01 00:00:00'),\n",
       " Timestamp('1961-09-01 00:00:00'),\n",
       " Timestamp('1961-10-01 00:00:00'),\n",
       " Timestamp('1961-11-01 00:00:00'),\n",
       " Timestamp('1961-12-01 00:00:00'),\n",
       " Timestamp('1962-01-01 00:00:00'),\n",
       " Timestamp('1962-02-01 00:00:00'),\n",
       " Timestamp('1962-03-01 00:00:00'),\n",
       " Timestamp('1962-04-01 00:00:00'),\n",
       " Timestamp('1962-05-01 00:00:00'),\n",
       " Timestamp('1962-06-01 00:00:00'),\n",
       " Timestamp('1962-07-01 00:00:00'),\n",
       " Timestamp('1962-08-01 00:00:00'),\n",
       " Timestamp('1962-09-01 00:00:00'),\n",
       " Timestamp('1962-10-01 00:00:00'),\n",
       " Timestamp('1962-11-01 00:00:00'),\n",
       " Timestamp('1962-12-01 00:00:00'),\n",
       " Timestamp('1963-01-01 00:00:00'),\n",
       " Timestamp('1963-02-01 00:00:00'),\n",
       " Timestamp('1963-03-01 00:00:00'),\n",
       " Timestamp('1963-04-01 00:00:00'),\n",
       " Timestamp('1963-05-01 00:00:00'),\n",
       " Timestamp('1963-06-01 00:00:00'),\n",
       " Timestamp('1963-07-01 00:00:00'),\n",
       " Timestamp('1963-08-01 00:00:00'),\n",
       " Timestamp('1963-09-01 00:00:00'),\n",
       " Timestamp('1963-10-01 00:00:00'),\n",
       " Timestamp('1963-11-01 00:00:00'),\n",
       " Timestamp('1963-12-01 00:00:00'),\n",
       " Timestamp('1964-01-01 00:00:00'),\n",
       " Timestamp('1964-02-01 00:00:00'),\n",
       " Timestamp('1964-03-01 00:00:00'),\n",
       " Timestamp('1964-04-01 00:00:00'),\n",
       " Timestamp('1964-05-01 00:00:00'),\n",
       " Timestamp('1964-06-01 00:00:00'),\n",
       " Timestamp('1964-07-01 00:00:00'),\n",
       " Timestamp('1964-08-01 00:00:00'),\n",
       " Timestamp('1964-09-01 00:00:00'),\n",
       " Timestamp('1964-10-01 00:00:00'),\n",
       " Timestamp('1964-11-01 00:00:00'),\n",
       " Timestamp('1964-12-01 00:00:00'),\n",
       " Timestamp('1965-01-01 00:00:00'),\n",
       " Timestamp('1965-02-01 00:00:00'),\n",
       " Timestamp('1965-03-01 00:00:00'),\n",
       " Timestamp('1965-04-01 00:00:00'),\n",
       " Timestamp('1965-05-01 00:00:00'),\n",
       " Timestamp('1965-06-01 00:00:00'),\n",
       " Timestamp('1965-07-01 00:00:00'),\n",
       " Timestamp('1965-08-01 00:00:00'),\n",
       " Timestamp('1965-09-01 00:00:00'),\n",
       " Timestamp('1965-10-01 00:00:00'),\n",
       " Timestamp('1965-11-01 00:00:00'),\n",
       " Timestamp('1965-12-01 00:00:00')]"
      ]
     },
     "execution_count": 143,
     "metadata": {},
     "output_type": "execute_result"
    }
   ],
   "source": [
    "future_date"
   ]
  },
  {
   "cell_type": "code",
   "execution_count": 144,
   "id": "aeda348a",
   "metadata": {},
   "outputs": [
    {
     "data": {
      "text/html": [
       "<div>\n",
       "<style scoped>\n",
       "    .dataframe tbody tr th:only-of-type {\n",
       "        vertical-align: middle;\n",
       "    }\n",
       "\n",
       "    .dataframe tbody tr th {\n",
       "        vertical-align: top;\n",
       "    }\n",
       "\n",
       "    .dataframe thead th {\n",
       "        text-align: right;\n",
       "    }\n",
       "</style>\n",
       "<table border=\"1\" class=\"dataframe\">\n",
       "  <thead>\n",
       "    <tr style=\"text-align: right;\">\n",
       "      <th></th>\n",
       "      <th>Pax</th>\n",
       "      <th>1st Diff</th>\n",
       "      <th>2nd Diff</th>\n",
       "      <th>Seasonality</th>\n",
       "      <th>Forecast</th>\n",
       "    </tr>\n",
       "  </thead>\n",
       "  <tbody>\n",
       "    <tr>\n",
       "      <th>1965-08-01</th>\n",
       "      <td>NaN</td>\n",
       "      <td>NaN</td>\n",
       "      <td>NaN</td>\n",
       "      <td>NaN</td>\n",
       "      <td>NaN</td>\n",
       "    </tr>\n",
       "    <tr>\n",
       "      <th>1965-09-01</th>\n",
       "      <td>NaN</td>\n",
       "      <td>NaN</td>\n",
       "      <td>NaN</td>\n",
       "      <td>NaN</td>\n",
       "      <td>NaN</td>\n",
       "    </tr>\n",
       "    <tr>\n",
       "      <th>1965-10-01</th>\n",
       "      <td>NaN</td>\n",
       "      <td>NaN</td>\n",
       "      <td>NaN</td>\n",
       "      <td>NaN</td>\n",
       "      <td>NaN</td>\n",
       "    </tr>\n",
       "    <tr>\n",
       "      <th>1965-11-01</th>\n",
       "      <td>NaN</td>\n",
       "      <td>NaN</td>\n",
       "      <td>NaN</td>\n",
       "      <td>NaN</td>\n",
       "      <td>NaN</td>\n",
       "    </tr>\n",
       "    <tr>\n",
       "      <th>1965-12-01</th>\n",
       "      <td>NaN</td>\n",
       "      <td>NaN</td>\n",
       "      <td>NaN</td>\n",
       "      <td>NaN</td>\n",
       "      <td>NaN</td>\n",
       "    </tr>\n",
       "  </tbody>\n",
       "</table>\n",
       "</div>"
      ],
      "text/plain": [
       "            Pax 1st Diff 2nd Diff Seasonality Forecast\n",
       "1965-08-01  NaN      NaN      NaN         NaN      NaN\n",
       "1965-09-01  NaN      NaN      NaN         NaN      NaN\n",
       "1965-10-01  NaN      NaN      NaN         NaN      NaN\n",
       "1965-11-01  NaN      NaN      NaN         NaN      NaN\n",
       "1965-12-01  NaN      NaN      NaN         NaN      NaN"
      ]
     },
     "execution_count": 144,
     "metadata": {},
     "output_type": "execute_result"
    }
   ],
   "source": [
    "future_date_df = pd.DataFrame(index=future_date[1:],columns=df.columns)\n",
    "future_date_df.tail()"
   ]
  },
  {
   "cell_type": "code",
   "execution_count": 145,
   "id": "63f141ce",
   "metadata": {},
   "outputs": [],
   "source": [
    "future_pred = pd.concat([df,future_date_df])"
   ]
  },
  {
   "cell_type": "code",
   "execution_count": 146,
   "id": "8ab0b5a4",
   "metadata": {},
   "outputs": [
    {
     "data": {
      "text/html": [
       "<div>\n",
       "<style scoped>\n",
       "    .dataframe tbody tr th:only-of-type {\n",
       "        vertical-align: middle;\n",
       "    }\n",
       "\n",
       "    .dataframe tbody tr th {\n",
       "        vertical-align: top;\n",
       "    }\n",
       "\n",
       "    .dataframe thead th {\n",
       "        text-align: right;\n",
       "    }\n",
       "</style>\n",
       "<table border=\"1\" class=\"dataframe\">\n",
       "  <thead>\n",
       "    <tr style=\"text-align: right;\">\n",
       "      <th></th>\n",
       "      <th>Pax</th>\n",
       "      <th>1st Diff</th>\n",
       "      <th>2nd Diff</th>\n",
       "      <th>Seasonality</th>\n",
       "      <th>Forecast</th>\n",
       "    </tr>\n",
       "  </thead>\n",
       "  <tbody>\n",
       "    <tr>\n",
       "      <th>1949-02-01</th>\n",
       "      <td>118</td>\n",
       "      <td>NaN</td>\n",
       "      <td>NaN</td>\n",
       "      <td>NaN</td>\n",
       "      <td>NaN</td>\n",
       "    </tr>\n",
       "  </tbody>\n",
       "</table>\n",
       "</div>"
      ],
      "text/plain": [
       "            Pax 1st Diff 2nd Diff Seasonality Forecast\n",
       "1949-02-01  118      NaN      NaN         NaN      NaN"
      ]
     },
     "execution_count": 146,
     "metadata": {},
     "output_type": "execute_result"
    }
   ],
   "source": [
    "future_pred.head(1)"
   ]
  },
  {
   "cell_type": "code",
   "execution_count": 147,
   "id": "f6486814",
   "metadata": {},
   "outputs": [
    {
     "data": {
      "text/html": [
       "<div>\n",
       "<style scoped>\n",
       "    .dataframe tbody tr th:only-of-type {\n",
       "        vertical-align: middle;\n",
       "    }\n",
       "\n",
       "    .dataframe tbody tr th {\n",
       "        vertical-align: top;\n",
       "    }\n",
       "\n",
       "    .dataframe thead th {\n",
       "        text-align: right;\n",
       "    }\n",
       "</style>\n",
       "<table border=\"1\" class=\"dataframe\">\n",
       "  <thead>\n",
       "    <tr style=\"text-align: right;\">\n",
       "      <th></th>\n",
       "      <th>Pax</th>\n",
       "      <th>1st Diff</th>\n",
       "      <th>2nd Diff</th>\n",
       "      <th>Seasonality</th>\n",
       "      <th>Forecast</th>\n",
       "    </tr>\n",
       "  </thead>\n",
       "  <tbody>\n",
       "    <tr>\n",
       "      <th>1965-08-01</th>\n",
       "      <td>NaN</td>\n",
       "      <td>NaN</td>\n",
       "      <td>NaN</td>\n",
       "      <td>NaN</td>\n",
       "      <td>NaN</td>\n",
       "    </tr>\n",
       "    <tr>\n",
       "      <th>1965-09-01</th>\n",
       "      <td>NaN</td>\n",
       "      <td>NaN</td>\n",
       "      <td>NaN</td>\n",
       "      <td>NaN</td>\n",
       "      <td>NaN</td>\n",
       "    </tr>\n",
       "    <tr>\n",
       "      <th>1965-10-01</th>\n",
       "      <td>NaN</td>\n",
       "      <td>NaN</td>\n",
       "      <td>NaN</td>\n",
       "      <td>NaN</td>\n",
       "      <td>NaN</td>\n",
       "    </tr>\n",
       "    <tr>\n",
       "      <th>1965-11-01</th>\n",
       "      <td>NaN</td>\n",
       "      <td>NaN</td>\n",
       "      <td>NaN</td>\n",
       "      <td>NaN</td>\n",
       "      <td>NaN</td>\n",
       "    </tr>\n",
       "    <tr>\n",
       "      <th>1965-12-01</th>\n",
       "      <td>NaN</td>\n",
       "      <td>NaN</td>\n",
       "      <td>NaN</td>\n",
       "      <td>NaN</td>\n",
       "      <td>NaN</td>\n",
       "    </tr>\n",
       "  </tbody>\n",
       "</table>\n",
       "</div>"
      ],
      "text/plain": [
       "            Pax 1st Diff 2nd Diff Seasonality Forecast\n",
       "1965-08-01  NaN      NaN      NaN         NaN      NaN\n",
       "1965-09-01  NaN      NaN      NaN         NaN      NaN\n",
       "1965-10-01  NaN      NaN      NaN         NaN      NaN\n",
       "1965-11-01  NaN      NaN      NaN         NaN      NaN\n",
       "1965-12-01  NaN      NaN      NaN         NaN      NaN"
      ]
     },
     "execution_count": 147,
     "metadata": {},
     "output_type": "execute_result"
    }
   ],
   "source": [
    "future_pred.tail()"
   ]
  },
  {
   "cell_type": "code",
   "execution_count": 148,
   "id": "bddd54ae",
   "metadata": {},
   "outputs": [
    {
     "name": "stdout",
     "output_type": "stream",
     "text": [
      "143\n",
      "203\n"
     ]
    }
   ],
   "source": [
    "print(len(df))\n",
    "print(len(future_pred))"
   ]
  },
  {
   "cell_type": "markdown",
   "id": "5e4641e8",
   "metadata": {},
   "source": [
    "# Predicting the FUture Data for 60 MOnths."
   ]
  },
  {
   "cell_type": "code",
   "execution_count": 166,
   "id": "0c5d540c",
   "metadata": {},
   "outputs": [
    {
     "data": {
      "image/png": "[encoded data removed]",
      "text/plain": [
       "<Figure size 864x864 with 1 Axes>"
      ]
     },
     "metadata": {
      "needs_background": "light"
     },
     "output_type": "display_data"
    }
   ],
   "source": [
    "future_pred['Forecast']=  result.predict(start=140,end=204,dynamic=True)\n",
    "future_pred[['Pax','Forecast']].plot()\n",
    "plt.show()"
   ]
  },
  {
   "cell_type": "code",
   "execution_count": 167,
   "id": "f152f25b",
   "metadata": {},
   "outputs": [
    {
     "data": {
      "text/html": [
       "<div>\n",
       "<style scoped>\n",
       "    .dataframe tbody tr th:only-of-type {\n",
       "        vertical-align: middle;\n",
       "    }\n",
       "\n",
       "    .dataframe tbody tr th {\n",
       "        vertical-align: top;\n",
       "    }\n",
       "\n",
       "    .dataframe thead th {\n",
       "        text-align: right;\n",
       "    }\n",
       "</style>\n",
       "<table border=\"1\" class=\"dataframe\">\n",
       "  <thead>\n",
       "    <tr style=\"text-align: right;\">\n",
       "      <th></th>\n",
       "      <th>Pax</th>\n",
       "      <th>1st Diff</th>\n",
       "      <th>2nd Diff</th>\n",
       "      <th>Seasonality</th>\n",
       "      <th>Forecast</th>\n",
       "    </tr>\n",
       "  </thead>\n",
       "  <tbody>\n",
       "    <tr>\n",
       "      <th>1961-01-01</th>\n",
       "      <td>NaN</td>\n",
       "      <td>NaN</td>\n",
       "      <td>NaN</td>\n",
       "      <td>NaN</td>\n",
       "      <td>466.366152</td>\n",
       "    </tr>\n",
       "    <tr>\n",
       "      <th>1961-02-01</th>\n",
       "      <td>NaN</td>\n",
       "      <td>NaN</td>\n",
       "      <td>NaN</td>\n",
       "      <td>NaN</td>\n",
       "      <td>441.980835</td>\n",
       "    </tr>\n",
       "    <tr>\n",
       "      <th>1961-03-01</th>\n",
       "      <td>NaN</td>\n",
       "      <td>NaN</td>\n",
       "      <td>NaN</td>\n",
       "      <td>NaN</td>\n",
       "      <td>477.121593</td>\n",
       "    </tr>\n",
       "    <tr>\n",
       "      <th>1961-04-01</th>\n",
       "      <td>NaN</td>\n",
       "      <td>NaN</td>\n",
       "      <td>NaN</td>\n",
       "      <td>NaN</td>\n",
       "      <td>511.654217</td>\n",
       "    </tr>\n",
       "    <tr>\n",
       "      <th>1961-05-01</th>\n",
       "      <td>NaN</td>\n",
       "      <td>NaN</td>\n",
       "      <td>NaN</td>\n",
       "      <td>NaN</td>\n",
       "      <td>524.967107</td>\n",
       "    </tr>\n",
       "    <tr>\n",
       "      <th>1961-06-01</th>\n",
       "      <td>NaN</td>\n",
       "      <td>NaN</td>\n",
       "      <td>NaN</td>\n",
       "      <td>NaN</td>\n",
       "      <td>584.971549</td>\n",
       "    </tr>\n",
       "    <tr>\n",
       "      <th>1961-07-01</th>\n",
       "      <td>NaN</td>\n",
       "      <td>NaN</td>\n",
       "      <td>NaN</td>\n",
       "      <td>NaN</td>\n",
       "      <td>671.327239</td>\n",
       "    </tr>\n",
       "    <tr>\n",
       "      <th>1961-08-01</th>\n",
       "      <td>NaN</td>\n",
       "      <td>NaN</td>\n",
       "      <td>NaN</td>\n",
       "      <td>NaN</td>\n",
       "      <td>658.980891</td>\n",
       "    </tr>\n",
       "    <tr>\n",
       "      <th>1961-09-01</th>\n",
       "      <td>NaN</td>\n",
       "      <td>NaN</td>\n",
       "      <td>NaN</td>\n",
       "      <td>NaN</td>\n",
       "      <td>562.531131</td>\n",
       "    </tr>\n",
       "    <tr>\n",
       "      <th>1961-10-01</th>\n",
       "      <td>NaN</td>\n",
       "      <td>NaN</td>\n",
       "      <td>NaN</td>\n",
       "      <td>NaN</td>\n",
       "      <td>509.492324</td>\n",
       "    </tr>\n",
       "    <tr>\n",
       "      <th>1961-11-01</th>\n",
       "      <td>NaN</td>\n",
       "      <td>NaN</td>\n",
       "      <td>NaN</td>\n",
       "      <td>NaN</td>\n",
       "      <td>464.158341</td>\n",
       "    </tr>\n",
       "    <tr>\n",
       "      <th>1961-12-01</th>\n",
       "      <td>NaN</td>\n",
       "      <td>NaN</td>\n",
       "      <td>NaN</td>\n",
       "      <td>NaN</td>\n",
       "      <td>505.996920</td>\n",
       "    </tr>\n",
       "    <tr>\n",
       "      <th>1962-01-01</th>\n",
       "      <td>NaN</td>\n",
       "      <td>NaN</td>\n",
       "      <td>NaN</td>\n",
       "      <td>NaN</td>\n",
       "      <td>519.327651</td>\n",
       "    </tr>\n",
       "    <tr>\n",
       "      <th>1962-02-01</th>\n",
       "      <td>NaN</td>\n",
       "      <td>NaN</td>\n",
       "      <td>NaN</td>\n",
       "      <td>NaN</td>\n",
       "      <td>494.023109</td>\n",
       "    </tr>\n",
       "    <tr>\n",
       "      <th>1962-03-01</th>\n",
       "      <td>NaN</td>\n",
       "      <td>NaN</td>\n",
       "      <td>NaN</td>\n",
       "      <td>NaN</td>\n",
       "      <td>525.098695</td>\n",
       "    </tr>\n",
       "    <tr>\n",
       "      <th>1962-04-01</th>\n",
       "      <td>NaN</td>\n",
       "      <td>NaN</td>\n",
       "      <td>NaN</td>\n",
       "      <td>NaN</td>\n",
       "      <td>563.882432</td>\n",
       "    </tr>\n",
       "    <tr>\n",
       "      <th>1962-05-01</th>\n",
       "      <td>NaN</td>\n",
       "      <td>NaN</td>\n",
       "      <td>NaN</td>\n",
       "      <td>NaN</td>\n",
       "      <td>575.878614</td>\n",
       "    </tr>\n",
       "    <tr>\n",
       "      <th>1962-06-01</th>\n",
       "      <td>NaN</td>\n",
       "      <td>NaN</td>\n",
       "      <td>NaN</td>\n",
       "      <td>NaN</td>\n",
       "      <td>637.588401</td>\n",
       "    </tr>\n",
       "    <tr>\n",
       "      <th>1962-07-01</th>\n",
       "      <td>NaN</td>\n",
       "      <td>NaN</td>\n",
       "      <td>NaN</td>\n",
       "      <td>NaN</td>\n",
       "      <td>724.310891</td>\n",
       "    </tr>\n",
       "    <tr>\n",
       "      <th>1962-08-01</th>\n",
       "      <td>NaN</td>\n",
       "      <td>NaN</td>\n",
       "      <td>NaN</td>\n",
       "      <td>NaN</td>\n",
       "      <td>709.884551</td>\n",
       "    </tr>\n",
       "    <tr>\n",
       "      <th>1962-09-01</th>\n",
       "      <td>NaN</td>\n",
       "      <td>NaN</td>\n",
       "      <td>NaN</td>\n",
       "      <td>NaN</td>\n",
       "      <td>612.552252</td>\n",
       "    </tr>\n",
       "    <tr>\n",
       "      <th>1962-10-01</th>\n",
       "      <td>NaN</td>\n",
       "      <td>NaN</td>\n",
       "      <td>NaN</td>\n",
       "      <td>NaN</td>\n",
       "      <td>560.530934</td>\n",
       "    </tr>\n",
       "    <tr>\n",
       "      <th>1962-11-01</th>\n",
       "      <td>NaN</td>\n",
       "      <td>NaN</td>\n",
       "      <td>NaN</td>\n",
       "      <td>NaN</td>\n",
       "      <td>514.945640</td>\n",
       "    </tr>\n",
       "    <tr>\n",
       "      <th>1962-12-01</th>\n",
       "      <td>NaN</td>\n",
       "      <td>NaN</td>\n",
       "      <td>NaN</td>\n",
       "      <td>NaN</td>\n",
       "      <td>555.910291</td>\n",
       "    </tr>\n",
       "    <tr>\n",
       "      <th>1963-01-01</th>\n",
       "      <td>NaN</td>\n",
       "      <td>NaN</td>\n",
       "      <td>NaN</td>\n",
       "      <td>NaN</td>\n",
       "      <td>570.242350</td>\n",
       "    </tr>\n",
       "    <tr>\n",
       "      <th>1963-02-01</th>\n",
       "      <td>NaN</td>\n",
       "      <td>NaN</td>\n",
       "      <td>NaN</td>\n",
       "      <td>NaN</td>\n",
       "      <td>545.461115</td>\n",
       "    </tr>\n",
       "    <tr>\n",
       "      <th>1963-03-01</th>\n",
       "      <td>NaN</td>\n",
       "      <td>NaN</td>\n",
       "      <td>NaN</td>\n",
       "      <td>NaN</td>\n",
       "      <td>578.850969</td>\n",
       "    </tr>\n",
       "    <tr>\n",
       "      <th>1963-04-01</th>\n",
       "      <td>NaN</td>\n",
       "      <td>NaN</td>\n",
       "      <td>NaN</td>\n",
       "      <td>NaN</td>\n",
       "      <td>615.214584</td>\n",
       "    </tr>\n",
       "    <tr>\n",
       "      <th>1963-05-01</th>\n",
       "      <td>NaN</td>\n",
       "      <td>NaN</td>\n",
       "      <td>NaN</td>\n",
       "      <td>NaN</td>\n",
       "      <td>627.960356</td>\n",
       "    </tr>\n",
       "    <tr>\n",
       "      <th>1963-06-01</th>\n",
       "      <td>NaN</td>\n",
       "      <td>NaN</td>\n",
       "      <td>NaN</td>\n",
       "      <td>NaN</td>\n",
       "      <td>688.699305</td>\n",
       "    </tr>\n",
       "    <tr>\n",
       "      <th>1963-07-01</th>\n",
       "      <td>NaN</td>\n",
       "      <td>NaN</td>\n",
       "      <td>NaN</td>\n",
       "      <td>NaN</td>\n",
       "      <td>775.212979</td>\n",
       "    </tr>\n",
       "    <tr>\n",
       "      <th>1963-08-01</th>\n",
       "      <td>NaN</td>\n",
       "      <td>NaN</td>\n",
       "      <td>NaN</td>\n",
       "      <td>NaN</td>\n",
       "      <td>761.970761</td>\n",
       "    </tr>\n",
       "    <tr>\n",
       "      <th>1963-09-01</th>\n",
       "      <td>NaN</td>\n",
       "      <td>NaN</td>\n",
       "      <td>NaN</td>\n",
       "      <td>NaN</td>\n",
       "      <td>665.140884</td>\n",
       "    </tr>\n",
       "    <tr>\n",
       "      <th>1963-10-01</th>\n",
       "      <td>NaN</td>\n",
       "      <td>NaN</td>\n",
       "      <td>NaN</td>\n",
       "      <td>NaN</td>\n",
       "      <td>612.540318</td>\n",
       "    </tr>\n",
       "    <tr>\n",
       "      <th>1963-11-01</th>\n",
       "      <td>NaN</td>\n",
       "      <td>NaN</td>\n",
       "      <td>NaN</td>\n",
       "      <td>NaN</td>\n",
       "      <td>567.098093</td>\n",
       "    </tr>\n",
       "    <tr>\n",
       "      <th>1963-12-01</th>\n",
       "      <td>NaN</td>\n",
       "      <td>NaN</td>\n",
       "      <td>NaN</td>\n",
       "      <td>NaN</td>\n",
       "      <td>608.560264</td>\n",
       "    </tr>\n",
       "    <tr>\n",
       "      <th>1964-01-01</th>\n",
       "      <td>NaN</td>\n",
       "      <td>NaN</td>\n",
       "      <td>NaN</td>\n",
       "      <td>NaN</td>\n",
       "      <td>622.322275</td>\n",
       "    </tr>\n",
       "    <tr>\n",
       "      <th>1964-02-01</th>\n",
       "      <td>NaN</td>\n",
       "      <td>NaN</td>\n",
       "      <td>NaN</td>\n",
       "      <td>NaN</td>\n",
       "      <td>597.243126</td>\n",
       "    </tr>\n",
       "    <tr>\n",
       "      <th>1964-03-01</th>\n",
       "      <td>NaN</td>\n",
       "      <td>NaN</td>\n",
       "      <td>NaN</td>\n",
       "      <td>NaN</td>\n",
       "      <td>629.315487</td>\n",
       "    </tr>\n",
       "    <tr>\n",
       "      <th>1964-04-01</th>\n",
       "      <td>NaN</td>\n",
       "      <td>NaN</td>\n",
       "      <td>NaN</td>\n",
       "      <td>NaN</td>\n",
       "      <td>667.056857</td>\n",
       "    </tr>\n",
       "    <tr>\n",
       "      <th>1964-05-01</th>\n",
       "      <td>NaN</td>\n",
       "      <td>NaN</td>\n",
       "      <td>NaN</td>\n",
       "      <td>NaN</td>\n",
       "      <td>679.375893</td>\n",
       "    </tr>\n",
       "    <tr>\n",
       "      <th>1964-06-01</th>\n",
       "      <td>NaN</td>\n",
       "      <td>NaN</td>\n",
       "      <td>NaN</td>\n",
       "      <td>NaN</td>\n",
       "      <td>740.667532</td>\n",
       "    </tr>\n",
       "    <tr>\n",
       "      <th>1964-07-01</th>\n",
       "      <td>NaN</td>\n",
       "      <td>NaN</td>\n",
       "      <td>NaN</td>\n",
       "      <td>NaN</td>\n",
       "      <td>827.300083</td>\n",
       "    </tr>\n",
       "    <tr>\n",
       "      <th>1964-08-01</th>\n",
       "      <td>NaN</td>\n",
       "      <td>NaN</td>\n",
       "      <td>NaN</td>\n",
       "      <td>NaN</td>\n",
       "      <td>813.383755</td>\n",
       "    </tr>\n",
       "    <tr>\n",
       "      <th>1964-09-01</th>\n",
       "      <td>NaN</td>\n",
       "      <td>NaN</td>\n",
       "      <td>NaN</td>\n",
       "      <td>NaN</td>\n",
       "      <td>716.267853</td>\n",
       "    </tr>\n",
       "    <tr>\n",
       "      <th>1964-10-01</th>\n",
       "      <td>NaN</td>\n",
       "      <td>NaN</td>\n",
       "      <td>NaN</td>\n",
       "      <td>NaN</td>\n",
       "      <td>663.997048</td>\n",
       "    </tr>\n",
       "    <tr>\n",
       "      <th>1964-11-01</th>\n",
       "      <td>NaN</td>\n",
       "      <td>NaN</td>\n",
       "      <td>NaN</td>\n",
       "      <td>NaN</td>\n",
       "      <td>618.473375</td>\n",
       "    </tr>\n",
       "    <tr>\n",
       "      <th>1964-12-01</th>\n",
       "      <td>NaN</td>\n",
       "      <td>NaN</td>\n",
       "      <td>NaN</td>\n",
       "      <td>NaN</td>\n",
       "      <td>659.652312</td>\n",
       "    </tr>\n",
       "    <tr>\n",
       "      <th>1965-01-01</th>\n",
       "      <td>NaN</td>\n",
       "      <td>NaN</td>\n",
       "      <td>NaN</td>\n",
       "      <td>NaN</td>\n",
       "      <td>673.738847</td>\n",
       "    </tr>\n",
       "    <tr>\n",
       "      <th>1965-02-01</th>\n",
       "      <td>NaN</td>\n",
       "      <td>NaN</td>\n",
       "      <td>NaN</td>\n",
       "      <td>NaN</td>\n",
       "      <td>648.829298</td>\n",
       "    </tr>\n",
       "    <tr>\n",
       "      <th>1965-03-01</th>\n",
       "      <td>NaN</td>\n",
       "      <td>NaN</td>\n",
       "      <td>NaN</td>\n",
       "      <td>NaN</td>\n",
       "      <td>681.651696</td>\n",
       "    </tr>\n",
       "    <tr>\n",
       "      <th>1965-04-01</th>\n",
       "      <td>NaN</td>\n",
       "      <td>NaN</td>\n",
       "      <td>NaN</td>\n",
       "      <td>NaN</td>\n",
       "      <td>718.608722</td>\n",
       "    </tr>\n",
       "    <tr>\n",
       "      <th>1965-05-01</th>\n",
       "      <td>NaN</td>\n",
       "      <td>NaN</td>\n",
       "      <td>NaN</td>\n",
       "      <td>NaN</td>\n",
       "      <td>731.170695</td>\n",
       "    </tr>\n",
       "    <tr>\n",
       "      <th>1965-06-01</th>\n",
       "      <td>NaN</td>\n",
       "      <td>NaN</td>\n",
       "      <td>NaN</td>\n",
       "      <td>NaN</td>\n",
       "      <td>792.147693</td>\n",
       "    </tr>\n",
       "    <tr>\n",
       "      <th>1965-07-01</th>\n",
       "      <td>NaN</td>\n",
       "      <td>NaN</td>\n",
       "      <td>NaN</td>\n",
       "      <td>NaN</td>\n",
       "      <td>878.712568</td>\n",
       "    </tr>\n",
       "    <tr>\n",
       "      <th>1965-08-01</th>\n",
       "      <td>NaN</td>\n",
       "      <td>NaN</td>\n",
       "      <td>NaN</td>\n",
       "      <td>NaN</td>\n",
       "      <td>865.180005</td>\n",
       "    </tr>\n",
       "    <tr>\n",
       "      <th>1965-09-01</th>\n",
       "      <td>NaN</td>\n",
       "      <td>NaN</td>\n",
       "      <td>NaN</td>\n",
       "      <td>NaN</td>\n",
       "      <td>768.226935</td>\n",
       "    </tr>\n",
       "    <tr>\n",
       "      <th>1965-10-01</th>\n",
       "      <td>NaN</td>\n",
       "      <td>NaN</td>\n",
       "      <td>NaN</td>\n",
       "      <td>NaN</td>\n",
       "      <td>715.768399</td>\n",
       "    </tr>\n",
       "    <tr>\n",
       "      <th>1965-11-01</th>\n",
       "      <td>NaN</td>\n",
       "      <td>NaN</td>\n",
       "      <td>NaN</td>\n",
       "      <td>NaN</td>\n",
       "      <td>670.291094</td>\n",
       "    </tr>\n",
       "    <tr>\n",
       "      <th>1965-12-01</th>\n",
       "      <td>NaN</td>\n",
       "      <td>NaN</td>\n",
       "      <td>NaN</td>\n",
       "      <td>NaN</td>\n",
       "      <td>711.631274</td>\n",
       "    </tr>\n",
       "  </tbody>\n",
       "</table>\n",
       "</div>"
      ],
      "text/plain": [
       "            Pax 1st Diff 2nd Diff Seasonality    Forecast\n",
       "1961-01-01  NaN      NaN      NaN         NaN  466.366152\n",
       "1961-02-01  NaN      NaN      NaN         NaN  441.980835\n",
       "1961-03-01  NaN      NaN      NaN         NaN  477.121593\n",
       "1961-04-01  NaN      NaN      NaN         NaN  511.654217\n",
       "1961-05-01  NaN      NaN      NaN         NaN  524.967107\n",
       "1961-06-01  NaN      NaN      NaN         NaN  584.971549\n",
       "1961-07-01  NaN      NaN      NaN         NaN  671.327239\n",
       "1961-08-01  NaN      NaN      NaN         NaN  658.980891\n",
       "1961-09-01  NaN      NaN      NaN         NaN  562.531131\n",
       "1961-10-01  NaN      NaN      NaN         NaN  509.492324\n",
       "1961-11-01  NaN      NaN      NaN         NaN  464.158341\n",
       "1961-12-01  NaN      NaN      NaN         NaN  505.996920\n",
       "1962-01-01  NaN      NaN      NaN         NaN  519.327651\n",
       "1962-02-01  NaN      NaN      NaN         NaN  494.023109\n",
       "1962-03-01  NaN      NaN      NaN         NaN  525.098695\n",
       "1962-04-01  NaN      NaN      NaN         NaN  563.882432\n",
       "1962-05-01  NaN      NaN      NaN         NaN  575.878614\n",
       "1962-06-01  NaN      NaN      NaN         NaN  637.588401\n",
       "1962-07-01  NaN      NaN      NaN         NaN  724.310891\n",
       "1962-08-01  NaN      NaN      NaN         NaN  709.884551\n",
       "1962-09-01  NaN      NaN      NaN         NaN  612.552252\n",
       "1962-10-01  NaN      NaN      NaN         NaN  560.530934\n",
       "1962-11-01  NaN      NaN      NaN         NaN  514.945640\n",
       "1962-12-01  NaN      NaN      NaN         NaN  555.910291\n",
       "1963-01-01  NaN      NaN      NaN         NaN  570.242350\n",
       "1963-02-01  NaN      NaN      NaN         NaN  545.461115\n",
       "1963-03-01  NaN      NaN      NaN         NaN  578.850969\n",
       "1963-04-01  NaN      NaN      NaN         NaN  615.214584\n",
       "1963-05-01  NaN      NaN      NaN         NaN  627.960356\n",
       "1963-06-01  NaN      NaN      NaN         NaN  688.699305\n",
       "1963-07-01  NaN      NaN      NaN         NaN  775.212979\n",
       "1963-08-01  NaN      NaN      NaN         NaN  761.970761\n",
       "1963-09-01  NaN      NaN      NaN         NaN  665.140884\n",
       "1963-10-01  NaN      NaN      NaN         NaN  612.540318\n",
       "1963-11-01  NaN      NaN      NaN         NaN  567.098093\n",
       "1963-12-01  NaN      NaN      NaN         NaN  608.560264\n",
       "1964-01-01  NaN      NaN      NaN         NaN  622.322275\n",
       "1964-02-01  NaN      NaN      NaN         NaN  597.243126\n",
       "1964-03-01  NaN      NaN      NaN         NaN  629.315487\n",
       "1964-04-01  NaN      NaN      NaN         NaN  667.056857\n",
       "1964-05-01  NaN      NaN      NaN         NaN  679.375893\n",
       "1964-06-01  NaN      NaN      NaN         NaN  740.667532\n",
       "1964-07-01  NaN      NaN      NaN         NaN  827.300083\n",
       "1964-08-01  NaN      NaN      NaN         NaN  813.383755\n",
       "1964-09-01  NaN      NaN      NaN         NaN  716.267853\n",
       "1964-10-01  NaN      NaN      NaN         NaN  663.997048\n",
       "1964-11-01  NaN      NaN      NaN         NaN  618.473375\n",
       "1964-12-01  NaN      NaN      NaN         NaN  659.652312\n",
       "1965-01-01  NaN      NaN      NaN         NaN  673.738847\n",
       "1965-02-01  NaN      NaN      NaN         NaN  648.829298\n",
       "1965-03-01  NaN      NaN      NaN         NaN  681.651696\n",
       "1965-04-01  NaN      NaN      NaN         NaN  718.608722\n",
       "1965-05-01  NaN      NaN      NaN         NaN  731.170695\n",
       "1965-06-01  NaN      NaN      NaN         NaN  792.147693\n",
       "1965-07-01  NaN      NaN      NaN         NaN  878.712568\n",
       "1965-08-01  NaN      NaN      NaN         NaN  865.180005\n",
       "1965-09-01  NaN      NaN      NaN         NaN  768.226935\n",
       "1965-10-01  NaN      NaN      NaN         NaN  715.768399\n",
       "1965-11-01  NaN      NaN      NaN         NaN  670.291094\n",
       "1965-12-01  NaN      NaN      NaN         NaN  711.631274"
      ]
     },
     "execution_count": 167,
     "metadata": {},
     "output_type": "execute_result"
    }
   ],
   "source": [
    "future_pred.tail(60)"
   ]
  },
  {
   "cell_type": "code",
   "execution_count": 168,
   "id": "2265b74a",
   "metadata": {},
   "outputs": [],
   "source": [
    "future_pred.to_csv(\"Forecasting.csv\")"
   ]
  },
  {
   "cell_type": "markdown",
   "id": "742a8de6",
   "metadata": {},
   "source": [
    "# DONE"
   ]
  }
 ],
 "metadata": {
  "kernelspec": {
   "display_name": "Python 3 (ipykernel)",
   "language": "python",
   "name": "python3"
  },
  "language_info": {
   "codemirror_mode": {
    "name": "ipython",
    "version": 3
   },
   "file_extension": ".py",
   "mimetype": "text/x-python",
   "name": "python",
   "nbconvert_exporter": "python",
   "pygments_lexer": "ipython3",
   "version": "3.9.12"
  }
 },
 "nbformat": 4,
 "nbformat_minor": 5
}
