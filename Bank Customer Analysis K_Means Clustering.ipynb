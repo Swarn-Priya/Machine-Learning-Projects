{
 "cells": [
  {
   "cell_type": "code",
   "execution_count": 35,
   "id": "e6f4940b",
   "metadata": {},
   "outputs": [],
   "source": [
    "import os,sys\n",
    "import numpy as np\n",
    "import pandas as pd\n",
    "import matplotlib.pyplot as plt\n",
    "%matplotlib inline\n",
    "import seaborn as sns\n",
    "sns.set()\n",
    "import warnings\n",
    "warnings.filterwarnings('ignore')"
   ]
  },
  {
   "cell_type": "code",
   "execution_count": 36,
   "id": "b3365faa",
   "metadata": {},
   "outputs": [
    {
     "data": {
      "text/html": [
       "<div>\n",
       "<style scoped>\n",
       "    .dataframe tbody tr th:only-of-type {\n",
       "        vertical-align: middle;\n",
       "    }\n",
       "\n",
       "    .dataframe tbody tr th {\n",
       "        vertical-align: top;\n",
       "    }\n",
       "\n",
       "    .dataframe thead th {\n",
       "        text-align: right;\n",
       "    }\n",
       "</style>\n",
       "<table border=\"1\" class=\"dataframe\">\n",
       "  <thead>\n",
       "    <tr style=\"text-align: right;\">\n",
       "      <th></th>\n",
       "      <th>Bank</th>\n",
       "      <th>DD</th>\n",
       "      <th>Withdrawals</th>\n",
       "      <th>Deposits</th>\n",
       "      <th>Branch Area in sqft</th>\n",
       "      <th>avg daily walkins</th>\n",
       "    </tr>\n",
       "  </thead>\n",
       "  <tbody>\n",
       "    <tr>\n",
       "      <th>0</th>\n",
       "      <td>1</td>\n",
       "      <td>227</td>\n",
       "      <td>147</td>\n",
       "      <td>111</td>\n",
       "      <td>2460</td>\n",
       "      <td>639</td>\n",
       "    </tr>\n",
       "    <tr>\n",
       "      <th>1</th>\n",
       "      <td>2</td>\n",
       "      <td>123</td>\n",
       "      <td>86</td>\n",
       "      <td>65</td>\n",
       "      <td>3510</td>\n",
       "      <td>436</td>\n",
       "    </tr>\n",
       "    <tr>\n",
       "      <th>2</th>\n",
       "      <td>3</td>\n",
       "      <td>306</td>\n",
       "      <td>149</td>\n",
       "      <td>76</td>\n",
       "      <td>2570</td>\n",
       "      <td>669</td>\n",
       "    </tr>\n",
       "  </tbody>\n",
       "</table>\n",
       "</div>"
      ],
      "text/plain": [
       "   Bank   DD  Withdrawals  Deposits  Branch Area in sqft  avg daily walkins\n",
       "0     1  227          147       111                 2460                639\n",
       "1     2  123           86        65                 3510                436\n",
       "2     3  306          149        76                 2570                669"
      ]
     },
     "execution_count": 36,
     "metadata": {},
     "output_type": "execute_result"
    }
   ],
   "source": [
    "df = pd.read_csv(\"E:\\\\LEARNBAY\\\\Projects\\\\April\\\\bank.csv\")\n",
    "df.head(3)"
   ]
  },
  {
   "cell_type": "code",
   "execution_count": 37,
   "id": "f25bbce8",
   "metadata": {},
   "outputs": [
    {
     "data": {
      "text/plain": [
       "Bank                   0\n",
       "DD                     0\n",
       "Withdrawals            0\n",
       "Deposits               0\n",
       "Branch Area in sqft    0\n",
       "avg daily walkins      0\n",
       "dtype: int64"
      ]
     },
     "execution_count": 37,
     "metadata": {},
     "output_type": "execute_result"
    }
   ],
   "source": [
    "df.isnull().sum()"
   ]
  },
  {
   "cell_type": "code",
   "execution_count": 38,
   "id": "57ab00d5",
   "metadata": {},
   "outputs": [
    {
     "data": {
      "text/html": [
       "<div>\n",
       "<style scoped>\n",
       "    .dataframe tbody tr th:only-of-type {\n",
       "        vertical-align: middle;\n",
       "    }\n",
       "\n",
       "    .dataframe tbody tr th {\n",
       "        vertical-align: top;\n",
       "    }\n",
       "\n",
       "    .dataframe thead th {\n",
       "        text-align: right;\n",
       "    }\n",
       "</style>\n",
       "<table border=\"1\" class=\"dataframe\">\n",
       "  <thead>\n",
       "    <tr style=\"text-align: right;\">\n",
       "      <th></th>\n",
       "      <th>Bank</th>\n",
       "      <th>DD</th>\n",
       "      <th>Withdrawals</th>\n",
       "      <th>Deposits</th>\n",
       "      <th>Branch Area in sqft</th>\n",
       "      <th>avg daily walkins</th>\n",
       "    </tr>\n",
       "  </thead>\n",
       "  <tbody>\n",
       "    <tr>\n",
       "      <th>count</th>\n",
       "      <td>515.000000</td>\n",
       "      <td>515.000000</td>\n",
       "      <td>515.000000</td>\n",
       "      <td>515.000000</td>\n",
       "      <td>515.000000</td>\n",
       "      <td>515.000000</td>\n",
       "    </tr>\n",
       "    <tr>\n",
       "      <th>mean</th>\n",
       "      <td>258.000000</td>\n",
       "      <td>232.252427</td>\n",
       "      <td>150.693204</td>\n",
       "      <td>81.687379</td>\n",
       "      <td>2934.669903</td>\n",
       "      <td>598.603883</td>\n",
       "    </tr>\n",
       "    <tr>\n",
       "      <th>std</th>\n",
       "      <td>148.811962</td>\n",
       "      <td>66.648815</td>\n",
       "      <td>56.897777</td>\n",
       "      <td>28.596912</td>\n",
       "      <td>437.062831</td>\n",
       "      <td>83.487891</td>\n",
       "    </tr>\n",
       "    <tr>\n",
       "      <th>min</th>\n",
       "      <td>1.000000</td>\n",
       "      <td>120.000000</td>\n",
       "      <td>10.000000</td>\n",
       "      <td>33.000000</td>\n",
       "      <td>1200.000000</td>\n",
       "      <td>380.000000</td>\n",
       "    </tr>\n",
       "    <tr>\n",
       "      <th>25%</th>\n",
       "      <td>129.500000</td>\n",
       "      <td>169.500000</td>\n",
       "      <td>103.000000</td>\n",
       "      <td>58.000000</td>\n",
       "      <td>2675.000000</td>\n",
       "      <td>537.500000</td>\n",
       "    </tr>\n",
       "    <tr>\n",
       "      <th>50%</th>\n",
       "      <td>258.000000</td>\n",
       "      <td>237.000000</td>\n",
       "      <td>152.000000</td>\n",
       "      <td>80.000000</td>\n",
       "      <td>2960.000000</td>\n",
       "      <td>601.000000</td>\n",
       "    </tr>\n",
       "    <tr>\n",
       "      <th>75%</th>\n",
       "      <td>386.500000</td>\n",
       "      <td>291.000000</td>\n",
       "      <td>200.000000</td>\n",
       "      <td>105.000000</td>\n",
       "      <td>3300.000000</td>\n",
       "      <td>657.500000</td>\n",
       "    </tr>\n",
       "    <tr>\n",
       "      <th>max</th>\n",
       "      <td>515.000000</td>\n",
       "      <td>350.000000</td>\n",
       "      <td>247.000000</td>\n",
       "      <td>212.000000</td>\n",
       "      <td>3650.000000</td>\n",
       "      <td>838.000000</td>\n",
       "    </tr>\n",
       "  </tbody>\n",
       "</table>\n",
       "</div>"
      ],
      "text/plain": [
       "             Bank          DD  Withdrawals    Deposits  Branch Area in sqft  \\\n",
       "count  515.000000  515.000000   515.000000  515.000000           515.000000   \n",
       "mean   258.000000  232.252427   150.693204   81.687379          2934.669903   \n",
       "std    148.811962   66.648815    56.897777   28.596912           437.062831   \n",
       "min      1.000000  120.000000    10.000000   33.000000          1200.000000   \n",
       "25%    129.500000  169.500000   103.000000   58.000000          2675.000000   \n",
       "50%    258.000000  237.000000   152.000000   80.000000          2960.000000   \n",
       "75%    386.500000  291.000000   200.000000  105.000000          3300.000000   \n",
       "max    515.000000  350.000000   247.000000  212.000000          3650.000000   \n",
       "\n",
       "       avg daily walkins  \n",
       "count         515.000000  \n",
       "mean          598.603883  \n",
       "std            83.487891  \n",
       "min           380.000000  \n",
       "25%           537.500000  \n",
       "50%           601.000000  \n",
       "75%           657.500000  \n",
       "max           838.000000  "
      ]
     },
     "execution_count": 38,
     "metadata": {},
     "output_type": "execute_result"
    }
   ],
   "source": [
    "df.describe()"
   ]
  },
  {
   "cell_type": "code",
   "execution_count": 39,
   "id": "d95fa515",
   "metadata": {},
   "outputs": [],
   "source": [
    "#Feature SClaing\n",
    "\n",
    "from sklearn.preprocessing import StandardScaler\n",
    "\n",
    "sc= StandardScaler()\n",
    "xsc = pd.DataFrame(sc.fit_transform(df.iloc[:,1:6]),columns = df.columns[1:])"
   ]
  },
  {
   "cell_type": "code",
   "execution_count": 40,
   "id": "9be9423f",
   "metadata": {},
   "outputs": [
    {
     "data": {
      "text/html": [
       "<div>\n",
       "<style scoped>\n",
       "    .dataframe tbody tr th:only-of-type {\n",
       "        vertical-align: middle;\n",
       "    }\n",
       "\n",
       "    .dataframe tbody tr th {\n",
       "        vertical-align: top;\n",
       "    }\n",
       "\n",
       "    .dataframe thead th {\n",
       "        text-align: right;\n",
       "    }\n",
       "</style>\n",
       "<table border=\"1\" class=\"dataframe\">\n",
       "  <thead>\n",
       "    <tr style=\"text-align: right;\">\n",
       "      <th></th>\n",
       "      <th>DD</th>\n",
       "      <th>Withdrawals</th>\n",
       "      <th>Deposits</th>\n",
       "      <th>Branch Area in sqft</th>\n",
       "      <th>avg daily walkins</th>\n",
       "    </tr>\n",
       "  </thead>\n",
       "  <tbody>\n",
       "    <tr>\n",
       "      <th>0</th>\n",
       "      <td>-0.078884</td>\n",
       "      <td>-0.064973</td>\n",
       "      <td>1.026024</td>\n",
       "      <td>-1.087101</td>\n",
       "      <td>0.484326</td>\n",
       "    </tr>\n",
       "  </tbody>\n",
       "</table>\n",
       "</div>"
      ],
      "text/plain": [
       "         DD  Withdrawals  Deposits  Branch Area in sqft  avg daily walkins\n",
       "0 -0.078884    -0.064973  1.026024            -1.087101           0.484326"
      ]
     },
     "execution_count": 40,
     "metadata": {},
     "output_type": "execute_result"
    }
   ],
   "source": [
    "xsc.head(1)"
   ]
  },
  {
   "cell_type": "code",
   "execution_count": 41,
   "id": "ec214c18",
   "metadata": {},
   "outputs": [],
   "source": [
    "from sklearn.cluster import KMeans"
   ]
  },
  {
   "cell_type": "code",
   "execution_count": 42,
   "id": "1a195879",
   "metadata": {},
   "outputs": [],
   "source": [
    "wcss = []\n",
    "\n",
    "for i in range(2,15):\n",
    "    kmeans =KMeans(n_clusters =i,random_state=1)\n",
    "    kmeans.fit(xsc)\n",
    "    wcss.append(kmeans.inertia_)"
   ]
  },
  {
   "cell_type": "code",
   "execution_count": 43,
   "id": "e6eb07f3",
   "metadata": {},
   "outputs": [
    {
     "data": {
      "text/plain": [
       "13"
      ]
     },
     "execution_count": 43,
     "metadata": {},
     "output_type": "execute_result"
    }
   ],
   "source": [
    "len(wcss)"
   ]
  },
  {
   "cell_type": "code",
   "execution_count": 44,
   "id": "2b1412d1",
   "metadata": {},
   "outputs": [],
   "source": [
    "abc=[1,2,3,4,5,6,7,8,9,10,11,12,13]"
   ]
  },
  {
   "cell_type": "code",
   "execution_count": 45,
   "id": "88e20a47",
   "metadata": {},
   "outputs": [
    {
     "data": {
      "text/plain": [
       "<AxesSubplot:>"
      ]
     },
     "execution_count": 45,
     "metadata": {},
     "output_type": "execute_result"
    },
    {
     "data": {
      "image/png": "[encoded data removed]",
      "text/plain": [
       "<Figure size 432x288 with 1 Axes>"
      ]
     },
     "metadata": {},
     "output_type": "display_data"
    }
   ],
   "source": [
    "sns.pointplot(abc,wcss)"
   ]
  },
  {
   "cell_type": "code",
   "execution_count": 46,
   "id": "e1d4b498",
   "metadata": {},
   "outputs": [
    {
     "data": {
      "text/plain": [
       "KMeans(n_clusters=6, random_state=1)"
      ]
     },
     "execution_count": 46,
     "metadata": {},
     "output_type": "execute_result"
    }
   ],
   "source": [
    "kmeans = KMeans(n_clusters=6,random_state=1)\n",
    "kmeans.fit(xsc)"
   ]
  },
  {
   "cell_type": "code",
   "execution_count": 47,
   "id": "96cac464",
   "metadata": {},
   "outputs": [],
   "source": [
    "y_cluster = kmeans.fit_predict(xsc)"
   ]
  },
  {
   "cell_type": "code",
   "execution_count": 48,
   "id": "c16a8f8f",
   "metadata": {},
   "outputs": [
    {
     "data": {
      "text/plain": [
       "array([5, 0, 4, 2, 5, 3, 0, 3, 4, 1, 3, 5, 1, 2, 2, 1, 3, 2, 3, 2, 0, 0,\n",
       "       3, 4, 2, 2, 5, 0, 5, 4, 1, 4, 5, 5, 2, 5, 3, 1, 4, 3, 0, 1, 2, 3,\n",
       "       3, 5, 4, 2, 3, 5, 0, 1, 5, 4, 0, 4, 3, 2, 5, 2, 2, 2, 2, 5, 5, 0,\n",
       "       5, 3, 0, 1, 3, 4, 5, 5, 1, 2, 2, 0, 2, 4, 1, 3, 2, 0, 1, 5, 1, 5,\n",
       "       0, 2, 2, 1, 4, 5, 5, 3, 3, 4, 0, 5, 5, 3, 2, 5, 4, 5, 5, 3, 4, 2,\n",
       "       5, 0, 1, 2, 5, 3, 2, 2, 2, 1, 2, 3, 1, 5, 5, 0, 2, 3, 2, 2, 0, 2,\n",
       "       2, 1, 4, 5, 0, 3, 4, 5, 1, 3, 2, 4, 4, 0, 4, 2, 4, 5, 0, 4, 1, 1,\n",
       "       5, 3, 2, 2, 3, 5, 3, 4, 5, 4, 4, 2, 0, 0, 4, 2, 2, 2, 1, 5, 3, 1,\n",
       "       0, 5, 4, 0, 0, 3, 3, 3, 5, 2, 1, 0, 2, 0, 5, 3, 3, 2, 4, 3, 0, 3,\n",
       "       5, 2, 0, 2, 2, 0, 1, 3, 3, 5, 5, 2, 2, 2, 2, 0, 2, 2, 5, 5, 2, 1,\n",
       "       1, 0, 2, 2, 4, 0, 5, 3, 1, 3, 1, 3, 5, 1, 0, 5, 5, 5, 5, 2, 1, 3,\n",
       "       4, 1, 4, 2, 5, 0, 5, 3, 3, 5, 3, 1, 2, 2, 0, 2, 5, 4, 4, 5, 2, 3,\n",
       "       3, 3, 0, 0, 4, 1, 1, 2, 5, 5, 5, 5, 3, 4, 4, 3, 5, 5, 5, 1, 5, 1,\n",
       "       5, 4, 1, 2, 2, 4, 2, 0, 2, 2, 4, 3, 5, 4, 4, 2, 2, 5, 5, 1, 4, 2,\n",
       "       2, 2, 4, 5, 3, 0, 1, 0, 0, 5, 4, 2, 2, 3, 2, 4, 3, 1, 3, 3, 0, 5,\n",
       "       4, 4, 5, 2, 1, 1, 2, 3, 0, 2, 3, 2, 4, 0, 0, 3, 5, 1, 3, 0, 3, 2,\n",
       "       0, 4, 3, 5, 2, 4, 0, 4, 4, 2, 4, 2, 1, 1, 1, 2, 3, 3, 0, 1, 2, 0,\n",
       "       3, 4, 2, 4, 4, 5, 3, 4, 4, 2, 2, 0, 2, 0, 1, 4, 2, 0, 3, 2, 1, 3,\n",
       "       0, 2, 1, 3, 3, 3, 4, 0, 3, 1, 3, 0, 2, 3, 5, 2, 1, 2, 0, 0, 2, 2,\n",
       "       3, 3, 4, 1, 4, 4, 2, 4, 4, 2, 2, 1, 3, 0, 3, 2, 2, 2, 3, 5, 2, 1,\n",
       "       3, 2, 2, 0, 1, 2, 2, 5, 4, 0, 5, 2, 2, 0, 2, 2, 0, 4, 4, 2, 0, 3,\n",
       "       5, 1, 1, 0, 1, 4, 2, 4, 3, 2, 3, 0, 0, 0, 5, 0, 0, 2, 2, 1, 1, 2,\n",
       "       1, 2, 2, 1, 3, 5, 3, 5, 2, 0, 0, 5, 4, 2, 0, 0, 0, 1, 3, 1, 2, 3,\n",
       "       0, 3, 3, 2, 1, 3, 2, 3, 1])"
      ]
     },
     "execution_count": 48,
     "metadata": {},
     "output_type": "execute_result"
    }
   ],
   "source": [
    "y_cluster"
   ]
  },
  {
   "cell_type": "code",
   "execution_count": 49,
   "id": "34d62782",
   "metadata": {},
   "outputs": [],
   "source": [
    "report = pd.concat([df,pd.DataFrame(y_cluster)],axis=1)"
   ]
  },
  {
   "cell_type": "code",
   "execution_count": 50,
   "id": "88357766",
   "metadata": {},
   "outputs": [],
   "source": [
    "final_report = report.to_csv(\"Bank_Cluster.csv\")"
   ]
  },
  {
   "cell_type": "markdown",
   "id": "7ec79b8b",
   "metadata": {},
   "source": [
    "# Done"
   ]
  }
 ],
 "metadata": {
  "kernelspec": {
   "display_name": "Python 3 (ipykernel)",
   "language": "python",
   "name": "python3"
  },
  "language_info": {
   "codemirror_mode": {
    "name": "ipython",
    "version": 3
   },
   "file_extension": ".py",
   "mimetype": "text/x-python",
   "name": "python",
   "nbconvert_exporter": "python",
   "pygments_lexer": "ipython3",
   "version": "3.9.12"
  }
 },
 "nbformat": 4,
 "nbformat_minor": 5
}
