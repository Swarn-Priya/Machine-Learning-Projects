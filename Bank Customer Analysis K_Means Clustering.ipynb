{
 "cells": [
  {
   "cell_type": "code",
   "execution_count": 2,
   "id": "e6f4940b",
   "metadata": {},
   "outputs": [],
   "source": [
    "import os,sys\n",
    "import numpy as np\n",
    "import pandas as pd\n",
    "import matplotlib.pyplot as plt\n",
    "%matplotlib inline\n",
    "import seaborn as sns\n",
    "sns.set()\n",
    "import warnings\n",
    "warnings.filterwarnings('ignore')"
   ]
  },
  {
   "cell_type": "code",
   "execution_count": 3,
   "id": "b3365faa",
   "metadata": {},
   "outputs": [
    {
     "data": {
      "text/html": [
       "<div>\n",
       "<style scoped>\n",
       "    .dataframe tbody tr th:only-of-type {\n",
       "        vertical-align: middle;\n",
       "    }\n",
       "\n",
       "    .dataframe tbody tr th {\n",
       "        vertical-align: top;\n",
       "    }\n",
       "\n",
       "    .dataframe thead th {\n",
       "        text-align: right;\n",
       "    }\n",
       "</style>\n",
       "<table border=\"1\" class=\"dataframe\">\n",
       "  <thead>\n",
       "    <tr style=\"text-align: right;\">\n",
       "      <th></th>\n",
       "      <th>Bank</th>\n",
       "      <th>DD</th>\n",
       "      <th>Withdrawals</th>\n",
       "      <th>Deposits</th>\n",
       "      <th>Branch Area in sqft</th>\n",
       "      <th>avg daily walkins</th>\n",
       "    </tr>\n",
       "  </thead>\n",
       "  <tbody>\n",
       "    <tr>\n",
       "      <th>0</th>\n",
       "      <td>1</td>\n",
       "      <td>227</td>\n",
       "      <td>147</td>\n",
       "      <td>111</td>\n",
       "      <td>2460</td>\n",
       "      <td>639</td>\n",
       "    </tr>\n",
       "    <tr>\n",
       "      <th>1</th>\n",
       "      <td>2</td>\n",
       "      <td>123</td>\n",
       "      <td>86</td>\n",
       "      <td>65</td>\n",
       "      <td>3510</td>\n",
       "      <td>436</td>\n",
       "    </tr>\n",
       "    <tr>\n",
       "      <th>2</th>\n",
       "      <td>3</td>\n",
       "      <td>306</td>\n",
       "      <td>149</td>\n",
       "      <td>76</td>\n",
       "      <td>2570</td>\n",
       "      <td>669</td>\n",
       "    </tr>\n",
       "  </tbody>\n",
       "</table>\n",
       "</div>"
      ],
      "text/plain": [
       "   Bank   DD  Withdrawals  Deposits  Branch Area in sqft  avg daily walkins\n",
       "0     1  227          147       111                 2460                639\n",
       "1     2  123           86        65                 3510                436\n",
       "2     3  306          149        76                 2570                669"
      ]
     },
     "execution_count": 3,
     "metadata": {},
     "output_type": "execute_result"
    }
   ],
   "source": [
    "df = pd.read_csv(\"E:\\\\LEARNBAY\\\\Projects\\\\April\\\\bank.csv\")\n",
    "df.head(3)"
   ]
  },
  {
   "cell_type": "code",
   "execution_count": 4,
   "id": "f25bbce8",
   "metadata": {},
   "outputs": [
    {
     "data": {
      "text/plain": [
       "Bank                   0\n",
       "DD                     0\n",
       "Withdrawals            0\n",
       "Deposits               0\n",
       "Branch Area in sqft    0\n",
       "avg daily walkins      0\n",
       "dtype: int64"
      ]
     },
     "execution_count": 4,
     "metadata": {},
     "output_type": "execute_result"
    }
   ],
   "source": [
    "df.isnull().sum()"
   ]
  },
  {
   "cell_type": "code",
   "execution_count": 5,
   "id": "57ab00d5",
   "metadata": {},
   "outputs": [
    {
     "data": {
      "text/html": [
       "<div>\n",
       "<style scoped>\n",
       "    .dataframe tbody tr th:only-of-type {\n",
       "        vertical-align: middle;\n",
       "    }\n",
       "\n",
       "    .dataframe tbody tr th {\n",
       "        vertical-align: top;\n",
       "    }\n",
       "\n",
       "    .dataframe thead th {\n",
       "        text-align: right;\n",
       "    }\n",
       "</style>\n",
       "<table border=\"1\" class=\"dataframe\">\n",
       "  <thead>\n",
       "    <tr style=\"text-align: right;\">\n",
       "      <th></th>\n",
       "      <th>Bank</th>\n",
       "      <th>DD</th>\n",
       "      <th>Withdrawals</th>\n",
       "      <th>Deposits</th>\n",
       "      <th>Branch Area in sqft</th>\n",
       "      <th>avg daily walkins</th>\n",
       "    </tr>\n",
       "  </thead>\n",
       "  <tbody>\n",
       "    <tr>\n",
       "      <th>count</th>\n",
       "      <td>515.000000</td>\n",
       "      <td>515.000000</td>\n",
       "      <td>515.000000</td>\n",
       "      <td>515.000000</td>\n",
       "      <td>515.000000</td>\n",
       "      <td>515.000000</td>\n",
       "    </tr>\n",
       "    <tr>\n",
       "      <th>mean</th>\n",
       "      <td>258.000000</td>\n",
       "      <td>232.252427</td>\n",
       "      <td>150.693204</td>\n",
       "      <td>81.687379</td>\n",
       "      <td>2934.669903</td>\n",
       "      <td>598.603883</td>\n",
       "    </tr>\n",
       "    <tr>\n",
       "      <th>std</th>\n",
       "      <td>148.811962</td>\n",
       "      <td>66.648815</td>\n",
       "      <td>56.897777</td>\n",
       "      <td>28.596912</td>\n",
       "      <td>437.062831</td>\n",
       "      <td>83.487891</td>\n",
       "    </tr>\n",
       "    <tr>\n",
       "      <th>min</th>\n",
       "      <td>1.000000</td>\n",
       "      <td>120.000000</td>\n",
       "      <td>10.000000</td>\n",
       "      <td>33.000000</td>\n",
       "      <td>1200.000000</td>\n",
       "      <td>380.000000</td>\n",
       "    </tr>\n",
       "    <tr>\n",
       "      <th>25%</th>\n",
       "      <td>129.500000</td>\n",
       "      <td>169.500000</td>\n",
       "      <td>103.000000</td>\n",
       "      <td>58.000000</td>\n",
       "      <td>2675.000000</td>\n",
       "      <td>537.500000</td>\n",
       "    </tr>\n",
       "    <tr>\n",
       "      <th>50%</th>\n",
       "      <td>258.000000</td>\n",
       "      <td>237.000000</td>\n",
       "      <td>152.000000</td>\n",
       "      <td>80.000000</td>\n",
       "      <td>2960.000000</td>\n",
       "      <td>601.000000</td>\n",
       "    </tr>\n",
       "    <tr>\n",
       "      <th>75%</th>\n",
       "      <td>386.500000</td>\n",
       "      <td>291.000000</td>\n",
       "      <td>200.000000</td>\n",
       "      <td>105.000000</td>\n",
       "      <td>3300.000000</td>\n",
       "      <td>657.500000</td>\n",
       "    </tr>\n",
       "    <tr>\n",
       "      <th>max</th>\n",
       "      <td>515.000000</td>\n",
       "      <td>350.000000</td>\n",
       "      <td>247.000000</td>\n",
       "      <td>212.000000</td>\n",
       "      <td>3650.000000</td>\n",
       "      <td>838.000000</td>\n",
       "    </tr>\n",
       "  </tbody>\n",
       "</table>\n",
       "</div>"
      ],
      "text/plain": [
       "             Bank          DD  Withdrawals    Deposits  Branch Area in sqft  \\\n",
       "count  515.000000  515.000000   515.000000  515.000000           515.000000   \n",
       "mean   258.000000  232.252427   150.693204   81.687379          2934.669903   \n",
       "std    148.811962   66.648815    56.897777   28.596912           437.062831   \n",
       "min      1.000000  120.000000    10.000000   33.000000          1200.000000   \n",
       "25%    129.500000  169.500000   103.000000   58.000000          2675.000000   \n",
       "50%    258.000000  237.000000   152.000000   80.000000          2960.000000   \n",
       "75%    386.500000  291.000000   200.000000  105.000000          3300.000000   \n",
       "max    515.000000  350.000000   247.000000  212.000000          3650.000000   \n",
       "\n",
       "       avg daily walkins  \n",
       "count         515.000000  \n",
       "mean          598.603883  \n",
       "std            83.487891  \n",
       "min           380.000000  \n",
       "25%           537.500000  \n",
       "50%           601.000000  \n",
       "75%           657.500000  \n",
       "max           838.000000  "
      ]
     },
     "execution_count": 5,
     "metadata": {},
     "output_type": "execute_result"
    }
   ],
   "source": [
    "df.describe()"
   ]
  },
  {
   "cell_type": "code",
   "execution_count": 6,
   "id": "d95fa515",
   "metadata": {},
   "outputs": [],
   "source": [
    "#Feature SClaing\n",
    "\n",
    "from sklearn.preprocessing import StandardScaler\n",
    "\n",
    "sc= StandardScaler()\n",
    "xsc = pd.DataFrame(sc.fit_transform(df.iloc[:,1:6]),columns = df.columns[1:])"
   ]
  },
  {
   "cell_type": "code",
   "execution_count": 7,
   "id": "9be9423f",
   "metadata": {},
   "outputs": [
    {
     "data": {
      "text/html": [
       "<div>\n",
       "<style scoped>\n",
       "    .dataframe tbody tr th:only-of-type {\n",
       "        vertical-align: middle;\n",
       "    }\n",
       "\n",
       "    .dataframe tbody tr th {\n",
       "        vertical-align: top;\n",
       "    }\n",
       "\n",
       "    .dataframe thead th {\n",
       "        text-align: right;\n",
       "    }\n",
       "</style>\n",
       "<table border=\"1\" class=\"dataframe\">\n",
       "  <thead>\n",
       "    <tr style=\"text-align: right;\">\n",
       "      <th></th>\n",
       "      <th>DD</th>\n",
       "      <th>Withdrawals</th>\n",
       "      <th>Deposits</th>\n",
       "      <th>Branch Area in sqft</th>\n",
       "      <th>avg daily walkins</th>\n",
       "    </tr>\n",
       "  </thead>\n",
       "  <tbody>\n",
       "    <tr>\n",
       "      <th>0</th>\n",
       "      <td>-0.078884</td>\n",
       "      <td>-0.064973</td>\n",
       "      <td>1.026024</td>\n",
       "      <td>-1.087101</td>\n",
       "      <td>0.484326</td>\n",
       "    </tr>\n",
       "  </tbody>\n",
       "</table>\n",
       "</div>"
      ],
      "text/plain": [
       "         DD  Withdrawals  Deposits  Branch Area in sqft  avg daily walkins\n",
       "0 -0.078884    -0.064973  1.026024            -1.087101           0.484326"
      ]
     },
     "execution_count": 7,
     "metadata": {},
     "output_type": "execute_result"
    }
   ],
   "source": [
    "xsc.head(1)"
   ]
  },
  {
   "cell_type": "code",
   "execution_count": 8,
   "id": "ec214c18",
   "metadata": {},
   "outputs": [],
   "source": [
    "from sklearn.cluster import KMeans"
   ]
  },
  {
   "cell_type": "code",
   "execution_count": 9,
   "id": "1a195879",
   "metadata": {},
   "outputs": [],
   "source": [
    "wcss = []\n",
    "\n",
    "for i in range(2,15):\n",
    "    kmeans =KMeans(n_clusters =i,random_state=1)\n",
    "    kmeans.fit(xsc)\n",
    "    wcss.append(kmeans.inertia_)"
   ]
  },
  {
   "cell_type": "code",
   "execution_count": 10,
   "id": "e6eb07f3",
   "metadata": {},
   "outputs": [
    {
     "data": {
      "text/plain": [
       "13"
      ]
     },
     "execution_count": 10,
     "metadata": {},
     "output_type": "execute_result"
    }
   ],
   "source": [
    "len(wcss)"
   ]
  },
  {
   "cell_type": "code",
   "execution_count": 11,
   "id": "2b1412d1",
   "metadata": {},
   "outputs": [],
   "source": [
    "abc=[1,2,3,4,5,6,7,8,9,10,11,12,13]"
   ]
  },
  {
   "cell_type": "code",
   "execution_count": 12,
   "id": "88e20a47",
   "metadata": {},
   "outputs": [
    {
     "data": {
      "text/plain": [
       "<AxesSubplot:>"
      ]
     },
     "execution_count": 12,
     "metadata": {},
     "output_type": "execute_result"
    },
    {
     "data": {
      "image/png": "[encoded data removed]",
      "text/plain": [
       "<Figure size 432x288 with 1 Axes>"
      ]
     },
     "metadata": {},
     "output_type": "display_data"
    }
   ],
   "source": [
    "sns.pointplot(abc,wcss)"
   ]
  },
  {
   "cell_type": "code",
   "execution_count": 13,
   "id": "e1d4b498",
   "metadata": {},
   "outputs": [
    {
     "data": {
      "text/plain": [
       "KMeans(n_clusters=6, random_state=1)"
      ]
     },
     "execution_count": 13,
     "metadata": {},
     "output_type": "execute_result"
    }
   ],
   "source": [
    "kmeans = KMeans(n_clusters=6,random_state=1)\n",
    "kmeans.fit(xsc)"
   ]
  },
  {
   "cell_type": "code",
   "execution_count": 14,
   "id": "96cac464",
   "metadata": {},
   "outputs": [],
   "source": [
    "y_cluster = kmeans.fit_predict(xsc)"
   ]
  },
  {
   "cell_type": "code",
   "execution_count": 15,
   "id": "c16a8f8f",
   "metadata": {},
   "outputs": [
    {
     "data": {
      "text/plain": [
       "array([5, 0, 4, 2, 5, 3, 0, 3, 4, 1, 3, 5, 1, 2, 2, 1, 3, 2, 3, 2, 0, 0,\n",
       "       3, 4, 2, 2, 5, 0, 5, 4, 1, 4, 5, 5, 2, 5, 3, 1, 4, 3, 0, 1, 2, 3,\n",
       "       3, 5, 4, 2, 3, 5, 0, 1, 5, 4, 0, 4, 3, 2, 5, 2, 2, 2, 2, 5, 5, 0,\n",
       "       5, 3, 0, 1, 3, 4, 5, 5, 1, 2, 2, 0, 2, 4, 1, 3, 2, 0, 1, 5, 1, 5,\n",
       "       0, 2, 2, 1, 4, 5, 5, 3, 3, 4, 0, 5, 5, 3, 2, 5, 4, 5, 5, 3, 4, 2,\n",
       "       5, 0, 1, 2, 5, 3, 2, 2, 2, 1, 2, 3, 1, 5, 5, 0, 2, 3, 2, 2, 0, 2,\n",
       "       2, 1, 4, 5, 0, 3, 4, 5, 1, 3, 2, 4, 4, 0, 4, 2, 4, 5, 0, 4, 1, 1,\n",
       "       5, 3, 2, 2, 3, 5, 3, 4, 5, 4, 4, 2, 0, 0, 4, 2, 2, 2, 1, 5, 3, 1,\n",
       "       0, 5, 4, 0, 0, 3, 3, 3, 5, 2, 1, 0, 2, 0, 5, 3, 3, 2, 4, 3, 0, 3,\n",
       "       5, 2, 0, 2, 2, 0, 1, 3, 3, 5, 5, 2, 2, 2, 2, 0, 2, 2, 5, 5, 2, 1,\n",
       "       1, 0, 2, 2, 4, 0, 5, 3, 1, 3, 1, 3, 5, 1, 0, 5, 5, 5, 5, 2, 1, 3,\n",
       "       4, 1, 4, 2, 5, 0, 5, 3, 3, 5, 3, 1, 2, 2, 0, 2, 5, 4, 4, 5, 2, 3,\n",
       "       3, 3, 0, 0, 4, 1, 1, 2, 5, 5, 5, 5, 3, 4, 4, 3, 5, 5, 5, 1, 5, 1,\n",
       "       5, 4, 1, 2, 2, 4, 2, 0, 2, 2, 4, 3, 5, 4, 4, 2, 2, 5, 5, 1, 4, 2,\n",
       "       2, 2, 4, 5, 3, 0, 1, 0, 0, 5, 4, 2, 2, 3, 2, 4, 3, 1, 3, 3, 0, 5,\n",
       "       4, 4, 5, 2, 1, 1, 2, 3, 0, 2, 3, 2, 4, 0, 0, 3, 5, 1, 3, 0, 3, 2,\n",
       "       0, 4, 3, 5, 2, 4, 0, 4, 4, 2, 4, 2, 1, 1, 1, 2, 3, 3, 0, 1, 2, 0,\n",
       "       3, 4, 2, 4, 4, 5, 3, 4, 4, 2, 2, 0, 2, 0, 1, 4, 2, 0, 3, 2, 1, 3,\n",
       "       0, 2, 1, 3, 3, 3, 4, 0, 3, 1, 3, 0, 2, 3, 5, 2, 1, 2, 0, 0, 2, 2,\n",
       "       3, 3, 4, 1, 4, 4, 2, 4, 4, 2, 2, 1, 3, 0, 3, 2, 2, 2, 3, 5, 2, 1,\n",
       "       3, 2, 2, 0, 1, 2, 2, 5, 4, 0, 5, 2, 2, 0, 2, 2, 0, 4, 4, 2, 0, 3,\n",
       "       5, 1, 1, 0, 1, 4, 2, 4, 3, 2, 3, 0, 0, 0, 5, 0, 0, 2, 2, 1, 1, 2,\n",
       "       1, 2, 2, 1, 3, 5, 3, 5, 2, 0, 0, 5, 4, 2, 0, 0, 0, 1, 3, 1, 2, 3,\n",
       "       0, 3, 3, 2, 1, 3, 2, 3, 1])"
      ]
     },
     "execution_count": 15,
     "metadata": {},
     "output_type": "execute_result"
    }
   ],
   "source": [
    "y_cluster"
   ]
  },
  {
   "cell_type": "code",
   "execution_count": 16,
   "id": "34d62782",
   "metadata": {},
   "outputs": [],
   "source": [
    "report = pd.concat([df,pd.DataFrame(y_cluster)],axis=1)"
   ]
  },
  {
   "cell_type": "code",
   "execution_count": 17,
   "id": "88357766",
   "metadata": {},
   "outputs": [],
   "source": [
    "final_report = report.to_csv(\"Bank_Cluster.csv\")"
   ]
  },
  {
   "cell_type": "code",
   "execution_count": 21,
   "id": "a10062d2",
   "metadata": {},
   "outputs": [
    {
     "data": {
      "text/html": [
       "<div>\n",
       "<style scoped>\n",
       "    .dataframe tbody tr th:only-of-type {\n",
       "        vertical-align: middle;\n",
       "    }\n",
       "\n",
       "    .dataframe tbody tr th {\n",
       "        vertical-align: top;\n",
       "    }\n",
       "\n",
       "    .dataframe thead th {\n",
       "        text-align: right;\n",
       "    }\n",
       "</style>\n",
       "<table border=\"1\" class=\"dataframe\">\n",
       "  <thead>\n",
       "    <tr style=\"text-align: right;\">\n",
       "      <th></th>\n",
       "      <th>Bank</th>\n",
       "      <th>DD</th>\n",
       "      <th>Withdrawals</th>\n",
       "      <th>Deposits</th>\n",
       "      <th>Branch Area in sqft</th>\n",
       "      <th>avg daily walkins</th>\n",
       "      <th>Cluster</th>\n",
       "    </tr>\n",
       "  </thead>\n",
       "  <tbody>\n",
       "    <tr>\n",
       "      <th>0</th>\n",
       "      <td>1</td>\n",
       "      <td>227</td>\n",
       "      <td>147</td>\n",
       "      <td>111</td>\n",
       "      <td>2460</td>\n",
       "      <td>639</td>\n",
       "      <td>5</td>\n",
       "    </tr>\n",
       "  </tbody>\n",
       "</table>\n",
       "</div>"
      ],
      "text/plain": [
       "   Bank   DD  Withdrawals  Deposits  Branch Area in sqft  avg daily walkins  \\\n",
       "0     1  227          147       111                 2460                639   \n",
       "\n",
       "   Cluster  \n",
       "0        5  "
      ]
     },
     "execution_count": 21,
     "metadata": {},
     "output_type": "execute_result"
    }
   ],
   "source": [
    "report.rename(columns = {0:'Cluster'},inplace = True)\n",
    "report.head(1)"
   ]
  },
  {
   "cell_type": "code",
   "execution_count": 69,
   "id": "1f612cf9",
   "metadata": {},
   "outputs": [
    {
     "data": {
      "text/plain": [
       "<AxesSubplot:>"
      ]
     },
     "execution_count": 69,
     "metadata": {},
     "output_type": "execute_result"
    },
    {
     "data": {
      "image/png": "[encoded data removed]",
      "text/plain": [
       "<Figure size 432x288 with 1 Axes>"
      ]
     },
     "metadata": {},
     "output_type": "display_data"
    }
   ],
   "source": [
    "# plt.pie(report['Cluster'].value_counts().sum())\n",
    "(report['Cluster'].value_counts()/len(report)).plot(kind='bar')"
   ]
  },
  {
   "cell_type": "code",
   "execution_count": 71,
   "id": "8a75d080",
   "metadata": {},
   "outputs": [
    {
     "data": {
      "image/png": "[encoded data removed]",
      "text/plain": [
       "<Figure size 432x288 with 1 Axes>"
      ]
     },
     "metadata": {},
     "output_type": "display_data"
    }
   ],
   "source": [
    "clu_deposit = (pd.crosstab(report['Cluster'],report['Deposits'].sum()).plot(kind='bar',cmap = 'cool'))"
   ]
  },
  {
   "cell_type": "code",
   "execution_count": 72,
   "id": "efc18742",
   "metadata": {},
   "outputs": [
    {
     "data": {
      "image/png": "[encoded data removed]",
      "text/plain": [
       "<Figure size 432x288 with 1 Axes>"
      ]
     },
     "metadata": {},
     "output_type": "display_data"
    }
   ],
   "source": [
    "clu_with= (pd.crosstab(report['Cluster'],report['Withdrawals'].sum()).plot(kind='bar'))"
   ]
  },
  {
   "cell_type": "code",
   "execution_count": 73,
   "id": "d1080155",
   "metadata": {},
   "outputs": [
    {
     "data": {
      "image/png": "[encoded data removed]",
      "text/plain": [
       "<Figure size 432x288 with 1 Axes>"
      ]
     },
     "metadata": {},
     "output_type": "display_data"
    }
   ],
   "source": [
    "clu_dd = (pd.crosstab(report['Cluster'],report['DD'].sum()).plot(kind='bar',cmap='summer'))"
   ]
  },
  {
   "cell_type": "code",
   "execution_count": 74,
   "id": "7ccf278a",
   "metadata": {},
   "outputs": [
    {
     "data": {
      "image/png": "[encoded data removed]",
      "text/plain": [
       "<Figure size 432x288 with 1 Axes>"
      ]
     },
     "metadata": {},
     "output_type": "display_data"
    }
   ],
   "source": [
    "clu_walkin = (pd.crosstab(report['Cluster'],report['avg daily walkins'].sum()).plot(kind='bar',cmap='prism'))"
   ]
  },
  {
   "cell_type": "code",
   "execution_count": 77,
   "id": "37f1523c",
   "metadata": {},
   "outputs": [
    {
     "data": {
      "image/png": "[encoded data removed]",
      "text/plain": [
       "<Figure size 432x288 with 1 Axes>"
      ]
     },
     "metadata": {},
     "output_type": "display_data"
    }
   ],
   "source": [
    "clu_brcharea = (pd.crosstab(report['Cluster'],report['Branch Area in sqft'].sum()).plot(kind='bar',cmap='prism_r'))"
   ]
  },
  {
   "cell_type": "markdown",
   "id": "5b961cc0",
   "metadata": {},
   "source": [
    "# Insight\n",
    "\n",
    "Cluster 2 has the maximum everything. ALl banks lying in cluster 2 are the best and most used banks."
   ]
  },
  {
   "cell_type": "code",
   "execution_count": 80,
   "id": "85b308e3",
   "metadata": {},
   "outputs": [
    {
     "data": {
      "text/html": [
       "<div>\n",
       "<style scoped>\n",
       "    .dataframe tbody tr th:only-of-type {\n",
       "        vertical-align: middle;\n",
       "    }\n",
       "\n",
       "    .dataframe tbody tr th {\n",
       "        vertical-align: top;\n",
       "    }\n",
       "\n",
       "    .dataframe thead th {\n",
       "        text-align: right;\n",
       "    }\n",
       "</style>\n",
       "<table border=\"1\" class=\"dataframe\">\n",
       "  <thead>\n",
       "    <tr style=\"text-align: right;\">\n",
       "      <th></th>\n",
       "      <th>Bank</th>\n",
       "      <th>DD</th>\n",
       "      <th>Withdrawals</th>\n",
       "      <th>Deposits</th>\n",
       "      <th>Branch Area in sqft</th>\n",
       "      <th>avg daily walkins</th>\n",
       "      <th>Cluster</th>\n",
       "    </tr>\n",
       "  </thead>\n",
       "  <tbody>\n",
       "    <tr>\n",
       "      <th>3</th>\n",
       "      <td>4</td>\n",
       "      <td>251</td>\n",
       "      <td>112</td>\n",
       "      <td>129</td>\n",
       "      <td>3650</td>\n",
       "      <td>623</td>\n",
       "      <td>2</td>\n",
       "    </tr>\n",
       "    <tr>\n",
       "      <th>13</th>\n",
       "      <td>14</td>\n",
       "      <td>249</td>\n",
       "      <td>58</td>\n",
       "      <td>138</td>\n",
       "      <td>3550</td>\n",
       "      <td>586</td>\n",
       "      <td>2</td>\n",
       "    </tr>\n",
       "    <tr>\n",
       "      <th>14</th>\n",
       "      <td>15</td>\n",
       "      <td>332</td>\n",
       "      <td>92</td>\n",
       "      <td>111</td>\n",
       "      <td>3020</td>\n",
       "      <td>663</td>\n",
       "      <td>2</td>\n",
       "    </tr>\n",
       "    <tr>\n",
       "      <th>17</th>\n",
       "      <td>18</td>\n",
       "      <td>259</td>\n",
       "      <td>59</td>\n",
       "      <td>81</td>\n",
       "      <td>2740</td>\n",
       "      <td>520</td>\n",
       "      <td>2</td>\n",
       "    </tr>\n",
       "    <tr>\n",
       "      <th>19</th>\n",
       "      <td>20</td>\n",
       "      <td>295</td>\n",
       "      <td>76</td>\n",
       "      <td>77</td>\n",
       "      <td>3010</td>\n",
       "      <td>613</td>\n",
       "      <td>2</td>\n",
       "    </tr>\n",
       "    <tr>\n",
       "      <th>...</th>\n",
       "      <td>...</td>\n",
       "      <td>...</td>\n",
       "      <td>...</td>\n",
       "      <td>...</td>\n",
       "      <td>...</td>\n",
       "      <td>...</td>\n",
       "      <td>...</td>\n",
       "    </tr>\n",
       "    <tr>\n",
       "      <th>492</th>\n",
       "      <td>493</td>\n",
       "      <td>321</td>\n",
       "      <td>66</td>\n",
       "      <td>80</td>\n",
       "      <td>3030</td>\n",
       "      <td>560</td>\n",
       "      <td>2</td>\n",
       "    </tr>\n",
       "    <tr>\n",
       "      <th>497</th>\n",
       "      <td>498</td>\n",
       "      <td>290</td>\n",
       "      <td>96</td>\n",
       "      <td>118</td>\n",
       "      <td>2850</td>\n",
       "      <td>619</td>\n",
       "      <td>2</td>\n",
       "    </tr>\n",
       "    <tr>\n",
       "      <th>504</th>\n",
       "      <td>505</td>\n",
       "      <td>242</td>\n",
       "      <td>157</td>\n",
       "      <td>74</td>\n",
       "      <td>2840</td>\n",
       "      <td>599</td>\n",
       "      <td>2</td>\n",
       "    </tr>\n",
       "    <tr>\n",
       "      <th>509</th>\n",
       "      <td>510</td>\n",
       "      <td>298</td>\n",
       "      <td>96</td>\n",
       "      <td>72</td>\n",
       "      <td>3340</td>\n",
       "      <td>585</td>\n",
       "      <td>2</td>\n",
       "    </tr>\n",
       "    <tr>\n",
       "      <th>512</th>\n",
       "      <td>513</td>\n",
       "      <td>333</td>\n",
       "      <td>86</td>\n",
       "      <td>108</td>\n",
       "      <td>2850</td>\n",
       "      <td>676</td>\n",
       "      <td>2</td>\n",
       "    </tr>\n",
       "  </tbody>\n",
       "</table>\n",
       "<p>126 rows × 7 columns</p>\n",
       "</div>"
      ],
      "text/plain": [
       "     Bank   DD  Withdrawals  Deposits  Branch Area in sqft  avg daily walkins  \\\n",
       "3       4  251          112       129                 3650                623   \n",
       "13     14  249           58       138                 3550                586   \n",
       "14     15  332           92       111                 3020                663   \n",
       "17     18  259           59        81                 2740                520   \n",
       "19     20  295           76        77                 3010                613   \n",
       "..    ...  ...          ...       ...                  ...                ...   \n",
       "492   493  321           66        80                 3030                560   \n",
       "497   498  290           96       118                 2850                619   \n",
       "504   505  242          157        74                 2840                599   \n",
       "509   510  298           96        72                 3340                585   \n",
       "512   513  333           86       108                 2850                676   \n",
       "\n",
       "     Cluster  \n",
       "3          2  \n",
       "13         2  \n",
       "14         2  \n",
       "17         2  \n",
       "19         2  \n",
       "..       ...  \n",
       "492        2  \n",
       "497        2  \n",
       "504        2  \n",
       "509        2  \n",
       "512        2  \n",
       "\n",
       "[126 rows x 7 columns]"
      ]
     },
     "execution_count": 80,
     "metadata": {},
     "output_type": "execute_result"
    }
   ],
   "source": [
    "# Banks which are under cluster 2 are:\n",
    "\n",
    "banks = report[report['Cluster']==2]\n",
    "banks"
   ]
  },
  {
   "cell_type": "markdown",
   "id": "7ec79b8b",
   "metadata": {},
   "source": [
    "# Done"
   ]
  }
 ],
 "metadata": {
  "kernelspec": {
   "display_name": "Python 3 (ipykernel)",
   "language": "python",
   "name": "python3"
  },
  "language_info": {
   "codemirror_mode": {
    "name": "ipython",
    "version": 3
   },
   "file_extension": ".py",
   "mimetype": "text/x-python",
   "name": "python",
   "nbconvert_exporter": "python",
   "pygments_lexer": "ipython3",
   "version": "3.9.12"
  }
 },
 "nbformat": 4,
 "nbformat_minor": 5
}
