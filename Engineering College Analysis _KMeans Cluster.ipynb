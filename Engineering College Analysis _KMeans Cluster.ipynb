{
 "cells": [
  {
   "cell_type": "code",
   "execution_count": 1,
   "id": "2164f766",
   "metadata": {},
   "outputs": [],
   "source": [
    "import os, sys\n",
    "import numpy as np\n",
    "import pandas as pd\n",
    "import matplotlib.pyplot as plt\n",
    "import seaborn as sns\n",
    "%matplotlib inline\n",
    "import warnings\n",
    "warnings.filterwarnings('ignore')"
   ]
  },
  {
   "cell_type": "code",
   "execution_count": 3,
   "id": "d24f9f01",
   "metadata": {},
   "outputs": [
    {
     "data": {
      "text/html": [
       "<div>\n",
       "<style scoped>\n",
       "    .dataframe tbody tr th:only-of-type {\n",
       "        vertical-align: middle;\n",
       "    }\n",
       "\n",
       "    .dataframe tbody tr th {\n",
       "        vertical-align: top;\n",
       "    }\n",
       "\n",
       "    .dataframe thead th {\n",
       "        text-align: right;\n",
       "    }\n",
       "</style>\n",
       "<table border=\"1\" class=\"dataframe\">\n",
       "  <thead>\n",
       "    <tr style=\"text-align: right;\">\n",
       "      <th></th>\n",
       "      <th>SR_NO</th>\n",
       "      <th>Engg_College</th>\n",
       "      <th>Teaching</th>\n",
       "      <th>Fees</th>\n",
       "      <th>Placements</th>\n",
       "      <th>Internship</th>\n",
       "      <th>Infrastructure</th>\n",
       "    </tr>\n",
       "  </thead>\n",
       "  <tbody>\n",
       "    <tr>\n",
       "      <th>0</th>\n",
       "      <td>1</td>\n",
       "      <td>A</td>\n",
       "      <td>5</td>\n",
       "      <td>2</td>\n",
       "      <td>5</td>\n",
       "      <td>5</td>\n",
       "      <td>3</td>\n",
       "    </tr>\n",
       "    <tr>\n",
       "      <th>1</th>\n",
       "      <td>2</td>\n",
       "      <td>B</td>\n",
       "      <td>4</td>\n",
       "      <td>2</td>\n",
       "      <td>5</td>\n",
       "      <td>5</td>\n",
       "      <td>3</td>\n",
       "    </tr>\n",
       "  </tbody>\n",
       "</table>\n",
       "</div>"
      ],
      "text/plain": [
       "   SR_NO Engg_College  Teaching  Fees  Placements  Internship  Infrastructure\n",
       "0      1            A         5     2           5           5               3\n",
       "1      2            B         4     2           5           5               3"
      ]
     },
     "execution_count": 3,
     "metadata": {},
     "output_type": "execute_result"
    }
   ],
   "source": [
    "df= pd.read_csv(\"E:\\\\LEARNBAY\\\\Projects\\\\April\\\\Engg_College_Data.csv\")\n",
    "df.head(2)"
   ]
  },
  {
   "cell_type": "code",
   "execution_count": 4,
   "id": "0fe4d861",
   "metadata": {},
   "outputs": [
    {
     "data": {
      "text/plain": [
       "SR_NO             0\n",
       "Engg_College      0\n",
       "Teaching          0\n",
       "Fees              0\n",
       "Placements        0\n",
       "Internship        0\n",
       "Infrastructure    0\n",
       "dtype: int64"
      ]
     },
     "execution_count": 4,
     "metadata": {},
     "output_type": "execute_result"
    }
   ],
   "source": [
    "df.isnull().sum()"
   ]
  },
  {
   "cell_type": "code",
   "execution_count": 6,
   "id": "64b4c7dd",
   "metadata": {},
   "outputs": [
    {
     "name": "stdout",
     "output_type": "stream",
     "text": [
      "<class 'pandas.core.frame.DataFrame'>\n",
      "RangeIndex: 26 entries, 0 to 25\n",
      "Data columns (total 7 columns):\n",
      " #   Column          Non-Null Count  Dtype \n",
      "---  ------          --------------  ----- \n",
      " 0   SR_NO           26 non-null     int64 \n",
      " 1   Engg_College    26 non-null     object\n",
      " 2   Teaching        26 non-null     int64 \n",
      " 3   Fees            26 non-null     int64 \n",
      " 4   Placements      26 non-null     int64 \n",
      " 5   Internship      26 non-null     int64 \n",
      " 6   Infrastructure  26 non-null     int64 \n",
      "dtypes: int64(6), object(1)\n",
      "memory usage: 1.5+ KB\n"
     ]
    }
   ],
   "source": [
    "df.info()"
   ]
  },
  {
   "cell_type": "code",
   "execution_count": 5,
   "id": "a95dfa68",
   "metadata": {},
   "outputs": [
    {
     "data": {
      "text/html": [
       "<div>\n",
       "<style scoped>\n",
       "    .dataframe tbody tr th:only-of-type {\n",
       "        vertical-align: middle;\n",
       "    }\n",
       "\n",
       "    .dataframe tbody tr th {\n",
       "        vertical-align: top;\n",
       "    }\n",
       "\n",
       "    .dataframe thead th {\n",
       "        text-align: right;\n",
       "    }\n",
       "</style>\n",
       "<table border=\"1\" class=\"dataframe\">\n",
       "  <thead>\n",
       "    <tr style=\"text-align: right;\">\n",
       "      <th></th>\n",
       "      <th>SR_NO</th>\n",
       "      <th>Teaching</th>\n",
       "      <th>Fees</th>\n",
       "      <th>Placements</th>\n",
       "      <th>Internship</th>\n",
       "      <th>Infrastructure</th>\n",
       "    </tr>\n",
       "  </thead>\n",
       "  <tbody>\n",
       "    <tr>\n",
       "      <th>count</th>\n",
       "      <td>26.000000</td>\n",
       "      <td>26.000000</td>\n",
       "      <td>26.000000</td>\n",
       "      <td>26.000000</td>\n",
       "      <td>26.000000</td>\n",
       "      <td>26.000000</td>\n",
       "    </tr>\n",
       "    <tr>\n",
       "      <th>mean</th>\n",
       "      <td>13.500000</td>\n",
       "      <td>2.807692</td>\n",
       "      <td>3.576923</td>\n",
       "      <td>2.884615</td>\n",
       "      <td>2.769231</td>\n",
       "      <td>3.384615</td>\n",
       "    </tr>\n",
       "    <tr>\n",
       "      <th>std</th>\n",
       "      <td>7.648529</td>\n",
       "      <td>1.132051</td>\n",
       "      <td>1.331858</td>\n",
       "      <td>1.531716</td>\n",
       "      <td>1.242826</td>\n",
       "      <td>1.298520</td>\n",
       "    </tr>\n",
       "    <tr>\n",
       "      <th>min</th>\n",
       "      <td>1.000000</td>\n",
       "      <td>1.000000</td>\n",
       "      <td>1.000000</td>\n",
       "      <td>1.000000</td>\n",
       "      <td>1.000000</td>\n",
       "      <td>1.000000</td>\n",
       "    </tr>\n",
       "    <tr>\n",
       "      <th>25%</th>\n",
       "      <td>7.250000</td>\n",
       "      <td>2.000000</td>\n",
       "      <td>2.250000</td>\n",
       "      <td>1.250000</td>\n",
       "      <td>2.000000</td>\n",
       "      <td>3.000000</td>\n",
       "    </tr>\n",
       "    <tr>\n",
       "      <th>50%</th>\n",
       "      <td>13.500000</td>\n",
       "      <td>3.000000</td>\n",
       "      <td>4.000000</td>\n",
       "      <td>3.000000</td>\n",
       "      <td>2.000000</td>\n",
       "      <td>3.000000</td>\n",
       "    </tr>\n",
       "    <tr>\n",
       "      <th>75%</th>\n",
       "      <td>19.750000</td>\n",
       "      <td>3.000000</td>\n",
       "      <td>5.000000</td>\n",
       "      <td>4.000000</td>\n",
       "      <td>4.000000</td>\n",
       "      <td>4.750000</td>\n",
       "    </tr>\n",
       "    <tr>\n",
       "      <th>max</th>\n",
       "      <td>26.000000</td>\n",
       "      <td>5.000000</td>\n",
       "      <td>5.000000</td>\n",
       "      <td>5.000000</td>\n",
       "      <td>5.000000</td>\n",
       "      <td>5.000000</td>\n",
       "    </tr>\n",
       "  </tbody>\n",
       "</table>\n",
       "</div>"
      ],
      "text/plain": [
       "           SR_NO   Teaching       Fees  Placements  Internship  Infrastructure\n",
       "count  26.000000  26.000000  26.000000   26.000000   26.000000       26.000000\n",
       "mean   13.500000   2.807692   3.576923    2.884615    2.769231        3.384615\n",
       "std     7.648529   1.132051   1.331858    1.531716    1.242826        1.298520\n",
       "min     1.000000   1.000000   1.000000    1.000000    1.000000        1.000000\n",
       "25%     7.250000   2.000000   2.250000    1.250000    2.000000        3.000000\n",
       "50%    13.500000   3.000000   4.000000    3.000000    2.000000        3.000000\n",
       "75%    19.750000   3.000000   5.000000    4.000000    4.000000        4.750000\n",
       "max    26.000000   5.000000   5.000000    5.000000    5.000000        5.000000"
      ]
     },
     "execution_count": 5,
     "metadata": {},
     "output_type": "execute_result"
    }
   ],
   "source": [
    "df.describe()"
   ]
  },
  {
   "cell_type": "markdown",
   "id": "1ca034bc",
   "metadata": {},
   "source": [
    "1. No missing data\n",
    "2. No outlier treatment required in clustering....if many outliers then follow the process of DBSCAN(Density Based Special\n",
    "cluster apllication with noise) \n",
    "3. No encoding required....as most of the data is numeric...only eng college name is categoriacl..\n",
    "4. No imbalance data check...as no target variable present. \n",
    "5. No need of feature scaling as all the data is falling in approximately same range. \n",
    "\n",
    "Pre-processing is done"
   ]
  },
  {
   "cell_type": "code",
   "execution_count": 16,
   "id": "bf3604a5",
   "metadata": {},
   "outputs": [
    {
     "data": {
      "text/plain": [
       "array([[5, 2, 5, 5, 3],\n",
       "       [4, 2, 5, 5, 3],\n",
       "       [4, 5, 5, 4, 5],\n",
       "       [5, 4, 5, 4, 4],\n",
       "       [2, 5, 2, 2, 5],\n",
       "       [3, 4, 3, 3, 4],\n",
       "       [1, 3, 1, 1, 2],\n",
       "       [4, 4, 5, 5, 5],\n",
       "       [4, 4, 4, 4, 4],\n",
       "       [3, 4, 3, 4, 5],\n",
       "       [3, 4, 3, 4, 5],\n",
       "       [2, 5, 3, 2, 3],\n",
       "       [1, 5, 1, 2, 2],\n",
       "       [3, 5, 3, 3, 4],\n",
       "       [3, 2, 2, 2, 3],\n",
       "       [3, 3, 2, 2, 3],\n",
       "       [3, 3, 1, 2, 3],\n",
       "       [3, 4, 4, 3, 3],\n",
       "       [3, 5, 4, 3, 3],\n",
       "       [3, 5, 3, 2, 3],\n",
       "       [2, 2, 2, 2, 1],\n",
       "       [2, 2, 1, 2, 1],\n",
       "       [2, 5, 1, 1, 1],\n",
       "       [1, 1, 1, 2, 5],\n",
       "       [1, 1, 1, 1, 5],\n",
       "       [3, 4, 5, 2, 3]], dtype=int64)"
      ]
     },
     "execution_count": 16,
     "metadata": {},
     "output_type": "execute_result"
    }
   ],
   "source": [
    "x = df.iloc[:,2:].values\n",
    "x"
   ]
  },
  {
   "cell_type": "code",
   "execution_count": 9,
   "id": "c35aae71",
   "metadata": {},
   "outputs": [],
   "source": [
    "from sklearn.cluster import KMeans"
   ]
  },
  {
   "cell_type": "code",
   "execution_count": 17,
   "id": "2a3c3085",
   "metadata": {},
   "outputs": [],
   "source": [
    "wcss = []\n",
    "\n",
    "for i in range(2,15):\n",
    "    kmeans = KMeans(n_clusters = i,random_state=1)\n",
    "    kmeans.fit(x)\n",
    "    wcss.append(kmeans.inertia_)"
   ]
  },
  {
   "cell_type": "code",
   "execution_count": 18,
   "id": "12f5bbf9",
   "metadata": {},
   "outputs": [],
   "source": [
    "abc = [1,2,3,4,5,6,7,8,9,10,11,12,13]"
   ]
  },
  {
   "cell_type": "code",
   "execution_count": 19,
   "id": "868b1579",
   "metadata": {},
   "outputs": [
    {
     "data": {
      "text/plain": [
       "<AxesSubplot:>"
      ]
     },
     "execution_count": 19,
     "metadata": {},
     "output_type": "execute_result"
    },
    {
     "data": {
      "image/png": "[encoded data removed]",
      "text/plain": [
       "<Figure size 432x288 with 1 Axes>"
      ]
     },
     "metadata": {
      "needs_background": "light"
     },
     "output_type": "display_data"
    }
   ],
   "source": [
    "sns.pointplot(abc,wcss)"
   ]
  },
  {
   "cell_type": "code",
   "execution_count": 20,
   "id": "0c232e72",
   "metadata": {},
   "outputs": [
    {
     "data": {
      "text/plain": [
       "KMeans(n_clusters=5, random_state=1)"
      ]
     },
     "execution_count": 20,
     "metadata": {},
     "output_type": "execute_result"
    }
   ],
   "source": [
    "kmeans = KMeans(n_clusters= 5,random_state=1)\n",
    "kmeans.fit(x)"
   ]
  },
  {
   "cell_type": "code",
   "execution_count": 21,
   "id": "a8e1ed53",
   "metadata": {},
   "outputs": [],
   "source": [
    "y_cluster = kmeans.fit_predict(x)"
   ]
  },
  {
   "cell_type": "code",
   "execution_count": 22,
   "id": "ab23dd2a",
   "metadata": {},
   "outputs": [],
   "source": [
    "report = pd.concat([df,pd.DataFrame(y_cluster)],axis=1)"
   ]
  },
  {
   "cell_type": "code",
   "execution_count": 23,
   "id": "5e0ef89d",
   "metadata": {},
   "outputs": [],
   "source": [
    "final_report = report.to_csv(\"Eng_College_Cluster.csv\")"
   ]
  },
  {
   "cell_type": "code",
   "execution_count": 33,
   "id": "48e79a1f",
   "metadata": {},
   "outputs": [],
   "source": [
    "final = pd.read_csv(\"C:\\\\Users\\\\Swarn\\\\Downloads\\\\Eng_College_Cluster.csv\")"
   ]
  },
  {
   "cell_type": "code",
   "execution_count": 34,
   "id": "4c6566dc",
   "metadata": {},
   "outputs": [
    {
     "data": {
      "text/html": [
       "<div>\n",
       "<style scoped>\n",
       "    .dataframe tbody tr th:only-of-type {\n",
       "        vertical-align: middle;\n",
       "    }\n",
       "\n",
       "    .dataframe tbody tr th {\n",
       "        vertical-align: top;\n",
       "    }\n",
       "\n",
       "    .dataframe thead th {\n",
       "        text-align: right;\n",
       "    }\n",
       "</style>\n",
       "<table border=\"1\" class=\"dataframe\">\n",
       "  <thead>\n",
       "    <tr style=\"text-align: right;\">\n",
       "      <th></th>\n",
       "      <th>Unnamed: 0</th>\n",
       "      <th>SR_NO</th>\n",
       "      <th>Engg_College</th>\n",
       "      <th>Teaching</th>\n",
       "      <th>Fees</th>\n",
       "      <th>Placements</th>\n",
       "      <th>Internship</th>\n",
       "      <th>Infrastructure</th>\n",
       "      <th>0</th>\n",
       "    </tr>\n",
       "  </thead>\n",
       "  <tbody>\n",
       "    <tr>\n",
       "      <th>0</th>\n",
       "      <td>0</td>\n",
       "      <td>1</td>\n",
       "      <td>A</td>\n",
       "      <td>5</td>\n",
       "      <td>2</td>\n",
       "      <td>5</td>\n",
       "      <td>5</td>\n",
       "      <td>3</td>\n",
       "      <td>2</td>\n",
       "    </tr>\n",
       "    <tr>\n",
       "      <th>1</th>\n",
       "      <td>1</td>\n",
       "      <td>2</td>\n",
       "      <td>B</td>\n",
       "      <td>4</td>\n",
       "      <td>2</td>\n",
       "      <td>5</td>\n",
       "      <td>5</td>\n",
       "      <td>3</td>\n",
       "      <td>2</td>\n",
       "    </tr>\n",
       "    <tr>\n",
       "      <th>2</th>\n",
       "      <td>2</td>\n",
       "      <td>3</td>\n",
       "      <td>C</td>\n",
       "      <td>4</td>\n",
       "      <td>5</td>\n",
       "      <td>5</td>\n",
       "      <td>4</td>\n",
       "      <td>5</td>\n",
       "      <td>2</td>\n",
       "    </tr>\n",
       "    <tr>\n",
       "      <th>3</th>\n",
       "      <td>3</td>\n",
       "      <td>4</td>\n",
       "      <td>D</td>\n",
       "      <td>5</td>\n",
       "      <td>4</td>\n",
       "      <td>5</td>\n",
       "      <td>4</td>\n",
       "      <td>4</td>\n",
       "      <td>2</td>\n",
       "    </tr>\n",
       "    <tr>\n",
       "      <th>4</th>\n",
       "      <td>4</td>\n",
       "      <td>5</td>\n",
       "      <td>E</td>\n",
       "      <td>2</td>\n",
       "      <td>5</td>\n",
       "      <td>2</td>\n",
       "      <td>2</td>\n",
       "      <td>5</td>\n",
       "      <td>0</td>\n",
       "    </tr>\n",
       "  </tbody>\n",
       "</table>\n",
       "</div>"
      ],
      "text/plain": [
       "   Unnamed: 0  SR_NO Engg_College  Teaching  Fees  Placements  Internship  \\\n",
       "0           0      1            A         5     2           5           5   \n",
       "1           1      2            B         4     2           5           5   \n",
       "2           2      3            C         4     5           5           4   \n",
       "3           3      4            D         5     4           5           4   \n",
       "4           4      5            E         2     5           2           2   \n",
       "\n",
       "   Infrastructure  0  \n",
       "0               3  2  \n",
       "1               3  2  \n",
       "2               5  2  \n",
       "3               4  2  \n",
       "4               5  0  "
      ]
     },
     "execution_count": 34,
     "metadata": {},
     "output_type": "execute_result"
    }
   ],
   "source": [
    "final.head()"
   ]
  },
  {
   "cell_type": "code",
   "execution_count": 37,
   "id": "2288a091",
   "metadata": {},
   "outputs": [
    {
     "data": {
      "text/html": [
       "<div>\n",
       "<style scoped>\n",
       "    .dataframe tbody tr th:only-of-type {\n",
       "        vertical-align: middle;\n",
       "    }\n",
       "\n",
       "    .dataframe tbody tr th {\n",
       "        vertical-align: top;\n",
       "    }\n",
       "\n",
       "    .dataframe thead th {\n",
       "        text-align: right;\n",
       "    }\n",
       "</style>\n",
       "<table border=\"1\" class=\"dataframe\">\n",
       "  <thead>\n",
       "    <tr style=\"text-align: right;\">\n",
       "      <th></th>\n",
       "      <th>Unnamed: 0</th>\n",
       "      <th>SR_NO</th>\n",
       "      <th>Engg_College</th>\n",
       "      <th>Teaching</th>\n",
       "      <th>Fees</th>\n",
       "      <th>Placements</th>\n",
       "      <th>Internship</th>\n",
       "      <th>Infrastructure</th>\n",
       "      <th>Cluster</th>\n",
       "    </tr>\n",
       "  </thead>\n",
       "  <tbody>\n",
       "    <tr>\n",
       "      <th>0</th>\n",
       "      <td>0</td>\n",
       "      <td>1</td>\n",
       "      <td>A</td>\n",
       "      <td>5</td>\n",
       "      <td>2</td>\n",
       "      <td>5</td>\n",
       "      <td>5</td>\n",
       "      <td>3</td>\n",
       "      <td>2</td>\n",
       "    </tr>\n",
       "  </tbody>\n",
       "</table>\n",
       "</div>"
      ],
      "text/plain": [
       "   Unnamed: 0  SR_NO Engg_College  Teaching  Fees  Placements  Internship  \\\n",
       "0           0      1            A         5     2           5           5   \n",
       "\n",
       "   Infrastructure  Cluster  \n",
       "0               3        2  "
      ]
     },
     "execution_count": 37,
     "metadata": {},
     "output_type": "execute_result"
    }
   ],
   "source": [
    "final.rename(columns = {'0':'Cluster'},inplace=True)\n",
    "final.head(1)"
   ]
  },
  {
   "cell_type": "code",
   "execution_count": 61,
   "id": "49329cca",
   "metadata": {},
   "outputs": [
    {
     "data": {
      "text/plain": [
       "<AxesSubplot:xlabel='Cluster'>"
      ]
     },
     "execution_count": 61,
     "metadata": {},
     "output_type": "execute_result"
    },
    {
     "data": {
      "image/png": "[encoded data removed]",
      "text/plain": [
       "<Figure size 432x288 with 1 Axes>"
      ]
     },
     "metadata": {
      "needs_background": "light"
     },
     "output_type": "display_data"
    }
   ],
   "source": [
    "clu = pd.DataFrame(pd.crosstab(final['Cluster'],final['Teaching']))\n",
    "clu.plot(kind='bar')"
   ]
  },
  {
   "cell_type": "code",
   "execution_count": 77,
   "id": "7c5463b9",
   "metadata": {},
   "outputs": [
    {
     "data": {
      "text/plain": [
       "<AxesSubplot:xlabel='Cluster'>"
      ]
     },
     "execution_count": 77,
     "metadata": {},
     "output_type": "execute_result"
    },
    {
     "data": {
      "image/png": "[encoded data removed]",
      "text/plain": [
       "<Figure size 432x288 with 1 Axes>"
      ]
     },
     "metadata": {
      "needs_background": "light"
     },
     "output_type": "display_data"
    }
   ],
   "source": [
    "fee = pd.DataFrame(pd.crosstab(final['Cluster'],final['Fees']))\n",
    "fee.plot(kind='bar')"
   ]
  },
  {
   "cell_type": "code",
   "execution_count": 74,
   "id": "cddee7ba",
   "metadata": {},
   "outputs": [
    {
     "data": {
      "text/plain": [
       "<AxesSubplot:xlabel='Cluster'>"
      ]
     },
     "execution_count": 74,
     "metadata": {},
     "output_type": "execute_result"
    },
    {
     "data": {
      "image/png": "[encoded data removed]",
      "text/plain": [
       "<Figure size 432x288 with 1 Axes>"
      ]
     },
     "metadata": {
      "needs_background": "light"
     },
     "output_type": "display_data"
    }
   ],
   "source": [
    "plmnt = pd.crosstab(final['Cluster'],final['Placements'])\n",
    "plmnt.plot(kind='bar')"
   ]
  },
  {
   "cell_type": "code",
   "execution_count": 75,
   "id": "e484b232",
   "metadata": {},
   "outputs": [
    {
     "data": {
      "text/plain": [
       "<AxesSubplot:xlabel='Cluster'>"
      ]
     },
     "execution_count": 75,
     "metadata": {},
     "output_type": "execute_result"
    },
    {
     "data": {
      "image/png": "[encoded data removed]",
      "text/plain": [
       "<Figure size 432x288 with 1 Axes>"
      ]
     },
     "metadata": {
      "needs_background": "light"
     },
     "output_type": "display_data"
    }
   ],
   "source": [
    "inrt = pd.crosstab(final['Cluster'],final['Internship'])\n",
    "inrt.plot(kind='bar')"
   ]
  },
  {
   "cell_type": "code",
   "execution_count": 76,
   "id": "89814cd9",
   "metadata": {},
   "outputs": [
    {
     "data": {
      "text/plain": [
       "<AxesSubplot:xlabel='Cluster'>"
      ]
     },
     "execution_count": 76,
     "metadata": {},
     "output_type": "execute_result"
    },
    {
     "data": {
      "image/png": "[encoded data removed]",
      "text/plain": [
       "<Figure size 432x288 with 1 Axes>"
      ]
     },
     "metadata": {
      "needs_background": "light"
     },
     "output_type": "display_data"
    }
   ],
   "source": [
    "infra = pd.crosstab(final['Cluster'],final['Infrastructure'])\n",
    "infra.plot(kind='bar')"
   ]
  },
  {
   "cell_type": "markdown",
   "id": "ffc33c29",
   "metadata": {},
   "source": [
    "CLuster 0 has highest teaching, highest fees, highest placement and highest ranking for infra.(considering 5 is most satisfied).\n",
    "Rest follows. "
   ]
  },
  {
   "cell_type": "markdown",
   "id": "95e325e2",
   "metadata": {},
   "source": [
    "# Done."
   ]
  }
 ],
 "metadata": {
  "kernelspec": {
   "display_name": "Python 3 (ipykernel)",
   "language": "python",
   "name": "python3"
  },
  "language_info": {
   "codemirror_mode": {
    "name": "ipython",
    "version": 3
   },
   "file_extension": ".py",
   "mimetype": "text/x-python",
   "name": "python",
   "nbconvert_exporter": "python",
   "pygments_lexer": "ipython3",
   "version": "3.9.12"
  }
 },
 "nbformat": 4,
 "nbformat_minor": 5
}
